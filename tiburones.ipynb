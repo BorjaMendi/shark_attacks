{
 "cells": [
  {
   "cell_type": "markdown",
   "metadata": {},
   "source": [
    "## Primero instalamos el xlrd para que VSC lea el excel antiguo"
   ]
  },
  {
   "cell_type": "code",
<<<<<<< HEAD
   "execution_count": 322,
=======
   "execution_count": 121,
>>>>>>> 13345210f10b063492b616f84b9dd305f82de01d
   "metadata": {},
   "outputs": [
    {
     "name": "stdout",
     "output_type": "stream",
     "text": [
      "Requirement already satisfied: xlrd in c:\\users\\rocio\\anaconda3\\lib\\site-packages (2.0.1)\n",
      "Note: you may need to restart the kernel to use updated packages.\n"
     ]
    }
   ],
   "source": [
    "pip install xlrd"
   ]
  },
  {
   "cell_type": "code",
<<<<<<< HEAD
   "execution_count": 323,
=======
   "execution_count": 122,
   "metadata": {},
   "outputs": [],
   "source": [
    "import numpy as np"
   ]
  },
  {
   "cell_type": "code",
   "execution_count": 123,
>>>>>>> 13345210f10b063492b616f84b9dd305f82de01d
   "metadata": {},
   "outputs": [],
   "source": [
    "#cargamos pandas y el excel\n",
    "import pandas as pd\n",
    "df = pd.read_excel(\"GSAF5.xls\", engine=\"xlrd\")"
   ]
  },
  {
   "cell_type": "code",
<<<<<<< HEAD
   "execution_count": 324,
=======
   "execution_count": 124,
>>>>>>> 13345210f10b063492b616f84b9dd305f82de01d
   "metadata": {},
   "outputs": [],
   "source": [
    "pd.set_option('display.max_columns', None)"
   ]
  },
  {
   "cell_type": "code",
<<<<<<< HEAD
   "execution_count": 325,
=======
   "execution_count": 125,
>>>>>>> 13345210f10b063492b616f84b9dd305f82de01d
   "metadata": {},
   "outputs": [
    {
     "data": {
      "text/plain": [
       "(7012, 23)"
      ]
     },
<<<<<<< HEAD
     "execution_count": 325,
=======
     "execution_count": 125,
>>>>>>> 13345210f10b063492b616f84b9dd305f82de01d
     "metadata": {},
     "output_type": "execute_result"
    }
   ],
   "source": [
    "#tamaño\n",
    "df.shape"
   ]
  },
  {
   "cell_type": "markdown",
   "metadata": {},
   "source": [
    "Es un excel con 7012 filas y 23 columnas"
   ]
  },
  {
   "cell_type": "code",
<<<<<<< HEAD
   "execution_count": 326,
=======
   "execution_count": 126,
>>>>>>> 13345210f10b063492b616f84b9dd305f82de01d
   "metadata": {},
   "outputs": [
    {
     "data": {
      "text/plain": [
       "Index(['Date', 'Year', 'Type', 'Country', 'State', 'Location', 'Activity',\n",
       "       'Name', 'Sex', 'Age', 'Injury', 'Fatal Y/N', 'Time', 'Species ',\n",
       "       'Source', 'pdf', 'href formula', 'href', 'Case Number', 'Case Number.1',\n",
       "       'original order', 'Unnamed: 21', 'Unnamed: 22'],\n",
       "      dtype='object')"
      ]
     },
<<<<<<< HEAD
     "execution_count": 326,
=======
     "execution_count": 126,
>>>>>>> 13345210f10b063492b616f84b9dd305f82de01d
     "metadata": {},
     "output_type": "execute_result"
    }
   ],
   "source": [
    "#nombres de columnas\n",
    "df.columns"
   ]
  },
  {
   "cell_type": "markdown",
   "metadata": {},
   "source": [
    "Tendremos que limpiar y mejorar los nombres de las columnas"
   ]
  },
  {
   "cell_type": "code",
<<<<<<< HEAD
   "execution_count": 327,
=======
   "execution_count": 127,
>>>>>>> 13345210f10b063492b616f84b9dd305f82de01d
   "metadata": {},
   "outputs": [
    {
     "data": {
      "text/plain": [
       "Date               object\n",
       "Year              float64\n",
       "Type               object\n",
       "Country            object\n",
       "State              object\n",
       "Location           object\n",
       "Activity           object\n",
       "Name               object\n",
       "Sex                object\n",
       "Age                object\n",
       "Injury             object\n",
       "Fatal Y/N          object\n",
       "Time               object\n",
       "Species            object\n",
       "Source             object\n",
       "pdf                object\n",
       "href formula       object\n",
       "href               object\n",
       "Case Number        object\n",
       "Case Number.1      object\n",
       "original order    float64\n",
       "Unnamed: 21        object\n",
       "Unnamed: 22        object\n",
       "dtype: object"
      ]
     },
<<<<<<< HEAD
     "execution_count": 327,
=======
     "execution_count": 127,
>>>>>>> 13345210f10b063492b616f84b9dd305f82de01d
     "metadata": {},
     "output_type": "execute_result"
    }
   ],
   "source": [
    "#ver tipos de datos\n",
    "df.dtypes"
   ]
  },
  {
   "cell_type": "code",
<<<<<<< HEAD
   "execution_count": 328,
=======
   "execution_count": 128,
>>>>>>> 13345210f10b063492b616f84b9dd305f82de01d
   "metadata": {},
   "outputs": [
    {
     "data": {
      "text/html": [
       "<div>\n",
       "<style scoped>\n",
       "    .dataframe tbody tr th:only-of-type {\n",
       "        vertical-align: middle;\n",
       "    }\n",
       "\n",
       "    .dataframe tbody tr th {\n",
       "        vertical-align: top;\n",
       "    }\n",
       "\n",
       "    .dataframe thead th {\n",
       "        text-align: right;\n",
       "    }\n",
       "</style>\n",
       "<table border=\"1\" class=\"dataframe\">\n",
       "  <thead>\n",
       "    <tr style=\"text-align: right;\">\n",
       "      <th></th>\n",
       "      <th>count</th>\n",
       "      <th>mean</th>\n",
       "      <th>std</th>\n",
       "      <th>min</th>\n",
       "      <th>25%</th>\n",
       "      <th>50%</th>\n",
       "      <th>75%</th>\n",
       "      <th>max</th>\n",
       "    </tr>\n",
       "  </thead>\n",
       "  <tbody>\n",
       "    <tr>\n",
       "      <th>Year</th>\n",
       "      <td>7010.0</td>\n",
       "      <td>1935.271327</td>\n",
       "      <td>271.735460</td>\n",
       "      <td>0.0</td>\n",
       "      <td>1947.0</td>\n",
       "      <td>1986.0</td>\n",
       "      <td>2009.0</td>\n",
       "      <td>2026.0</td>\n",
       "    </tr>\n",
       "    <tr>\n",
       "      <th>original order</th>\n",
       "      <td>6799.0</td>\n",
       "      <td>3401.152081</td>\n",
       "      <td>1963.076319</td>\n",
       "      <td>2.0</td>\n",
       "      <td>1701.5</td>\n",
       "      <td>3401.0</td>\n",
       "      <td>5100.5</td>\n",
       "      <td>6802.0</td>\n",
       "    </tr>\n",
       "  </tbody>\n",
       "</table>\n",
       "</div>"
      ],
      "text/plain": [
       "                 count         mean          std  min     25%     50%     75%  \\\n",
       "Year            7010.0  1935.271327   271.735460  0.0  1947.0  1986.0  2009.0   \n",
       "original order  6799.0  3401.152081  1963.076319  2.0  1701.5  3401.0  5100.5   \n",
       "\n",
       "                   max  \n",
       "Year            2026.0  \n",
       "original order  6802.0  "
      ]
     },
<<<<<<< HEAD
     "execution_count": 328,
=======
     "execution_count": 128,
>>>>>>> 13345210f10b063492b616f84b9dd305f82de01d
     "metadata": {},
     "output_type": "execute_result"
    }
   ],
   "source": [
    "df.describe().T"
   ]
  },
  {
   "cell_type": "code",
<<<<<<< HEAD
   "execution_count": 329,
=======
   "execution_count": 129,
>>>>>>> 13345210f10b063492b616f84b9dd305f82de01d
   "metadata": {},
   "outputs": [
    {
     "data": {
      "text/html": [
       "<div>\n",
       "<style scoped>\n",
       "    .dataframe tbody tr th:only-of-type {\n",
       "        vertical-align: middle;\n",
       "    }\n",
       "\n",
       "    .dataframe tbody tr th {\n",
       "        vertical-align: top;\n",
       "    }\n",
       "\n",
       "    .dataframe thead th {\n",
       "        text-align: right;\n",
       "    }\n",
       "</style>\n",
       "<table border=\"1\" class=\"dataframe\">\n",
       "  <thead>\n",
       "    <tr style=\"text-align: right;\">\n",
       "      <th></th>\n",
       "      <th>Date</th>\n",
       "      <th>Type</th>\n",
       "      <th>Country</th>\n",
       "      <th>State</th>\n",
       "      <th>Location</th>\n",
       "      <th>Activity</th>\n",
       "      <th>Name</th>\n",
       "      <th>Sex</th>\n",
       "      <th>Age</th>\n",
       "      <th>Injury</th>\n",
       "      <th>Fatal Y/N</th>\n",
       "      <th>Time</th>\n",
       "      <th>Species</th>\n",
       "      <th>Source</th>\n",
       "      <th>pdf</th>\n",
       "      <th>href formula</th>\n",
       "      <th>href</th>\n",
       "      <th>Case Number</th>\n",
       "      <th>Case Number.1</th>\n",
       "      <th>Unnamed: 21</th>\n",
       "      <th>Unnamed: 22</th>\n",
       "    </tr>\n",
       "  </thead>\n",
       "  <tbody>\n",
       "    <tr>\n",
       "      <th>count</th>\n",
       "      <td>7012</td>\n",
       "      <td>6994</td>\n",
       "      <td>6962</td>\n",
       "      <td>6527</td>\n",
       "      <td>6446</td>\n",
       "      <td>6427</td>\n",
       "      <td>6793</td>\n",
       "      <td>6433</td>\n",
       "      <td>4018</td>\n",
       "      <td>6977</td>\n",
       "      <td>6451</td>\n",
       "      <td>3486</td>\n",
       "      <td>3881</td>\n",
       "      <td>6993</td>\n",
       "      <td>6799</td>\n",
       "      <td>6794</td>\n",
       "      <td>6796</td>\n",
       "      <td>6798</td>\n",
       "      <td>6797</td>\n",
       "      <td>1</td>\n",
       "      <td>2</td>\n",
       "    </tr>\n",
       "    <tr>\n",
       "      <th>unique</th>\n",
       "      <td>6057</td>\n",
       "      <td>12</td>\n",
       "      <td>242</td>\n",
       "      <td>926</td>\n",
       "      <td>4570</td>\n",
       "      <td>1604</td>\n",
       "      <td>5742</td>\n",
       "      <td>10</td>\n",
       "      <td>249</td>\n",
       "      <td>4139</td>\n",
       "      <td>12</td>\n",
       "      <td>444</td>\n",
       "      <td>1712</td>\n",
       "      <td>5356</td>\n",
       "      <td>6789</td>\n",
       "      <td>6784</td>\n",
       "      <td>6776</td>\n",
       "      <td>6777</td>\n",
       "      <td>6775</td>\n",
       "      <td>1</td>\n",
       "      <td>2</td>\n",
       "    </tr>\n",
       "    <tr>\n",
       "      <th>top</th>\n",
       "      <td>1957</td>\n",
       "      <td>Unprovoked</td>\n",
       "      <td>USA</td>\n",
       "      <td>Florida</td>\n",
       "      <td>New Smyrna Beach, Volusia County</td>\n",
       "      <td>Surfing</td>\n",
       "      <td>male</td>\n",
       "      <td>M</td>\n",
       "      <td>16</td>\n",
       "      <td>FATAL</td>\n",
       "      <td>N</td>\n",
       "      <td>Afternoon</td>\n",
       "      <td>White shark</td>\n",
       "      <td>K. McMurray, TrackingSharks.com</td>\n",
       "      <td>1907.10.16.R-HongKong.pdf</td>\n",
       "      <td>http://sharkattackfile.net/spreadsheets/pdf_di...</td>\n",
       "      <td>http://sharkattackfile.net/spreadsheets/pdf_di...</td>\n",
       "      <td>2021.07.23</td>\n",
       "      <td>2012.09.02.b</td>\n",
       "      <td>stopped here</td>\n",
       "      <td>Teramo</td>\n",
       "    </tr>\n",
       "    <tr>\n",
       "      <th>freq</th>\n",
       "      <td>9</td>\n",
       "      <td>5170</td>\n",
       "      <td>2558</td>\n",
       "      <td>1186</td>\n",
       "      <td>191</td>\n",
       "      <td>1133</td>\n",
       "      <td>679</td>\n",
       "      <td>5624</td>\n",
       "      <td>92</td>\n",
       "      <td>863</td>\n",
       "      <td>4883</td>\n",
       "      <td>215</td>\n",
       "      <td>194</td>\n",
       "      <td>131</td>\n",
       "      <td>2</td>\n",
       "      <td>2</td>\n",
       "      <td>4</td>\n",
       "      <td>2</td>\n",
       "      <td>2</td>\n",
       "      <td>1</td>\n",
       "      <td>1</td>\n",
       "    </tr>\n",
       "  </tbody>\n",
       "</table>\n",
       "</div>"
      ],
      "text/plain": [
       "        Date        Type Country    State                          Location  \\\n",
       "count   7012        6994    6962     6527                              6446   \n",
       "unique  6057          12     242      926                              4570   \n",
       "top     1957  Unprovoked     USA  Florida  New Smyrna Beach, Volusia County   \n",
       "freq       9        5170    2558     1186                               191   \n",
       "\n",
       "       Activity  Name   Sex   Age Injury Fatal Y/N       Time     Species   \\\n",
       "count      6427  6793  6433  4018   6977      6451       3486         3881   \n",
       "unique     1604  5742    10   249   4139        12        444         1712   \n",
       "top     Surfing  male     M    16  FATAL         N  Afternoon  White shark   \n",
       "freq       1133   679  5624    92    863      4883        215          194   \n",
       "\n",
       "                                 Source                        pdf  \\\n",
       "count                              6993                       6799   \n",
       "unique                             5356                       6789   \n",
       "top     K. McMurray, TrackingSharks.com  1907.10.16.R-HongKong.pdf   \n",
       "freq                                131                          2   \n",
       "\n",
       "                                             href formula  \\\n",
       "count                                                6794   \n",
       "unique                                               6784   \n",
       "top     http://sharkattackfile.net/spreadsheets/pdf_di...   \n",
       "freq                                                    2   \n",
       "\n",
       "                                                     href Case Number  \\\n",
       "count                                                6796        6798   \n",
       "unique                                               6776        6777   \n",
       "top     http://sharkattackfile.net/spreadsheets/pdf_di...  2021.07.23   \n",
       "freq                                                    4           2   \n",
       "\n",
       "       Case Number.1   Unnamed: 21 Unnamed: 22  \n",
       "count           6797             1           2  \n",
       "unique          6775             1           2  \n",
       "top     2012.09.02.b  stopped here      Teramo  \n",
       "freq               2             1           1  "
      ]
     },
<<<<<<< HEAD
     "execution_count": 329,
=======
     "execution_count": 129,
>>>>>>> 13345210f10b063492b616f84b9dd305f82de01d
     "metadata": {},
     "output_type": "execute_result"
    }
   ],
   "source": [
    "df.describe(include= \"object\")"
   ]
  },
  {
   "cell_type": "code",
<<<<<<< HEAD
   "execution_count": 330,
=======
   "execution_count": 130,
>>>>>>> 13345210f10b063492b616f84b9dd305f82de01d
   "metadata": {},
   "outputs": [
    {
     "data": {
      "text/html": [
       "<div>\n",
       "<style scoped>\n",
       "    .dataframe tbody tr th:only-of-type {\n",
       "        vertical-align: middle;\n",
       "    }\n",
       "\n",
       "    .dataframe tbody tr th {\n",
       "        vertical-align: top;\n",
       "    }\n",
       "\n",
       "    .dataframe thead th {\n",
       "        text-align: right;\n",
       "    }\n",
       "</style>\n",
       "<table border=\"1\" class=\"dataframe\">\n",
       "  <thead>\n",
       "    <tr style=\"text-align: right;\">\n",
       "      <th></th>\n",
       "      <th>Date</th>\n",
       "      <th>Year</th>\n",
       "      <th>Type</th>\n",
       "      <th>Country</th>\n",
       "      <th>State</th>\n",
       "      <th>Location</th>\n",
       "      <th>Activity</th>\n",
       "      <th>Name</th>\n",
       "      <th>Sex</th>\n",
       "      <th>Age</th>\n",
       "      <th>Injury</th>\n",
       "      <th>Fatal Y/N</th>\n",
       "      <th>Time</th>\n",
       "      <th>Species</th>\n",
       "      <th>Source</th>\n",
       "      <th>pdf</th>\n",
       "      <th>href formula</th>\n",
       "      <th>href</th>\n",
       "      <th>Case Number</th>\n",
       "      <th>Case Number.1</th>\n",
       "      <th>original order</th>\n",
       "      <th>Unnamed: 21</th>\n",
       "      <th>Unnamed: 22</th>\n",
       "    </tr>\n",
       "  </thead>\n",
       "  <tbody>\n",
       "    <tr>\n",
       "      <th>0</th>\n",
       "      <td>2025-04-19 00:00:00</td>\n",
       "      <td>2025.0</td>\n",
       "      <td>Unprovoked</td>\n",
       "      <td>Maldives</td>\n",
       "      <td>Kulhudhuffushi City</td>\n",
       "      <td>Haa Dhaalu atoll</td>\n",
       "      <td>snorkeling</td>\n",
       "      <td>Unknown Male</td>\n",
       "      <td>M</td>\n",
       "      <td>30</td>\n",
       "      <td>Injuries to right shoulder</td>\n",
       "      <td>N</td>\n",
       "      <td>Not stated</td>\n",
       "      <td>Not stated</td>\n",
       "      <td>Todd Smith: The edition: https://en.sun.mv/96031</td>\n",
       "      <td>NaN</td>\n",
       "      <td>NaN</td>\n",
       "      <td>NaN</td>\n",
       "      <td>NaN</td>\n",
       "      <td>NaN</td>\n",
       "      <td>NaN</td>\n",
       "      <td>NaN</td>\n",
       "      <td>NaN</td>\n",
       "    </tr>\n",
       "    <tr>\n",
       "      <th>1</th>\n",
       "      <td>2025-04-12 00:00:00</td>\n",
       "      <td>2025.0</td>\n",
       "      <td>Unprovoked</td>\n",
       "      <td>USA</td>\n",
       "      <td>Florida</td>\n",
       "      <td>Everglades National Park Flamingo Lodge Highwa...</td>\n",
       "      <td>Undisclosed</td>\n",
       "      <td>Unknown Male</td>\n",
       "      <td>M</td>\n",
       "      <td>?</td>\n",
       "      <td>Injuries to right hand and arm</td>\n",
       "      <td>N</td>\n",
       "      <td>1500hrs</td>\n",
       "      <td>Not stated</td>\n",
       "      <td>Kevin McMurray Trackingsharks.com: Florida New...</td>\n",
       "      <td>NaN</td>\n",
       "      <td>NaN</td>\n",
       "      <td>NaN</td>\n",
       "      <td>NaN</td>\n",
       "      <td>NaN</td>\n",
       "      <td>NaN</td>\n",
       "      <td>NaN</td>\n",
       "      <td>NaN</td>\n",
       "    </tr>\n",
       "    <tr>\n",
       "      <th>2</th>\n",
       "      <td>2025-03-26 00:00:00</td>\n",
       "      <td>2025.0</td>\n",
       "      <td>Unprovoked</td>\n",
       "      <td>Australia</td>\n",
       "      <td>WA</td>\n",
       "      <td>Sandtrax Port Beach North Fremantle Perth</td>\n",
       "      <td>Swimming</td>\n",
       "      <td>Unknown Male</td>\n",
       "      <td>M</td>\n",
       "      <td>30+</td>\n",
       "      <td>Bumping to the body</td>\n",
       "      <td>N</td>\n",
       "      <td>1430hrs</td>\n",
       "      <td>1.5m Tiger shark</td>\n",
       "      <td>Kevin McMurray Trackingsharks.com: www.surfer....</td>\n",
       "      <td>NaN</td>\n",
       "      <td>NaN</td>\n",
       "      <td>NaN</td>\n",
       "      <td>NaN</td>\n",
       "      <td>NaN</td>\n",
       "      <td>NaN</td>\n",
       "      <td>NaN</td>\n",
       "      <td>NaN</td>\n",
       "    </tr>\n",
       "  </tbody>\n",
       "</table>\n",
       "</div>"
      ],
      "text/plain": [
       "                  Date    Year        Type    Country                State  \\\n",
       "0  2025-04-19 00:00:00  2025.0  Unprovoked   Maldives  Kulhudhuffushi City   \n",
       "1  2025-04-12 00:00:00  2025.0  Unprovoked        USA              Florida   \n",
       "2  2025-03-26 00:00:00  2025.0  Unprovoked  Australia                   WA   \n",
       "\n",
       "                                            Location     Activity  \\\n",
       "0                                   Haa Dhaalu atoll   snorkeling   \n",
       "1  Everglades National Park Flamingo Lodge Highwa...  Undisclosed   \n",
       "2          Sandtrax Port Beach North Fremantle Perth     Swimming   \n",
       "\n",
       "           Name Sex  Age                          Injury Fatal Y/N  \\\n",
       "0  Unknown Male   M   30      Injuries to right shoulder         N   \n",
       "1  Unknown Male   M    ?  Injuries to right hand and arm         N   \n",
       "2  Unknown Male   M  30+             Bumping to the body         N   \n",
       "\n",
       "         Time          Species   \\\n",
       "0  Not stated        Not stated   \n",
       "1     1500hrs        Not stated   \n",
       "2     1430hrs  1.5m Tiger shark   \n",
       "\n",
       "                                              Source  pdf href formula href  \\\n",
       "0   Todd Smith: The edition: https://en.sun.mv/96031  NaN          NaN  NaN   \n",
       "1  Kevin McMurray Trackingsharks.com: Florida New...  NaN          NaN  NaN   \n",
       "2  Kevin McMurray Trackingsharks.com: www.surfer....  NaN          NaN  NaN   \n",
       "\n",
       "  Case Number Case Number.1  original order Unnamed: 21 Unnamed: 22  \n",
       "0         NaN           NaN             NaN         NaN         NaN  \n",
       "1         NaN           NaN             NaN         NaN         NaN  \n",
       "2         NaN           NaN             NaN         NaN         NaN  "
      ]
     },
<<<<<<< HEAD
     "execution_count": 330,
=======
     "execution_count": 130,
>>>>>>> 13345210f10b063492b616f84b9dd305f82de01d
     "metadata": {},
     "output_type": "execute_result"
    }
   ],
   "source": [
    "df.head(3)"
   ]
  },
  {
   "cell_type": "code",
<<<<<<< HEAD
   "execution_count": 331,
=======
   "execution_count": 131,
>>>>>>> 13345210f10b063492b616f84b9dd305f82de01d
   "metadata": {},
   "outputs": [
    {
     "data": {
      "text/plain": [
       "Date                 0\n",
       "Year                 2\n",
       "Type                18\n",
       "Country             50\n",
       "State              485\n",
       "Location           566\n",
       "Activity           585\n",
       "Name               219\n",
       "Sex                579\n",
       "Age               2994\n",
       "Injury              35\n",
       "Fatal Y/N          561\n",
       "Time              3526\n",
       "Species           3131\n",
       "Source              19\n",
       "pdf                213\n",
       "href formula       218\n",
       "href               216\n",
       "Case Number        214\n",
       "Case Number.1      215\n",
       "original order     213\n",
       "Unnamed: 21       7011\n",
       "Unnamed: 22       7010\n",
       "dtype: int64"
      ]
     },
<<<<<<< HEAD
     "execution_count": 331,
=======
     "execution_count": 131,
>>>>>>> 13345210f10b063492b616f84b9dd305f82de01d
     "metadata": {},
     "output_type": "execute_result"
    }
   ],
   "source": [
    "#ver por columnas la cantidad valores nulos\n",
    "df.isna().sum()"
   ]
  },
  {
   "cell_type": "markdown",
   "metadata": {},
   "source": [
    "no hay ninguna columna completamente vacia, unnamed: 21 tiene 2 y unnamed: 22 tene 3"
   ]
  },
  {
   "cell_type": "code",
<<<<<<< HEAD
   "execution_count": 332,
=======
   "execution_count": 132,
>>>>>>> 13345210f10b063492b616f84b9dd305f82de01d
   "metadata": {},
   "outputs": [],
   "source": [
    "#eliminar columnas completamente vacías\n",
    "df.dropna(axis=1, how='all', inplace=True)"
   ]
  },
  {
   "cell_type": "code",
<<<<<<< HEAD
   "execution_count": 333,
=======
   "execution_count": 133,
>>>>>>> 13345210f10b063492b616f84b9dd305f82de01d
   "metadata": {},
   "outputs": [],
   "source": [
    "#eliminar filas completamente vacías\n",
    "df.dropna(axis=0, how='all', inplace=True)"
   ]
  },
  {
   "cell_type": "code",
<<<<<<< HEAD
   "execution_count": 334,
=======
   "execution_count": 134,
>>>>>>> 13345210f10b063492b616f84b9dd305f82de01d
   "metadata": {},
   "outputs": [],
   "source": [
    "#empiezo con columnas, en str, minusculas y reemplazando espacio por _\n",
    "df.columns = (df.columns.str.strip().str.lower().str.replace(\" \", \"_\"))"
   ]
  },
  {
   "cell_type": "code",
<<<<<<< HEAD
   "execution_count": 335,
=======
   "execution_count": 135,
>>>>>>> 13345210f10b063492b616f84b9dd305f82de01d
   "metadata": {},
   "outputs": [
    {
     "data": {
      "text/plain": [
       "Index(['date', 'year', 'type', 'country', 'state', 'location', 'activity',\n",
       "       'name', 'sex', 'age', 'injury', 'fatal_y/n', 'time', 'species',\n",
       "       'source', 'pdf', 'href_formula', 'href', 'case_number', 'case_number.1',\n",
       "       'original_order', 'unnamed:_21', 'unnamed:_22'],\n",
       "      dtype='object')"
      ]
     },
<<<<<<< HEAD
     "execution_count": 335,
=======
     "execution_count": 135,
>>>>>>> 13345210f10b063492b616f84b9dd305f82de01d
     "metadata": {},
     "output_type": "execute_result"
    }
   ],
   "source": [
    "df.columns"
   ]
  },
  {
   "cell_type": "code",
<<<<<<< HEAD
   "execution_count": 336,
=======
   "execution_count": 136,
>>>>>>> 13345210f10b063492b616f84b9dd305f82de01d
   "metadata": {},
   "outputs": [
    {
     "data": {
      "text/plain": [
       "date              6057\n",
       "year               261\n",
       "type                12\n",
       "country            242\n",
       "state              926\n",
       "location          4570\n",
       "activity          1604\n",
       "name              5742\n",
       "sex                 10\n",
       "age                249\n",
       "injury            4139\n",
       "fatal_y/n           12\n",
       "time               444\n",
       "species           1712\n",
       "source            5356\n",
       "pdf               6789\n",
       "href_formula      6784\n",
       "href              6776\n",
       "case_number       6777\n",
       "case_number.1     6775\n",
       "original_order    6797\n",
       "unnamed:_21          1\n",
       "unnamed:_22          2\n",
       "dtype: int64"
      ]
     },
<<<<<<< HEAD
     "execution_count": 336,
=======
     "execution_count": 136,
>>>>>>> 13345210f10b063492b616f84b9dd305f82de01d
     "metadata": {},
     "output_type": "execute_result"
    }
   ],
   "source": [
    "df.nunique()"
   ]
  },
  {
   "cell_type": "code",
<<<<<<< HEAD
   "execution_count": 337,
=======
   "execution_count": 137,
>>>>>>> 13345210f10b063492b616f84b9dd305f82de01d
   "metadata": {},
   "outputs": [
    {
     "data": {
      "text/plain": [
       "0"
      ]
     },
<<<<<<< HEAD
     "execution_count": 337,
=======
     "execution_count": 137,
>>>>>>> 13345210f10b063492b616f84b9dd305f82de01d
     "metadata": {},
     "output_type": "execute_result"
    }
   ],
   "source": [
    "df.duplicated().sum()"
   ]
  },
  {
   "cell_type": "code",
<<<<<<< HEAD
   "execution_count": 338,
=======
   "execution_count": 138,
>>>>>>> 13345210f10b063492b616f84b9dd305f82de01d
   "metadata": {},
   "outputs": [
    {
     "data": {
      "text/plain": [
       "False"
      ]
     },
<<<<<<< HEAD
     "execution_count": 338,
=======
     "execution_count": 138,
>>>>>>> 13345210f10b063492b616f84b9dd305f82de01d
     "metadata": {},
     "output_type": "execute_result"
    }
   ],
   "source": [
    "df.duplicated().any()"
   ]
  },
  {
   "cell_type": "code",
<<<<<<< HEAD
   "execution_count": 339,
=======
   "execution_count": 139,
>>>>>>> 13345210f10b063492b616f84b9dd305f82de01d
   "metadata": {},
   "outputs": [],
   "source": [
    "df = df.drop(['location', 'source', 'pdf', 'href_formula', 'href', 'case_number', 'case_number.1', 'original_order', 'unnamed:_21', 'unnamed:_22'], axis=1)"
   ]
  },
  {
   "cell_type": "code",
<<<<<<< HEAD
   "execution_count": 340,
=======
   "execution_count": 140,
>>>>>>> 13345210f10b063492b616f84b9dd305f82de01d
   "metadata": {},
   "outputs": [
    {
     "data": {
      "text/plain": [
       "Index(['date', 'year', 'type', 'country', 'state', 'activity', 'name', 'sex',\n",
       "       'age', 'injury', 'fatal_y/n', 'time', 'species'],\n",
       "      dtype='object')"
      ]
     },
<<<<<<< HEAD
     "execution_count": 340,
=======
     "execution_count": 140,
>>>>>>> 13345210f10b063492b616f84b9dd305f82de01d
     "metadata": {},
     "output_type": "execute_result"
    }
   ],
   "source": [
    "df.columns"
   ]
  },
  {
   "cell_type": "code",
<<<<<<< HEAD
   "execution_count": 341,
=======
   "execution_count": 141,
>>>>>>> 13345210f10b063492b616f84b9dd305f82de01d
   "metadata": {},
   "outputs": [],
   "source": [
    "df.columns = df.columns.str.replace(\"fatal_y/n\", \"fatal\")"
   ]
  },
  {
   "cell_type": "code",
<<<<<<< HEAD
   "execution_count": 342,
=======
   "execution_count": 142,
>>>>>>> 13345210f10b063492b616f84b9dd305f82de01d
   "metadata": {},
   "outputs": [
    {
     "data": {
      "text/plain": [
       "Index(['date', 'year', 'type', 'country', 'state', 'activity', 'name', 'sex',\n",
       "       'age', 'injury', 'fatal', 'time', 'species'],\n",
       "      dtype='object')"
      ]
     },
<<<<<<< HEAD
     "execution_count": 342,
=======
     "execution_count": 142,
>>>>>>> 13345210f10b063492b616f84b9dd305f82de01d
     "metadata": {},
     "output_type": "execute_result"
    }
   ],
   "source": [
    "df.columns"
   ]
  },
  {
   "cell_type": "code",
<<<<<<< HEAD
   "execution_count": 343,
=======
   "execution_count": 143,
>>>>>>> 13345210f10b063492b616f84b9dd305f82de01d
   "metadata": {},
   "outputs": [
    {
     "data": {
      "text/plain": [
       "array(['M', 'F ', 'F', 'M ', nan, ' M', 'm', 'lli', 'M x 2', 'N', '.'],\n",
       "      dtype=object)"
      ]
     },
<<<<<<< HEAD
     "execution_count": 343,
=======
     "execution_count": 143,
>>>>>>> 13345210f10b063492b616f84b9dd305f82de01d
     "metadata": {},
     "output_type": "execute_result"
    }
   ],
   "source": [
    "df['sex'].unique()"
   ]
  },
  {
   "cell_type": "code",
<<<<<<< HEAD
   "execution_count": 344,
=======
   "execution_count": 144,
>>>>>>> 13345210f10b063492b616f84b9dd305f82de01d
   "metadata": {},
   "outputs": [
    {
     "data": {
      "text/plain": [
       "array(['M', 'F', nan], dtype=object)"
      ]
     },
<<<<<<< HEAD
     "execution_count": 344,
=======
     "execution_count": 144,
>>>>>>> 13345210f10b063492b616f84b9dd305f82de01d
     "metadata": {},
     "output_type": "execute_result"
    }
   ],
   "source": [
    "#limpiando sex\n",
    "df['sex'] = df['sex'].map({'F ': 'F','F': 'F', '.': \"F\", 'M': 'M', 'M ': 'M', ' M': 'M', 'm': 'M', 'lli': 'M', 'M x 2': 'M', 'N': 'M'})\n",
    "df['sex'].unique()"
   ]
  },
  {
   "cell_type": "code",
   "execution_count": 345,
   "metadata": {},
   "outputs": [
    {
     "data": {
      "text/plain": [
       "0                 Maldives\n",
       "1                      Usa\n",
       "2                Australia\n",
       "3                Australia\n",
       "4                Australia\n",
       "               ...        \n",
       "7007             Australia\n",
       "7008             Australia\n",
       "7009                   Usa\n",
       "7010                Panama\n",
       "7011    Ceylon (Sri Lanka)\n",
       "Name: country, Length: 7012, dtype: object"
      ]
     },
     "execution_count": 345,
     "metadata": {},
     "output_type": "execute_result"
    }
   ],
   "source": [
    "#limpiando country, todas sean str, sin espacios, y primeras lestras en mayuscula\n",
    "df['country'] = df['country'].astype(str).str.strip().str.title()\n",
    "df['country']"
   ]
  },
  {
   "cell_type": "code",
   "execution_count": 346,
   "metadata": {},
   "outputs": [
    {
     "data": {
      "text/plain": [
       "0       Kulhudhuffushi City\n",
       "1                   Florida\n",
       "2                        Wa\n",
       "3                        Wa\n",
       "4                       Nsw\n",
       "               ...         \n",
       "7007      Western Australia\n",
       "7008      Western Australia\n",
       "7009         North Carolina\n",
       "7010                    Nan\n",
       "7011       Eastern Province\n",
       "Name: state, Length: 7012, dtype: object"
      ]
     },
     "execution_count": 346,
     "metadata": {},
     "output_type": "execute_result"
    }
   ],
   "source": [
    "#limpiando state, todas sean str, sin espacios, y primeras lestras en mayuscula\n",
    "df['state'] = df['state'].astype(str).str.strip().str.title()\n",
    "df['state']"
   ]
  },
  {
   "cell_type": "code",
   "execution_count": 347,
   "metadata": {},
   "outputs": [
    {
     "data": {
      "text/plain": [
       "0         snorkeling\n",
       "1        undisclosed\n",
       "2           swimming\n",
       "3            surfing\n",
       "4           swimming\n",
       "            ...     \n",
       "7007          diving\n",
       "7008    pearl diving\n",
       "7009        swimming\n",
       "7010             nan\n",
       "7011        swimming\n",
       "Name: activity, Length: 7012, dtype: object"
      ]
     },
     "execution_count": 347,
     "metadata": {},
     "output_type": "execute_result"
    }
   ],
   "source": [
    "#limpiando activity, todas sean str, sin espacios y en minusculas\n",
    "df['activity'] = df['activity'].astype(str).str.strip().str.lower()\n",
    "df['activity']"
   ]
  },
  {
   "cell_type": "code",
   "execution_count": 348,
   "metadata": {},
   "outputs": [
    {
     "data": {
      "text/plain": [
       "0                              injuries to right shoulder\n",
       "1                          injuries to right hand and arm\n",
       "2                                     bumping to the body\n",
       "3                              missing body not recovered\n",
       "4                   serious lacerations above right knee.\n",
       "                              ...                        \n",
       "7007                                                fatal\n",
       "7008                                                fatal\n",
       "7009                                                fatal\n",
       "7010                                                fatal\n",
       "7011    fatal. \"shark bit him in half, carrying away t...\n",
       "Name: injury, Length: 7012, dtype: object"
      ]
     },
     "execution_count": 348,
     "metadata": {},
     "output_type": "execute_result"
    }
   ],
   "source": [
    "#limpiando injury, todas sean str, sin espacios y en minusculas\n",
    "df['injury'] = df['injury'].astype(str).str.strip().str.lower()\n",
    "df['injury']"
   ]
  },
  {
   "cell_type": "code",
   "execution_count": 349,
   "metadata": {},
   "outputs": [
    {
     "data": {
      "text/plain": [
       "0        No\n",
       "1        No\n",
       "2        No\n",
       "3       Yes\n",
       "4        No\n",
       "       ... \n",
       "7007    Yes\n",
       "7008    Yes\n",
       "7009    Yes\n",
       "7010    Yes\n",
       "7011    Yes\n",
       "Name: fatal, Length: 7012, dtype: object"
      ]
     },
     "execution_count": 349,
     "metadata": {},
     "output_type": "execute_result"
    }
   ],
   "source": [
    "#limpiando fatal, todas sean str, sin espacios y en mayusculas\n",
    "df['fatal'] = df['fatal'].astype(str).str.strip().str.upper()\n",
    "#tambien uso map para cambiar las Y a YES y N a NO\n",
    "df['fatal'] = df['fatal'].map({'Y': 'Yes', 'N': 'No'})\n",
    "df['fatal']"
   ]
  },
  {
   "cell_type": "code",
   "execution_count": null,
   "metadata": {},
   "outputs": [
    {
     "data": {
      "text/plain": [
       "hour\n",
       "00      5\n",
       "01      8\n",
       "02      9\n",
       "03      9\n",
       "04      5\n",
       "05     11\n",
       "06     48\n",
       "07    103\n",
       "08    123\n",
       "09    280\n",
       "10    217\n",
       "11    302\n",
       "12    240\n",
       "13    242\n",
       "14    270\n",
       "15    492\n",
       "16    294\n",
       "17    262\n",
       "18    140\n",
       "19     99\n",
       "20     60\n",
       "21      6\n",
       "22      6\n",
       "23      9\n",
       "Name: count, dtype: int64"
      ]
     },
     "execution_count": 366,
     "metadata": {},
     "output_type": "execute_result"
    }
   ],
   "source": [
    "#asegurarse de que todos los valores sean strings limpios\n",
    "df['time'] = df['time'].astype(str).str.strip().str.upper()\n",
    "\n",
    "#extraer solo la hora (antes de los dos puntos) o primeros 2 dígitos si es un número tipo \"1530\"\n",
    "df['hour'] = df['time'].str.extract(r'(\\d{1,2})')  # extrae 1 o 2 dígitos iniciales\n",
    "\n",
    "#ver distribución de horas\n",
    "df['hour'].value_counts().sort_index()"
   ]
  },
  {
   "cell_type": "code",
   "execution_count": 367,
   "metadata": {},
   "outputs": [],
   "source": [
    "# Primero aseguramos que hour es string (en caso de haberlo convertido antes a int)\n",
    "df['hour'] = df['hour'].astype(str).str.zfill(2)  # asegura dos dígitos (por ejemplo, 3 → '03')\n",
    "\n",
    "# Luego creamos una nueva columna en formato HH:00\n",
    "df['hour_formatted'] = df['hour'] + ':00'"
   ]
  },
  {
   "cell_type": "code",
   "execution_count": 369,
   "metadata": {},
   "outputs": [
    {
     "data": {
      "text/plain": [
       "hour\n",
       "00        5\n",
       "01        8\n",
       "02        9\n",
       "03        9\n",
       "04        5\n",
       "05       11\n",
       "06       48\n",
       "07      103\n",
       "08      123\n",
       "09      280\n",
       "10      217\n",
       "11      302\n",
       "12      240\n",
       "13      242\n",
       "14      270\n",
       "15      492\n",
       "16      294\n",
       "17      262\n",
       "18      140\n",
       "19       99\n",
       "20       60\n",
       "21        6\n",
       "22        6\n",
       "23        9\n",
       "nan    3772\n",
       "Name: count, dtype: int64"
      ]
     },
     "execution_count": 369,
     "metadata": {},
     "output_type": "execute_result"
    }
   ],
   "source": [
    "df['hour'].value_counts().sort_index()"
   ]
  },
  {
   "cell_type": "code",
   "execution_count": null,
   "metadata": {},
   "outputs": [],
   "source": []
<<<<<<< HEAD
=======
  },
  {
   "cell_type": "code",
   "execution_count": 145,
   "metadata": {},
   "outputs": [],
   "source": [
    "#hay columnas que no nos importa"
   ]
  },
  {
   "cell_type": "code",
   "execution_count": 146,
   "metadata": {},
   "outputs": [
    {
     "data": {
      "text/plain": [
       "array(['Unprovoked', 'Questionable', 'Provoked', ' Provoked',\n",
       "       'Watercraft', 'Sea Disaster', nan, '?', 'Unconfirmed',\n",
       "       'Unverified', 'Invalid', 'Under investigation', 'Boat'],\n",
       "      dtype=object)"
      ]
     },
     "execution_count": 146,
     "metadata": {},
     "output_type": "execute_result"
    }
   ],
   "source": [
    "df['type'].unique()"
   ]
  },
  {
   "cell_type": "code",
   "execution_count": 147,
   "metadata": {},
   "outputs": [
    {
     "name": "stdout",
     "output_type": "stream",
     "text": [
      "['Unprovoked' 'Unknown' 'Provoked' 'Watercraft' nan]\n"
     ]
    }
   ],
   "source": [
    "type_r = {\n",
    "    ' Provoked': 'Provoked',\n",
    "    'Questionable': 'Unknown',\n",
    "    '?': 'Unknown',\n",
    "    'Unconfirmed': 'Unknown',\n",
    "    'Unverified': 'Unknown',\n",
    "    'Invalid': 'Unknown',\n",
    "    'Under investigation': 'Unknown',\n",
    "    'Boat': 'Watercraft',\n",
    "    'Sea Disaster': 'Watercraft'  \n",
    "}\n",
    "\n",
    "df['type'] = df['type'].replace(type_r)\n",
    "print(df['type'].unique())"
   ]
  },
  {
   "cell_type": "code",
   "execution_count": 148,
   "metadata": {},
   "outputs": [
    {
     "data": {
      "text/plain": [
       "array(['Not stated', '1.5m Tiger shark', 'Great White Shark', ...,\n",
       "       \"12' tiger shark\", 'Blue pointers',\n",
       "       'Said to involve a grey nurse shark that leapt out of the water and  seized the boy but species identification is questionable'],\n",
       "      dtype=object)"
      ]
     },
     "execution_count": 148,
     "metadata": {},
     "output_type": "execute_result"
    }
   ],
   "source": [
    "df['species'].unique()"
   ]
  },
  {
   "cell_type": "code",
   "execution_count": 149,
   "metadata": {},
   "outputs": [
    {
     "data": {
      "text/plain": [
       "array(['Other', 'Tiger shark', 'Great white shark', 'Bull shark'],\n",
       "      dtype=object)"
      ]
     },
     "execution_count": 149,
     "metadata": {},
     "output_type": "execute_result"
    }
   ],
   "source": [
    "df['species'] = df['species'].str.lower().str.strip()\n",
    "\n",
    "\n",
    "species_r = {\n",
    "    'tiger shark': 'Tiger shark',\n",
    "    \"1.5m tiger shark\": 'Tiger shark',\n",
    "    \"12' tiger shark\": 'Tiger shark',\n",
    "    'great white shark': 'Great white shark',\n",
    "    'bull shark': 'Bull shark'\n",
    "}\n",
    "\n",
    "df['species'] = df['species'].replace(species_r)\n",
    "\n",
    "\n",
    "new_species = []\n",
    "\n",
    "for value in df['species']:\n",
    "    if value == 'Tiger shark':\n",
    "        new_species.append('Tiger shark')\n",
    "    elif value == 'Great white shark':\n",
    "        new_species.append('Great white shark')\n",
    "    elif value == 'Bull shark':\n",
    "        new_species.append('Bull shark')\n",
    "    else:\n",
    "        new_species.append('Other')\n",
    "\n",
    "\n",
    "df['species'] = new_species\n",
    "\n",
    "\n",
    "df['species'].unique()"
   ]
  },
  {
   "cell_type": "code",
   "execution_count": 150,
   "metadata": {},
   "outputs": [
    {
     "data": {
      "text/plain": [
       "array(['30', '?', '30+', '37', '56', '40+', '29', 35, 58, 29, 24, 20, 55,\n",
       "       17, 12, 37, 36, 23, 40, 28, 69, 48, '60+', 57, 45, 61, 27, 38, 16,\n",
       "       68, 33, 30, 15, 41, 14, 26, 'Middle age', 18, 21, 49, 25, 46, 19,\n",
       "       65, 64, '13', nan, '11', '46', '32', '10', '64', '62', '39', '22',\n",
       "       '15', '16', '21', '66', '52', '20', '44', '26', '47', '55', '59',\n",
       "       '8', '50', '45', '34', '38', '30s', '9', '19', '20/30', '35', '65',\n",
       "       '20s', '77', '60', '49', '42', '!2', '24', '73', '25', '18', '50s',\n",
       "       '58', '67', '17', '14', '6', '41', '53', '68', '43', '40', '51',\n",
       "       '31', 39, 51, 10, 13, 60, '40s', 62, 'teen', 8, 22, 32, 56, 'Teen',\n",
       "       42, 50, 'M', 9, 11, 34, '!6', 31, '!!', 47, 7, 71, 59, 53, 54, 75,\n",
       "       '45 and 15', 73, 52, 70, 4, 63, 44, '28 & 22', '22, 57, 31', '60s',\n",
       "       \"20's\", 43, 67, 74, '9 & 60', 'a minor', 6, 3, 82, '40?', 66, 72,\n",
       "       '23', '12', '36', '63', '71', '48', '70', '18 months', '57', '7',\n",
       "       '28', '33', '61', '74', '27', '3', '28 & 26', '5', '54', '86',\n",
       "       '18 or 20', '12 or 13', '46 & 34', '28, 23 & 30', 'Teens', 77,\n",
       "       '36 & 26', '8 or 10', 84, '\\xa0 ', ' ', '30 or 36', '6½', '21 & ?',\n",
       "       '33 or 37', 'mid-30s', '23 & 20', 5, ' 30', '7      &    31',\n",
       "       ' 28', '20?', \"60's\", '69', '32 & 30', '16 to 18', '87', 'Elderly',\n",
       "       'mid-20s', 'Ca. 33', '74 ', '45 ', '21 or 26', '20 ', '>50',\n",
       "       '18 to 22', 'adult', '9 & 12', '? & 19', '9 months', '25 to 35',\n",
       "       '23 & 26', 1, '(adult)', '33 & 37', '25 or 28',\n",
       "       '37, 67, 35, 27,  ? & 27', '21, 34,24 & 35', '30 & 32', '50 & 30',\n",
       "       '17 & 35', 'X', '\"middle-age\"', '13 or 18', '34 & 19', '33 & 26',\n",
       "       '2 to 3 months', '4', 'MAKE LINE GREEN', ' 43', '81', '\"young\"',\n",
       "       '7 or 8', 78, '17 & 16', 'F', 'Both 11', '9 or 10', 'young',\n",
       "       '36 & 23', '  ', '78', 'A.M.', '?    &   14', '10 or 12',\n",
       "       '31 or 33', '2½', '1', '13 or 14'], dtype=object)"
      ]
     },
     "execution_count": 150,
     "metadata": {},
     "output_type": "execute_result"
    }
   ],
   "source": [
    "df['age'].unique()"
   ]
  },
  {
   "cell_type": "code",
   "execution_count": 151,
   "metadata": {},
   "outputs": [
    {
     "data": {
      "text/plain": [
       "array(['30', '', '37', '56', '40', '29', '35', '58', '24', '20', '55',\n",
       "       '17', '12', '36', '23', '28', '69', '48', '60', '57', '45', '61',\n",
       "       '27', '38', '16', '68', '33', '15', '41', '14', '26', '18', '21',\n",
       "       '49', '25', '46', '19', '65', '64', '13', '11', '32', '10', '62',\n",
       "       '39', '22', '66', '52', '44', '47', '59', '8', '50', '34', '9',\n",
       "       '2030', '77', '42', '2', '73', '67', '6', '53', '43', '51', '31',\n",
       "       '7', '71', '54', '75', '4515', '70', '4', '63', '2822', '225731',\n",
       "       '74', '960', '3', '82', '72', '2826', '5', '86', '1820', '1213',\n",
       "       '4634', '282330', '3626', '810', '84', '3036', '3337', '2320',\n",
       "       '731', '3230', '1618', '87', '2126', '1822', '912', '2535', '2326',\n",
       "       '1', '2528', '3767352727', '21342435', '3032', '5030', '1735',\n",
       "       '1318', '3419', '3326', '81', '78', '1716', '910', '3623', '1012',\n",
       "       '3133', '1314'], dtype=object)"
      ]
     },
     "execution_count": 151,
     "metadata": {},
     "output_type": "execute_result"
    }
   ],
   "source": [
    "df['age'] = df['age'].astype(str).str.strip()\n",
    "df['age'] = df['age'].str.replace(r'[^\\d]', '', regex=True)\n",
    "df['age'].unique()"
   ]
  },
  {
   "cell_type": "code",
   "execution_count": 152,
   "metadata": {},
   "outputs": [],
   "source": [
    "def clean_age(age):\n",
    "    if isinstance(age, str) and len(age) > 2 and age.isdigit():\n",
    "        return age[:2]\n",
    "    else:\n",
    "        return age\n",
    "df['age'] = df['age'].apply(clean_age)\n",
    "df['age'] = df['age'].replace(r'^\\s*$', np.nan, regex=True)"
   ]
  },
  {
   "cell_type": "code",
   "execution_count": 153,
   "metadata": {},
   "outputs": [
    {
     "data": {
      "text/plain": [
       "array(['30', nan, '37', '56', '40', '29', '35', '58', '24', '20', '55',\n",
       "       '17', '12', '36', '23', '28', '69', '48', '60', '57', '45', '61',\n",
       "       '27', '38', '16', '68', '33', '15', '41', '14', '26', '18', '21',\n",
       "       '49', '25', '46', '19', '65', '64', '13', '11', '32', '10', '62',\n",
       "       '39', '22', '66', '52', '44', '47', '59', '8', '50', '34', '9',\n",
       "       '77', '42', '2', '73', '67', '6', '53', '43', '51', '31', '7',\n",
       "       '71', '54', '75', '70', '4', '63', '74', '96', '3', '82', '72',\n",
       "       '5', '86', '81', '84', '87', '91', '1', '78'], dtype=object)"
      ]
     },
     "execution_count": 153,
     "metadata": {},
     "output_type": "execute_result"
    }
   ],
   "source": [
    "df['age'].unique()"
   ]
  },
  {
   "cell_type": "code",
   "execution_count": null,
   "metadata": {},
   "outputs": [],
   "source": []
>>>>>>> 13345210f10b063492b616f84b9dd305f82de01d
  }
 ],
 "metadata": {
  "kernelspec": {
   "display_name": "base",
   "language": "python",
   "name": "python3"
  },
  "language_info": {
   "codemirror_mode": {
    "name": "ipython",
    "version": 3
   },
   "file_extension": ".py",
   "mimetype": "text/x-python",
   "name": "python",
   "nbconvert_exporter": "python",
   "pygments_lexer": "ipython3",
   "version": "3.12.7"
  }
 },
 "nbformat": 4,
 "nbformat_minor": 2
}
