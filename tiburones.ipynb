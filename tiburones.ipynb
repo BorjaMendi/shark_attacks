{
 "cells": [
  {
   "cell_type": "markdown",
   "metadata": {},
   "source": [
    "# Analisis de datos (AcuaVentura)"
   ]
  },
  {
   "cell_type": "markdown",
   "metadata": {},
   "source": [
    "### Instalaciones y importaciones necesarias"
   ]
  },
  {
   "cell_type": "code",
   "execution_count": 1420,
   "metadata": {},
   "outputs": [
    {
     "name": "stdout",
     "output_type": "stream",
     "text": [
      "Requirement already satisfied: xlrd in c:\\users\\rocio\\anaconda3\\lib\\site-packages (2.0.1)\n",
      "Note: you may need to restart the kernel to use updated packages.\n"
     ]
    }
   ],
   "source": [
    "pip install xlrd"
   ]
  },
  {
   "cell_type": "code",
   "execution_count": 1421,
   "metadata": {},
   "outputs": [],
   "source": [
    "import numpy as np\n",
    "import matplotlib.pyplot as plt\n",
    "import pandas as pd\n",
    "df = pd.read_excel(\"GSAF5.xls\", engine=\"xlrd\")"
   ]
  },
  {
   "cell_type": "code",
   "execution_count": 1422,
   "metadata": {},
   "outputs": [],
   "source": [
    "pd.set_option('display.max_columns', None)\n",
    "#Esto es para ver todas las columnas cuando hacemos un head, un describe... etc."
   ]
  },
  {
   "cell_type": "markdown",
   "metadata": {},
   "source": [
    "### Inspeccion!!"
   ]
  },
  {
   "cell_type": "code",
   "execution_count": 1423,
   "metadata": {},
   "outputs": [
    {
     "data": {
      "text/html": [
       "<div>\n",
       "<style scoped>\n",
       "    .dataframe tbody tr th:only-of-type {\n",
       "        vertical-align: middle;\n",
       "    }\n",
       "\n",
       "    .dataframe tbody tr th {\n",
       "        vertical-align: top;\n",
       "    }\n",
       "\n",
       "    .dataframe thead th {\n",
       "        text-align: right;\n",
       "    }\n",
       "</style>\n",
       "<table border=\"1\" class=\"dataframe\">\n",
       "  <thead>\n",
       "    <tr style=\"text-align: right;\">\n",
       "      <th></th>\n",
       "      <th>Date</th>\n",
       "      <th>Year</th>\n",
       "      <th>Type</th>\n",
       "      <th>Country</th>\n",
       "      <th>State</th>\n",
       "      <th>Location</th>\n",
       "      <th>Activity</th>\n",
       "      <th>Name</th>\n",
       "      <th>Sex</th>\n",
       "      <th>Age</th>\n",
       "      <th>Injury</th>\n",
       "      <th>Fatal Y/N</th>\n",
       "      <th>Time</th>\n",
       "      <th>Species</th>\n",
       "      <th>Source</th>\n",
       "      <th>pdf</th>\n",
       "      <th>href formula</th>\n",
       "      <th>href</th>\n",
       "      <th>Case Number</th>\n",
       "      <th>Case Number.1</th>\n",
       "      <th>original order</th>\n",
       "      <th>Unnamed: 21</th>\n",
       "      <th>Unnamed: 22</th>\n",
       "    </tr>\n",
       "  </thead>\n",
       "  <tbody>\n",
       "    <tr>\n",
       "      <th>0</th>\n",
       "      <td>2025-04-19 00:00:00</td>\n",
       "      <td>2025.0</td>\n",
       "      <td>Unprovoked</td>\n",
       "      <td>Maldives</td>\n",
       "      <td>Kulhudhuffushi City</td>\n",
       "      <td>Haa Dhaalu atoll</td>\n",
       "      <td>snorkeling</td>\n",
       "      <td>Unknown Male</td>\n",
       "      <td>M</td>\n",
       "      <td>30</td>\n",
       "      <td>Injuries to right shoulder</td>\n",
       "      <td>N</td>\n",
       "      <td>Not stated</td>\n",
       "      <td>Not stated</td>\n",
       "      <td>Todd Smith: The edition: https://en.sun.mv/96031</td>\n",
       "      <td>NaN</td>\n",
       "      <td>NaN</td>\n",
       "      <td>NaN</td>\n",
       "      <td>NaN</td>\n",
       "      <td>NaN</td>\n",
       "      <td>NaN</td>\n",
       "      <td>NaN</td>\n",
       "      <td>NaN</td>\n",
       "    </tr>\n",
       "    <tr>\n",
       "      <th>1</th>\n",
       "      <td>2025-04-12 00:00:00</td>\n",
       "      <td>2025.0</td>\n",
       "      <td>Unprovoked</td>\n",
       "      <td>USA</td>\n",
       "      <td>Florida</td>\n",
       "      <td>Everglades National Park Flamingo Lodge Highwa...</td>\n",
       "      <td>Undisclosed</td>\n",
       "      <td>Unknown Male</td>\n",
       "      <td>M</td>\n",
       "      <td>?</td>\n",
       "      <td>Injuries to right hand and arm</td>\n",
       "      <td>N</td>\n",
       "      <td>1500hrs</td>\n",
       "      <td>Not stated</td>\n",
       "      <td>Kevin McMurray Trackingsharks.com: Florida New...</td>\n",
       "      <td>NaN</td>\n",
       "      <td>NaN</td>\n",
       "      <td>NaN</td>\n",
       "      <td>NaN</td>\n",
       "      <td>NaN</td>\n",
       "      <td>NaN</td>\n",
       "      <td>NaN</td>\n",
       "      <td>NaN</td>\n",
       "    </tr>\n",
       "    <tr>\n",
       "      <th>2</th>\n",
       "      <td>2025-03-26 00:00:00</td>\n",
       "      <td>2025.0</td>\n",
       "      <td>Unprovoked</td>\n",
       "      <td>Australia</td>\n",
       "      <td>WA</td>\n",
       "      <td>Sandtrax Port Beach North Fremantle Perth</td>\n",
       "      <td>Swimming</td>\n",
       "      <td>Unknown Male</td>\n",
       "      <td>M</td>\n",
       "      <td>30+</td>\n",
       "      <td>Bumping to the body</td>\n",
       "      <td>N</td>\n",
       "      <td>1430hrs</td>\n",
       "      <td>1.5m Tiger shark</td>\n",
       "      <td>Kevin McMurray Trackingsharks.com: www.surfer....</td>\n",
       "      <td>NaN</td>\n",
       "      <td>NaN</td>\n",
       "      <td>NaN</td>\n",
       "      <td>NaN</td>\n",
       "      <td>NaN</td>\n",
       "      <td>NaN</td>\n",
       "      <td>NaN</td>\n",
       "      <td>NaN</td>\n",
       "    </tr>\n",
       "    <tr>\n",
       "      <th>3</th>\n",
       "      <td>2025-03-10 00:00:00</td>\n",
       "      <td>2025.0</td>\n",
       "      <td>Unprovoked</td>\n",
       "      <td>Australia</td>\n",
       "      <td>WA</td>\n",
       "      <td>Duke of Orleans Bay</td>\n",
       "      <td>Surfing</td>\n",
       "      <td>Steven Jeffrey Payne</td>\n",
       "      <td>M</td>\n",
       "      <td>37</td>\n",
       "      <td>Missing body not recovered</td>\n",
       "      <td>Y</td>\n",
       "      <td>1210 hrs</td>\n",
       "      <td>Great White Shark</td>\n",
       "      <td>Bob Myatt</td>\n",
       "      <td>NaN</td>\n",
       "      <td>NaN</td>\n",
       "      <td>NaN</td>\n",
       "      <td>NaN</td>\n",
       "      <td>NaN</td>\n",
       "      <td>NaN</td>\n",
       "      <td>NaN</td>\n",
       "      <td>NaN</td>\n",
       "    </tr>\n",
       "    <tr>\n",
       "      <th>4</th>\n",
       "      <td>2025-03-07 00:00:00</td>\n",
       "      <td>2025.0</td>\n",
       "      <td>Unprovoked</td>\n",
       "      <td>Australia</td>\n",
       "      <td>NSW</td>\n",
       "      <td>Gunyah beach Bundeena Port Hacking</td>\n",
       "      <td>Swimming</td>\n",
       "      <td>Mangyong Zhang</td>\n",
       "      <td>F</td>\n",
       "      <td>56</td>\n",
       "      <td>Serious lacerations above right knee.</td>\n",
       "      <td>N</td>\n",
       "      <td>1340hrs</td>\n",
       "      <td>Bull shark</td>\n",
       "      <td>Bob Myatt</td>\n",
       "      <td>NaN</td>\n",
       "      <td>NaN</td>\n",
       "      <td>NaN</td>\n",
       "      <td>NaN</td>\n",
       "      <td>NaN</td>\n",
       "      <td>NaN</td>\n",
       "      <td>NaN</td>\n",
       "      <td>NaN</td>\n",
       "    </tr>\n",
       "  </tbody>\n",
       "</table>\n",
       "</div>"
      ],
      "text/plain": [
       "                  Date    Year        Type    Country                State  \\\n",
       "0  2025-04-19 00:00:00  2025.0  Unprovoked   Maldives  Kulhudhuffushi City   \n",
       "1  2025-04-12 00:00:00  2025.0  Unprovoked        USA              Florida   \n",
       "2  2025-03-26 00:00:00  2025.0  Unprovoked  Australia                   WA   \n",
       "3  2025-03-10 00:00:00  2025.0  Unprovoked  Australia                   WA   \n",
       "4  2025-03-07 00:00:00  2025.0  Unprovoked  Australia                  NSW   \n",
       "\n",
       "                                            Location     Activity  \\\n",
       "0                                   Haa Dhaalu atoll   snorkeling   \n",
       "1  Everglades National Park Flamingo Lodge Highwa...  Undisclosed   \n",
       "2          Sandtrax Port Beach North Fremantle Perth     Swimming   \n",
       "3                                Duke of Orleans Bay      Surfing   \n",
       "4                 Gunyah beach Bundeena Port Hacking     Swimming   \n",
       "\n",
       "                   Name Sex  Age                                 Injury  \\\n",
       "0          Unknown Male   M   30             Injuries to right shoulder   \n",
       "1          Unknown Male   M    ?         Injuries to right hand and arm   \n",
       "2          Unknown Male   M  30+                    Bumping to the body   \n",
       "3  Steven Jeffrey Payne   M   37             Missing body not recovered   \n",
       "4        Mangyong Zhang  F    56  Serious lacerations above right knee.   \n",
       "\n",
       "  Fatal Y/N        Time           Species   \\\n",
       "0         N  Not stated         Not stated   \n",
       "1         N     1500hrs         Not stated   \n",
       "2         N     1430hrs   1.5m Tiger shark   \n",
       "3         Y    1210 hrs  Great White Shark   \n",
       "4         N     1340hrs         Bull shark   \n",
       "\n",
       "                                              Source  pdf href formula href  \\\n",
       "0   Todd Smith: The edition: https://en.sun.mv/96031  NaN          NaN  NaN   \n",
       "1  Kevin McMurray Trackingsharks.com: Florida New...  NaN          NaN  NaN   \n",
       "2  Kevin McMurray Trackingsharks.com: www.surfer....  NaN          NaN  NaN   \n",
       "3                                          Bob Myatt  NaN          NaN  NaN   \n",
       "4                                          Bob Myatt  NaN          NaN  NaN   \n",
       "\n",
       "  Case Number Case Number.1  original order Unnamed: 21 Unnamed: 22  \n",
       "0         NaN           NaN             NaN         NaN         NaN  \n",
       "1         NaN           NaN             NaN         NaN         NaN  \n",
       "2         NaN           NaN             NaN         NaN         NaN  \n",
       "3         NaN           NaN             NaN         NaN         NaN  \n",
       "4         NaN           NaN             NaN         NaN         NaN  "
      ]
     },
     "execution_count": 1423,
     "metadata": {},
     "output_type": "execute_result"
    }
   ],
   "source": [
    "df.head()\n",
    "#Parece que hay muchos valores muy sucios dentro de las columnas y algunas columnas parece que tienen muchos nulos."
   ]
  },
  {
   "cell_type": "code",
   "execution_count": 1424,
   "metadata": {},
   "outputs": [
    {
     "data": {
      "text/plain": [
       "(7012, 23)"
      ]
     },
     "execution_count": 1424,
     "metadata": {},
     "output_type": "execute_result"
    }
   ],
   "source": [
    "df.shape"
   ]
  },
  {
   "cell_type": "code",
   "execution_count": 1425,
   "metadata": {},
   "outputs": [
    {
     "data": {
      "text/plain": [
       "Index(['Date', 'Year', 'Type', 'Country', 'State', 'Location', 'Activity',\n",
       "       'Name', 'Sex', 'Age', 'Injury', 'Fatal Y/N', 'Time', 'Species ',\n",
       "       'Source', 'pdf', 'href formula', 'href', 'Case Number', 'Case Number.1',\n",
       "       'original order', 'Unnamed: 21', 'Unnamed: 22'],\n",
       "      dtype='object')"
      ]
     },
     "execution_count": 1425,
     "metadata": {},
     "output_type": "execute_result"
    }
   ],
   "source": [
    "df.columns\n",
    "#Hay que limpiar los nombres de las columnas."
   ]
  },
  {
   "cell_type": "code",
   "execution_count": 1426,
   "metadata": {},
   "outputs": [
    {
     "data": {
      "text/plain": [
       "Date               object\n",
       "Year              float64\n",
       "Type               object\n",
       "Country            object\n",
       "State              object\n",
       "Location           object\n",
       "Activity           object\n",
       "Name               object\n",
       "Sex                object\n",
       "Age                object\n",
       "Injury             object\n",
       "Fatal Y/N          object\n",
       "Time               object\n",
       "Species            object\n",
       "Source             object\n",
       "pdf                object\n",
       "href formula       object\n",
       "href               object\n",
       "Case Number        object\n",
       "Case Number.1      object\n",
       "original order    float64\n",
       "Unnamed: 21        object\n",
       "Unnamed: 22        object\n",
       "dtype: object"
      ]
     },
     "execution_count": 1426,
     "metadata": {},
     "output_type": "execute_result"
    }
   ],
   "source": [
    "df.dtypes\n",
    "#Hay que cambiar los tipos de dato, hemos decidido dejarlo para más tarde, cuando hayamos limpiado bien las columnas."
   ]
  },
  {
   "cell_type": "code",
   "execution_count": 1427,
   "metadata": {},
   "outputs": [
    {
     "data": {
      "text/html": [
       "<div>\n",
       "<style scoped>\n",
       "    .dataframe tbody tr th:only-of-type {\n",
       "        vertical-align: middle;\n",
       "    }\n",
       "\n",
       "    .dataframe tbody tr th {\n",
       "        vertical-align: top;\n",
       "    }\n",
       "\n",
       "    .dataframe thead th {\n",
       "        text-align: right;\n",
       "    }\n",
       "</style>\n",
       "<table border=\"1\" class=\"dataframe\">\n",
       "  <thead>\n",
       "    <tr style=\"text-align: right;\">\n",
       "      <th></th>\n",
       "      <th>count</th>\n",
       "      <th>mean</th>\n",
       "      <th>std</th>\n",
       "      <th>min</th>\n",
       "      <th>25%</th>\n",
       "      <th>50%</th>\n",
       "      <th>75%</th>\n",
       "      <th>max</th>\n",
       "    </tr>\n",
       "  </thead>\n",
       "  <tbody>\n",
       "    <tr>\n",
       "      <th>Year</th>\n",
       "      <td>7010.0</td>\n",
       "      <td>1935.271327</td>\n",
       "      <td>271.735460</td>\n",
       "      <td>0.0</td>\n",
       "      <td>1947.0</td>\n",
       "      <td>1986.0</td>\n",
       "      <td>2009.0</td>\n",
       "      <td>2026.0</td>\n",
       "    </tr>\n",
       "    <tr>\n",
       "      <th>original order</th>\n",
       "      <td>6799.0</td>\n",
       "      <td>3401.152081</td>\n",
       "      <td>1963.076319</td>\n",
       "      <td>2.0</td>\n",
       "      <td>1701.5</td>\n",
       "      <td>3401.0</td>\n",
       "      <td>5100.5</td>\n",
       "      <td>6802.0</td>\n",
       "    </tr>\n",
       "  </tbody>\n",
       "</table>\n",
       "</div>"
      ],
      "text/plain": [
       "                 count         mean          std  min     25%     50%     75%  \\\n",
       "Year            7010.0  1935.271327   271.735460  0.0  1947.0  1986.0  2009.0   \n",
       "original order  6799.0  3401.152081  1963.076319  2.0  1701.5  3401.0  5100.5   \n",
       "\n",
       "                   max  \n",
       "Year            2026.0  \n",
       "original order  6802.0  "
      ]
     },
     "execution_count": 1427,
     "metadata": {},
     "output_type": "execute_result"
    }
   ],
   "source": [
    "df.describe().T"
   ]
  },
  {
   "cell_type": "code",
   "execution_count": 1428,
   "metadata": {},
   "outputs": [
    {
     "data": {
      "text/html": [
       "<div>\n",
       "<style scoped>\n",
       "    .dataframe tbody tr th:only-of-type {\n",
       "        vertical-align: middle;\n",
       "    }\n",
       "\n",
       "    .dataframe tbody tr th {\n",
       "        vertical-align: top;\n",
       "    }\n",
       "\n",
       "    .dataframe thead th {\n",
       "        text-align: right;\n",
       "    }\n",
       "</style>\n",
       "<table border=\"1\" class=\"dataframe\">\n",
       "  <thead>\n",
       "    <tr style=\"text-align: right;\">\n",
       "      <th></th>\n",
       "      <th>Date</th>\n",
       "      <th>Type</th>\n",
       "      <th>Country</th>\n",
       "      <th>State</th>\n",
       "      <th>Location</th>\n",
       "      <th>Activity</th>\n",
       "      <th>Name</th>\n",
       "      <th>Sex</th>\n",
       "      <th>Age</th>\n",
       "      <th>Injury</th>\n",
       "      <th>Fatal Y/N</th>\n",
       "      <th>Time</th>\n",
       "      <th>Species</th>\n",
       "      <th>Source</th>\n",
       "      <th>pdf</th>\n",
       "      <th>href formula</th>\n",
       "      <th>href</th>\n",
       "      <th>Case Number</th>\n",
       "      <th>Case Number.1</th>\n",
       "      <th>Unnamed: 21</th>\n",
       "      <th>Unnamed: 22</th>\n",
       "    </tr>\n",
       "  </thead>\n",
       "  <tbody>\n",
       "    <tr>\n",
       "      <th>count</th>\n",
       "      <td>7012</td>\n",
       "      <td>6994</td>\n",
       "      <td>6962</td>\n",
       "      <td>6527</td>\n",
       "      <td>6446</td>\n",
       "      <td>6427</td>\n",
       "      <td>6793</td>\n",
       "      <td>6433</td>\n",
       "      <td>4018</td>\n",
       "      <td>6977</td>\n",
       "      <td>6451</td>\n",
       "      <td>3486</td>\n",
       "      <td>3881</td>\n",
       "      <td>6993</td>\n",
       "      <td>6799</td>\n",
       "      <td>6794</td>\n",
       "      <td>6796</td>\n",
       "      <td>6798</td>\n",
       "      <td>6797</td>\n",
       "      <td>1</td>\n",
       "      <td>2</td>\n",
       "    </tr>\n",
       "    <tr>\n",
       "      <th>unique</th>\n",
       "      <td>6057</td>\n",
       "      <td>12</td>\n",
       "      <td>242</td>\n",
       "      <td>926</td>\n",
       "      <td>4570</td>\n",
       "      <td>1604</td>\n",
       "      <td>5742</td>\n",
       "      <td>10</td>\n",
       "      <td>249</td>\n",
       "      <td>4139</td>\n",
       "      <td>12</td>\n",
       "      <td>444</td>\n",
       "      <td>1712</td>\n",
       "      <td>5356</td>\n",
       "      <td>6789</td>\n",
       "      <td>6784</td>\n",
       "      <td>6776</td>\n",
       "      <td>6777</td>\n",
       "      <td>6775</td>\n",
       "      <td>1</td>\n",
       "      <td>2</td>\n",
       "    </tr>\n",
       "    <tr>\n",
       "      <th>top</th>\n",
       "      <td>1957</td>\n",
       "      <td>Unprovoked</td>\n",
       "      <td>USA</td>\n",
       "      <td>Florida</td>\n",
       "      <td>New Smyrna Beach, Volusia County</td>\n",
       "      <td>Surfing</td>\n",
       "      <td>male</td>\n",
       "      <td>M</td>\n",
       "      <td>16</td>\n",
       "      <td>FATAL</td>\n",
       "      <td>N</td>\n",
       "      <td>Afternoon</td>\n",
       "      <td>White shark</td>\n",
       "      <td>K. McMurray, TrackingSharks.com</td>\n",
       "      <td>1907.10.16.R-HongKong.pdf</td>\n",
       "      <td>http://sharkattackfile.net/spreadsheets/pdf_di...</td>\n",
       "      <td>http://sharkattackfile.net/spreadsheets/pdf_di...</td>\n",
       "      <td>2021.07.23</td>\n",
       "      <td>2012.09.02.b</td>\n",
       "      <td>stopped here</td>\n",
       "      <td>Teramo</td>\n",
       "    </tr>\n",
       "    <tr>\n",
       "      <th>freq</th>\n",
       "      <td>9</td>\n",
       "      <td>5170</td>\n",
       "      <td>2558</td>\n",
       "      <td>1186</td>\n",
       "      <td>191</td>\n",
       "      <td>1133</td>\n",
       "      <td>679</td>\n",
       "      <td>5624</td>\n",
       "      <td>92</td>\n",
       "      <td>863</td>\n",
       "      <td>4883</td>\n",
       "      <td>215</td>\n",
       "      <td>194</td>\n",
       "      <td>131</td>\n",
       "      <td>2</td>\n",
       "      <td>2</td>\n",
       "      <td>4</td>\n",
       "      <td>2</td>\n",
       "      <td>2</td>\n",
       "      <td>1</td>\n",
       "      <td>1</td>\n",
       "    </tr>\n",
       "  </tbody>\n",
       "</table>\n",
       "</div>"
      ],
      "text/plain": [
       "        Date        Type Country    State                          Location  \\\n",
       "count   7012        6994    6962     6527                              6446   \n",
       "unique  6057          12     242      926                              4570   \n",
       "top     1957  Unprovoked     USA  Florida  New Smyrna Beach, Volusia County   \n",
       "freq       9        5170    2558     1186                               191   \n",
       "\n",
       "       Activity  Name   Sex   Age Injury Fatal Y/N       Time     Species   \\\n",
       "count      6427  6793  6433  4018   6977      6451       3486         3881   \n",
       "unique     1604  5742    10   249   4139        12        444         1712   \n",
       "top     Surfing  male     M    16  FATAL         N  Afternoon  White shark   \n",
       "freq       1133   679  5624    92    863      4883        215          194   \n",
       "\n",
       "                                 Source                        pdf  \\\n",
       "count                              6993                       6799   \n",
       "unique                             5356                       6789   \n",
       "top     K. McMurray, TrackingSharks.com  1907.10.16.R-HongKong.pdf   \n",
       "freq                                131                          2   \n",
       "\n",
       "                                             href formula  \\\n",
       "count                                                6794   \n",
       "unique                                               6784   \n",
       "top     http://sharkattackfile.net/spreadsheets/pdf_di...   \n",
       "freq                                                    2   \n",
       "\n",
       "                                                     href Case Number  \\\n",
       "count                                                6796        6798   \n",
       "unique                                               6776        6777   \n",
       "top     http://sharkattackfile.net/spreadsheets/pdf_di...  2021.07.23   \n",
       "freq                                                    4           2   \n",
       "\n",
       "       Case Number.1   Unnamed: 21 Unnamed: 22  \n",
       "count           6797             1           2  \n",
       "unique          6775             1           2  \n",
       "top     2012.09.02.b  stopped here      Teramo  \n",
       "freq               2             1           1  "
      ]
     },
     "execution_count": 1428,
     "metadata": {},
     "output_type": "execute_result"
    }
   ],
   "source": [
    "df.describe(include= \"object\")"
   ]
  },
  {
   "cell_type": "markdown",
   "metadata": {},
   "source": [
    "### Limpieza de columnas"
   ]
  },
  {
   "cell_type": "code",
   "execution_count": 1429,
   "metadata": {},
   "outputs": [],
   "source": [
    "#Empezamos con columnas, en str, minusculas y reemplazando espacio por _.\n",
    "df.columns = (df.columns.str.strip().str.lower().str.replace(\" \", \"_\"))"
   ]
  },
  {
   "cell_type": "code",
   "execution_count": 1430,
   "metadata": {},
   "outputs": [],
   "source": [
    "#Hacemos que todas sean faciles de nombrar.\n",
    "df.columns = df.columns.str.replace(\"fatal_y/n\", \"fatal\")"
   ]
  },
  {
   "cell_type": "code",
   "execution_count": 1431,
   "metadata": {},
   "outputs": [],
   "source": [
    "#Eliminamos las que no nos interesan, otras las eliminaremos más tarde para poder eliminar duplicados.\n",
    "df = df.drop(['location','state','source', 'pdf', 'href_formula', 'href', 'case_number', 'case_number.1', 'original_order', 'unnamed:_21', 'unnamed:_22'], axis=1)"
   ]
  },
  {
   "cell_type": "code",
   "execution_count": 1432,
   "metadata": {},
   "outputs": [
    {
     "data": {
      "text/plain": [
       "Index(['date', 'year', 'type', 'country', 'activity', 'name', 'sex', 'age',\n",
       "       'injury', 'fatal', 'time', 'species'],\n",
       "      dtype='object')"
      ]
     },
     "execution_count": 1432,
     "metadata": {},
     "output_type": "execute_result"
    }
   ],
   "source": [
    "#Comprobamos si esta todo bien.\n",
    "df.columns"
   ]
  },
  {
   "cell_type": "markdown",
   "metadata": {},
   "source": [
    "### Limpiamos las filas de cada columna"
   ]
  },
  {
   "cell_type": "code",
   "execution_count": 1433,
   "metadata": {},
   "outputs": [
    {
     "data": {
      "text/plain": [
       "array(['M', 'F ', 'F', 'M ', nan, ' M', 'm', 'lli', 'M x 2', 'N', '.'],\n",
       "      dtype=object)"
      ]
     },
     "execution_count": 1433,
     "metadata": {},
     "output_type": "execute_result"
    }
   ],
   "source": [
    "df['sex'].unique()"
   ]
  },
  {
   "cell_type": "code",
   "execution_count": 1434,
   "metadata": {},
   "outputs": [
    {
     "data": {
      "text/plain": [
       "array(['M', 'F', nan], dtype=object)"
      ]
     },
     "execution_count": 1434,
     "metadata": {},
     "output_type": "execute_result"
    }
   ],
   "source": [
    "#limpiamos el sexo de cada victima\n",
    "df['sex'] = df['sex'].map({\n",
    "    'F ': 'F',\n",
    "    'F': 'F',\n",
    "    '.': \"F\",\n",
    "    'M': 'M',\n",
    "    'M ': 'M',\n",
    "    ' M': 'M',\n",
    "    'm': 'M',\n",
    "    'lli': 'M',\n",
    "    'M x 2': 'M',\n",
    "    'N': 'M'\n",
    "    })\n",
    "df['sex'].unique()"
   ]
  },
  {
   "cell_type": "code",
   "execution_count": 1435,
   "metadata": {},
   "outputs": [
    {
     "data": {
      "text/plain": [
       "array(['Maldives', 'USA', 'Australia', 'Philippines', 'Bahamas',\n",
       "       'Turks and Caicos', 'Mozambique', 'New Caledonia', 'Egypt',\n",
       "       'Thailand', 'New Zealand', 'Hawaii', 'Honduras', 'Indonesia',\n",
       "       'Morocco', 'Jamaica', 'Belize', 'Maldive Islands',\n",
       "       'French Polynesia', 'Tobago', 'AUSTRALIA', 'INDIA', 'TRINIDAD',\n",
       "       'BAHAMAS', 'SOUTH AFRICA', 'MEXICO', 'NEW ZEALAND', 'EGYPT',\n",
       "       'Mexico', 'BELIZE', 'PHILIPPINES', 'Coral Sea', 'SPAIN',\n",
       "       'PORTUGAL', 'SAMOA', 'COLOMBIA', 'ECUADOR', 'FRENCH POLYNESIA',\n",
       "       'NEW CALEDONIA', 'TURKS and CaICOS', 'CUBA', 'BRAZIL',\n",
       "       'SEYCHELLES', 'ARGENTINA', 'FIJI', 'MeXICO', 'South Africa',\n",
       "       'ENGLAND', 'JAPAN', 'INDONESIA', 'JAMAICA', 'MALDIVES', 'THAILAND',\n",
       "       'COLUMBIA', 'COSTA RICA', 'British Overseas Territory', 'CANADA',\n",
       "       'JORDAN', 'ST KITTS / NEVIS', 'ST MARTIN', 'PAPUA NEW GUINEA',\n",
       "       'REUNION ISLAND', 'ISRAEL', 'CHINA', 'IRELAND', 'ITALY',\n",
       "       'MALAYSIA', 'LIBYA', nan, 'MAURITIUS', 'SOLOMON ISLANDS',\n",
       "       'ST HELENA, British overseas territory', 'COMOROS', 'REUNION',\n",
       "       'UNITED KINGDOM', 'UNITED ARAB EMIRATES', 'CAPE VERDE', 'Fiji',\n",
       "       'DOMINICAN REPUBLIC', 'CAYMAN ISLANDS', 'ARUBA', 'MOZAMBIQUE',\n",
       "       'PUERTO RICO', 'ATLANTIC OCEAN', 'GREECE', 'ST. MARTIN', 'FRANCE',\n",
       "       'TRINIDAD & TOBAGO', 'KIRIBATI', 'DIEGO GARCIA', 'TAIWAN',\n",
       "       'PALESTINIAN TERRITORIES', 'GUAM', 'NIGERIA', 'TONGA', 'SCOTLAND',\n",
       "       'CROATIA', 'SAUDI ARABIA', 'CHILE', 'ANTIGUA', 'KENYA', 'RUSSIA',\n",
       "       'TURKS & CAICOS', 'UNITED ARAB EMIRATES (UAE)', 'AZORES',\n",
       "       'SOUTH KOREA', 'MALTA', 'VIETNAM', 'MADAGASCAR', 'PANAMA',\n",
       "       'SOMALIA', 'NEVIS', 'BRITISH VIRGIN ISLANDS', 'NORWAY', 'SENEGAL',\n",
       "       'YEMEN', 'GULF OF ADEN', 'Sierra Leone', 'ST. MAARTIN',\n",
       "       'GRAND CAYMAN', 'Seychelles', 'LIBERIA', 'VANUATU', 'MEXICO ',\n",
       "       'HONDURAS', 'VENEZUELA', 'SRI LANKA', ' TONGA', 'URUGUAY',\n",
       "       'MICRONESIA', 'CARIBBEAN SEA', 'OKINAWA', 'TANZANIA',\n",
       "       'MARSHALL ISLANDS', 'EGYPT / ISRAEL', 'NORTHERN ARABIAN SEA',\n",
       "       'HONG KONG', 'EL SALVADOR', 'ANGOLA', 'BERMUDA', 'MONTENEGRO',\n",
       "       'IRAN', 'TUNISIA', 'NAMIBIA', 'NORTH ATLANTIC OCEAN',\n",
       "       'SOUTH CHINA SEA', 'BANGLADESH', 'PALAU', 'WESTERN SAMOA',\n",
       "       'PACIFIC OCEAN ', 'BRITISH ISLES', 'GRENADA', 'IRAQ', 'TURKEY',\n",
       "       'SINGAPORE', 'NEW BRITAIN', 'SUDAN', 'JOHNSTON ISLAND',\n",
       "       'SOUTH PACIFIC OCEAN', 'NEW GUINEA', 'RED SEA',\n",
       "       'NORTH PACIFIC OCEAN', 'FEDERATED STATES OF MICRONESIA',\n",
       "       'MID ATLANTIC OCEAN', 'ADMIRALTY ISLANDS', 'BRITISH WEST INDIES',\n",
       "       'SOUTH ATLANTIC OCEAN', 'PERSIAN GULF', 'RED SEA / INDIAN OCEAN',\n",
       "       'PACIFIC OCEAN', 'NORTH SEA', 'NICARAGUA ', 'MALDIVE ISLANDS',\n",
       "       'AMERICAN SAMOA', 'ANDAMAN / NICOBAR ISLANDAS', 'GABON', 'MAYOTTE',\n",
       "       'NORTH ATLANTIC OCEAN ', 'THE BALKANS', 'SUDAN?', 'MARTINIQUE',\n",
       "       'INDIAN OCEAN', 'GUATEMALA', 'NETHERLANDS ANTILLES',\n",
       "       'NORTHERN MARIANA ISLANDS', 'IRAN / IRAQ', 'JAVA', 'SIERRA LEONE',\n",
       "       ' PHILIPPINES', 'NICARAGUA', 'CENTRAL PACIFIC',\n",
       "       'SOLOMON ISLANDS / VANUATU', 'SOUTHWEST PACIFIC OCEAN',\n",
       "       'BAY OF BENGAL', 'MID-PACIFC OCEAN', 'SLOVENIA', 'CURACAO',\n",
       "       'ICELAND', 'ITALY / CROATIA', 'BARBADOS', 'MONACO', 'GUYANA',\n",
       "       'HAITI', 'SAN DOMINGO', 'KUWAIT', 'YEMEN ', 'FALKLAND ISLANDS',\n",
       "       'CRETE', 'CYPRUS', 'EGYPT ', 'WEST INDIES', 'BURMA', 'LEBANON',\n",
       "       'PARAGUAY', 'BRITISH NEW GUINEA', 'CEYLON', 'OCEAN', 'GEORGIA',\n",
       "       'SYRIA', 'TUVALU', 'INDIAN OCEAN?', 'GUINEA', 'ANDAMAN ISLANDS',\n",
       "       'EQUATORIAL GUINEA / CAMEROON', 'COOK ISLANDS', 'TOBAGO', 'PERU',\n",
       "       'AFRICA', 'ALGERIA', 'Coast of AFRICA', 'TASMAN SEA', 'GHANA',\n",
       "       'GREENLAND', 'MEDITERRANEAN SEA', 'SWEDEN', 'ROATAN',\n",
       "       'Between PORTUGAL & INDIA', 'DJIBOUTI', 'BAHREIN', 'KOREA',\n",
       "       'RED SEA?', 'ASIA?', 'CEYLON (SRI LANKA)'], dtype=object)"
      ]
     },
     "execution_count": 1435,
     "metadata": {},
     "output_type": "execute_result"
    }
   ],
   "source": [
    "#hay muchos paises vamos a limpiarlos\n",
    "df['country'].unique()"
   ]
  },
  {
   "cell_type": "code",
   "execution_count": 1436,
   "metadata": {},
   "outputs": [
    {
     "data": {
      "text/plain": [
       "array(['maldives', 'united states', 'australia', 'philippines', 'bahamas',\n",
       "       'turks and caicos islands', 'mozambique', 'france', 'egypt',\n",
       "       'thailand', 'new zealand', 'honduras', 'indonesia', 'morocco',\n",
       "       'jamaica', 'belize', 'trinidad and tobago', 'india',\n",
       "       'south africa', 'mexico', None, 'spain', 'portugal', 'samoa',\n",
       "       'colombia', 'ecuador', 'cuba', 'brazil', 'seychelles', 'argentina',\n",
       "       'fiji', 'united kingdom', 'japan', 'costa rica', 'canada',\n",
       "       'jordan', 'saint kitts and nevis', 'saint martin',\n",
       "       'papua new guinea', 'israel', 'china', 'ireland', 'italy',\n",
       "       'malaysia', 'libya', 'mauritius', 'solomon islands',\n",
       "       'st helena, british overseas territory', 'comoros',\n",
       "       'united arab emirates', 'cabo verde', 'dominican republic',\n",
       "       'netherlands', 'greece', 'kiribati',\n",
       "       'british indian ocean territory', 'taiwan', 'palestine', 'nigeria',\n",
       "       'tonga', 'croatia', 'saudi arabia', 'chile', 'antigua', 'kenya',\n",
       "       'russia', 'south korea', 'malta', 'vietnam', 'madagascar',\n",
       "       'panama', 'somalia', 'norway', 'senegal', 'yemen', 'sierra leone',\n",
       "       'cayman islands', 'liberia', 'vanuatu', 'venezuela', 'sri lanka',\n",
       "       'uruguay', 'micronesia', 'tanzania', 'marshall islands',\n",
       "       'el salvador', 'angola', 'montenegro', 'iran', 'tunisia',\n",
       "       'namibia', 'bangladesh', 'palau', 'grenada', 'iraq', 'turkey',\n",
       "       'singapore', 'sudan', 'nicaragua', 'gabon', 'guatemala',\n",
       "       'slovenia', 'iceland', 'barbados', 'monaco', 'guyana', 'haiti',\n",
       "       'kuwait', 'cyprus', 'myanmar', 'lebanon', 'paraguay', 'georgia',\n",
       "       'syria', 'tuvalu', 'guinea', 'peru', 'algeria', 'ghana', 'denmark',\n",
       "       'sweden', 'djibouti', 'bahrain'], dtype=object)"
      ]
     },
     "execution_count": 1436,
     "metadata": {},
     "output_type": "execute_result"
    }
   ],
   "source": [
    "#Primero las igualamos.\n",
    "df['country'] = df['country'].astype(str).str.strip().str.lower()\n",
    "#Ahora empezamos el mapeo.\n",
    "mapeo_paises = {\n",
    "    # --- UNITED STATES ---\n",
    "    'usa': 'united states',\n",
    "    'hawaii': 'united states',\n",
    "    'johnston island': 'united states',\n",
    "    'guam': 'united states',\n",
    "    'puerto rico': 'united states',\n",
    "    'northern mariana islands': 'united states',\n",
    "    'johnston atoll': 'united states',\n",
    "    'american samoa': 'united states',\n",
    "\n",
    "    # --- UNITED KINGDOM ---\n",
    "    'england': 'united kingdom',\n",
    "    'scotland': 'united kingdom',\n",
    "    'british isles': 'united kingdom',\n",
    "    'saint helena': 'united kingdom',\n",
    "    'cayman islands': 'united kingdom',\n",
    "    'turks and caicos islands': 'united kingdom',\n",
    "    'british indian ocean territory': 'united kingdom',\n",
    "    'british virgin islands': 'united kingdom',\n",
    "    'bermuda': 'united kingdom',\n",
    "    'british overseas territory': 'united kingdom',\n",
    "    'falkland islands': 'united kingdom',\n",
    "\n",
    "    # --- FRANCE ---\n",
    "    'reunion': 'france',\n",
    "    'reunion island': 'france',\n",
    "    'new caledonia': 'france',\n",
    "    'french polynesia': 'france',\n",
    "    'mayotte': 'france',\n",
    "    'martinique': 'france',\n",
    "    'saint martin': 'france',\n",
    "\n",
    "    # --- NETHERLANDS ---\n",
    "    'aruba': 'netherlands',\n",
    "    'curacao': 'netherlands',\n",
    "    'netherlands antilles': 'netherlands',\n",
    "\n",
    "    # --- PORTUGAL ---\n",
    "    'azores': 'portugal',\n",
    "\n",
    "    # --- INDIA ---\n",
    "    'andaman islands': 'india',\n",
    "    'andaman / nicobar islandas': 'india',\n",
    "    'indian ocean?': 'india',\n",
    "    'west indies': None, \n",
    "\n",
    "    # --- SRI LANKA ---\n",
    "    'ceylon': 'sri lanka',\n",
    "    'ceylon (sri lanka)': 'sri lanka',\n",
    "\n",
    "    # --- SAMOA ---\n",
    "    'western samoa': 'samoa',\n",
    "\n",
    "    # --- JAPAN ---\n",
    "    'okinawa': 'japan',\n",
    "\n",
    "    # --- SOUTH KOREA ---\n",
    "    'korea': 'south korea',\n",
    "\n",
    "    # --- PALESTINE ---\n",
    "    'palestinian territories': 'palestine',\n",
    "    'palestine': 'palestine',\n",
    "\n",
    "    # --- COLOMBIA ---\n",
    "    'columbia': 'colombia',\n",
    "\n",
    "    # --- TRINIDAD & TOBAGO ---\n",
    "    'trinidad': 'trinidad and tobago',\n",
    "    'tobago': 'trinidad and tobago',\n",
    "    'trinidad & tobago': 'trinidad and tobago',\n",
    "\n",
    "    # --- HONDURAS ---\n",
    "    'roatan': 'honduras',\n",
    "\n",
    "    # --- CABO VERDE ---\n",
    "    'cape verde': 'cabo verde',\n",
    "\n",
    "    # --- MYANMAR ---\n",
    "    'burma': 'myanmar',\n",
    "\n",
    "    # --- BAHRAIN ---\n",
    "    'bahrein': 'bahrain',\n",
    "\n",
    "    # --- MICRONESIA ---\n",
    "    'federated states of micronesia': 'micronesia',\n",
    "\n",
    "    # --- PAPUA NEW GUINEA ---\n",
    "    'new britain': 'papua new guinea',\n",
    "    'admiralty islands': 'papua new guinea',\n",
    "    'british new guinea': 'papua new guinea',\n",
    "    'new guinea': 'papua new guinea',\n",
    "\n",
    "    # --- GREECE ---\n",
    "    'crete': 'greece',\n",
    "\n",
    "    # --- DENMARK ---\n",
    "    'greenland': 'denmark',\n",
    "\n",
    "    # --- CHINA ---\n",
    "    'hong kong': 'china',\n",
    "\n",
    "    # --- OCEAN / REGIONES MARÍTIMAS AMBIGUAS --- (todo esto se convierte en None)\n",
    "    'pacific ocean': None,\n",
    "    'atlantic ocean': None,\n",
    "    'caribbean sea': None,\n",
    "    'coral sea': None,\n",
    "    'tasman sea': None,\n",
    "    'north atlantic ocean': None,\n",
    "    'north sea': None,\n",
    "    'south china sea': None,\n",
    "    'mid-pacifc ocean': None,\n",
    "    'mid atlantic ocean': None,\n",
    "    'mediterranean sea': None,\n",
    "    'gulf of aden': None,\n",
    "    'bay of bengal': None,\n",
    "    'persian gulf': None,\n",
    "    'red sea': None,\n",
    "    'red sea?': None,\n",
    "    'indian ocean': None,\n",
    "    'indian ocean?': None,\n",
    "    'south atlantic ocean': None,\n",
    "    'south pacific ocean': None,\n",
    "    'north pacific ocean': None,\n",
    "    'central pacific': None,\n",
    "    'southwest pacific ocean': None,\n",
    "    'northern arabian sea': None,\n",
    "    'red sea / indian ocean': None,\n",
    "    'sudan?': 'sudan',\n",
    "\n",
    "    # --- REGIONES GEOGRÁFICAS INDEFINIDAS ---\n",
    "    'coast of africa': None,\n",
    "    'africa': None,\n",
    "    'the balkans': None,\n",
    "    'ocean': None,\n",
    "    'between portugal & india': None,\n",
    "    'british west indies': None,\n",
    "    'asia?': None,\n",
    "    'equatorial guinea / cameroon': None,\n",
    "    'egypt / israel': None,\n",
    "    'iran / iraq': None,\n",
    "    'italy / croatia': None,\n",
    "    'solomon islands / vanuatu': None,\n",
    "\n",
    "    # --- ISLAS O TERRITORIOS MENORES (claros) ---\n",
    "    'cook islands': 'new zealand',\n",
    "    'cook island': None,  \n",
    "    'maldive islands': 'maldives',\n",
    "    'turks and caicos': 'turks and caicos islands',\n",
    "    'turks & caicos': 'turks and caicos islands',\n",
    "    'united arab emirates (uae)': 'united arab emirates',\n",
    "    'st martin': 'saint martin',\n",
    "    'st. martin': 'saint martin',\n",
    "    'st. maartin': 'saint martin',\n",
    "    'grand cayman': 'cayman islands',\n",
    "    'nevis': 'saint kitts and nevis',\n",
    "    'st kitts / nevis': 'saint kitts and nevis',\n",
    "    'diego garcia': 'british indian ocean territory',\n",
    "    'java': 'indonesia',\n",
    "    'san domingo': 'dominican republic',\n",
    "\n",
    "    # --- NULOS / INDETERMINADOS ---\n",
    "    'nan': None,\n",
    "    None: None\n",
    "}\n",
    "\n",
    "#Aplicamos el mapeo.\n",
    "df['country'] = df['country'].replace(mapeo_paises)\n",
    "df['country'].unique()"
   ]
  },
  {
   "cell_type": "code",
   "execution_count": 1437,
   "metadata": {},
   "outputs": [
    {
     "data": {
      "text/plain": [
       "array(['philippines', 'thailand', 'indonesia', 'mexico', 'spain',\n",
       "       'portugal', 'cuba', 'japan', 'greece', 'croatia', 'peru'],\n",
       "      dtype=object)"
      ]
     },
     "execution_count": 1437,
     "metadata": {},
     "output_type": "execute_result"
    }
   ],
   "source": [
    "#Filtramos los paises de nuestra empresa.\n",
    "paises_validos = [\n",
    "    'spain', 'portugal', 'greece', 'croatia',\n",
    "    'thailand', 'indonesia', 'philippines', 'japan', 'mexico', 'peru', 'cuba'\n",
    "]\n",
    "df = df[df['country'].isin(paises_validos)]\n",
    "df['country'].unique()"
   ]
  },
  {
   "cell_type": "code",
   "execution_count": 1438,
   "metadata": {},
   "outputs": [
    {
     "data": {
      "text/plain": [
       "160"
      ]
     },
     "execution_count": 1438,
     "metadata": {},
     "output_type": "execute_result"
    }
   ],
   "source": [
    "#Limpiamos activity, todas sean str, sin espacios y en minusculas.\n",
    "df['activity'] = df['activity'].astype(str).str.strip().str.lower()\n",
    "df['activity'].nunique()"
   ]
  },
  {
   "cell_type": "code",
   "execution_count": 1439,
   "metadata": {},
   "outputs": [
    {
     "data": {
      "text/plain": [
       "6"
      ]
     },
     "execution_count": 1439,
     "metadata": {},
     "output_type": "execute_result"
    }
   ],
   "source": [
    "#Filtramos las que contienen ciertas palabras para poder hacer una nueva clasificación.\n",
    "df['activity_clean'] = df['activity']\n",
    "df.loc[df['activity'].str.contains('swim|bathing|wading|floating|playing|jump|train', na=False), 'activity_clean'] = 'swimming'\n",
    "df.loc[df['activity'].str.contains('diving|snorkel', na=False), 'activity_clean'] = 'diving'\n",
    "df.loc[df['activity'].str.contains('surf|kite|board|kayak|cano|rowing|padd', na=False), 'activity_clean'] = 'surf'\n",
    "df.loc[df['activity'].str.contains('fish|boat', na=False), 'activity_clean'] = 'fishing'\n",
    "df.loc[df['activity'].str.contains('wreck|disaster', na=False), 'activity_clean'] = 'wreck'\n",
    "categorias = ['swimming', 'diving', 'surf', 'fishing', 'wreck']\n",
    "df.loc[~df['activity_clean'].isin(categorias), 'activity_clean'] = 'other'\n",
    "df['activity'] = df['activity_clean']\n",
    "df = df.drop(['activity_clean'], axis=1)\n",
    "df['activity'].nunique()"
   ]
  },
  {
   "cell_type": "code",
   "execution_count": 1440,
   "metadata": {},
   "outputs": [],
   "source": [
    "#Limpiamos injury, todas sean str, sin espacios y en minusculas.\n",
    "df['injury'] = df['injury'].astype(str).str.strip().str.lower()\n",
    "#Metemos los valores en categorias nuevas como en el anterior pero de una forma distinta.\n",
    "def categorize_injury(injury):\n",
    "    if pd.isna(injury):\n",
    "        return 'Unknown'\n",
    "\n",
    "    injury = injury.lower()\n",
    "\n",
    "    if 'fatal' in injury or 'died' in injury or 'death' in injury:\n",
    "        return 'Fatal'\n",
    "    elif 'serious' in injury or 'severed' in injury or 'critical' in injury:\n",
    "        return 'Serious injury'\n",
    "    elif 'no injury' in injury or 'uninjured' in injury or 'not injured' in injury or 'no' in injury:\n",
    "        return 'No injury'\n",
    "    elif 'minor' in injury or 'superficial' in injury or 'lower' in injury:\n",
    "        return 'Minor injury'\n",
    "    elif 'leg' in injury or 'foot' in injury or 'thigh' in injury or 'ankle' in injury or 'calf' in injury:\n",
    "        return 'Injury to the lower trunk'\n",
    "    elif 'arm' in injury or 'hand' in injury:\n",
    "        return 'Injury to the upper trunk'\n",
    "    elif 'lacerations' in injury or 'lacerated' in injury or 'laceration' in injury:\n",
    "        return 'Laceration'\n",
    "    elif 'injury' in injury or 'bitten' in injury:\n",
    "        return 'Unknown type of injury'\n",
    "    elif 'unknown' in injury or 'n/a' in injury:\n",
    "        return 'Unknown'\n",
    "    else:\n",
    "        return 'Other'\n",
    "\n",
    "df['injury'] = df['injury'].apply(categorize_injury)"
   ]
  },
  {
   "cell_type": "code",
   "execution_count": 1441,
   "metadata": {},
   "outputs": [
    {
     "data": {
      "text/plain": [
       "array(['Yes', 'No', nan], dtype=object)"
      ]
     },
     "execution_count": 1441,
     "metadata": {},
     "output_type": "execute_result"
    }
   ],
   "source": [
    "#Limpiamos fatal, todas sean str, sin espacios y en mayusculas.\n",
    "df['fatal'] = df['fatal'].astype(str).str.strip().str.upper()\n",
    "#Tambien usamos map para cambiar las Y a YES y N a NO\n",
    "df['fatal'] = df['fatal'].map({'Y': 'Yes', 'N': 'No',})\n",
    "df['fatal'].unique()"
   ]
  },
  {
   "cell_type": "code",
   "execution_count": 1442,
   "metadata": {},
   "outputs": [
    {
     "data": {
      "text/plain": [
       "hour\n",
       "02     1\n",
       "03     1\n",
       "04     1\n",
       "05     1\n",
       "07     6\n",
       "08     3\n",
       "09     2\n",
       "10    11\n",
       "11     8\n",
       "12     6\n",
       "13     6\n",
       "14     9\n",
       "15     9\n",
       "16     5\n",
       "17     7\n",
       "18     5\n",
       "19     4\n",
       "23     2\n",
       "Name: count, dtype: int64"
      ]
     },
     "execution_count": 1442,
     "metadata": {},
     "output_type": "execute_result"
    }
   ],
   "source": [
    "#Nos aseguramos de que todos los valores sean strings limpios.\n",
    "df['time'] = df['time'].astype(str).str.strip().str.upper()\n",
    "df['hour'] = df['time'].str.extract(r'(\\d{1,2})')\n",
    "#ver distribución de horas\n",
    "df['hour'].value_counts().sort_index() "
   ]
  },
  {
   "cell_type": "code",
   "execution_count": 1443,
   "metadata": {},
   "outputs": [
    {
     "data": {
      "text/plain": [
       "hour\n",
       "02:00       1\n",
       "03:00       1\n",
       "04:00       1\n",
       "05:00       1\n",
       "07:00       6\n",
       "08:00       3\n",
       "09:00       2\n",
       "10:00      11\n",
       "11:00       8\n",
       "12:00       6\n",
       "13:00       6\n",
       "14:00       9\n",
       "15:00       9\n",
       "16:00       5\n",
       "17:00       7\n",
       "18:00       5\n",
       "19:00       4\n",
       "23:00       2\n",
       "nan:00    332\n",
       "Name: count, dtype: int64"
      ]
     },
     "execution_count": 1443,
     "metadata": {},
     "output_type": "execute_result"
    }
   ],
   "source": [
    "# Primero aseguramos que hour es string \n",
    "df['hour'] = df['hour'].astype(str).str.zfill(2)\n",
    "# Luego creamos una nueva columna en formato HH:00\n",
    "df['hour_formatted'] = df['hour'] + ':00'\n",
    "df['hour_formatted'].value_counts().sort_index()\n",
    "df['hour'] = df['hour_formatted']\n",
    "df = df.drop(['hour_formatted','time'], axis=1)\n",
    "df['hour'].value_counts().sort_index() "
   ]
  },
  {
   "cell_type": "code",
   "execution_count": 1444,
   "metadata": {},
   "outputs": [
    {
     "name": "stderr",
     "output_type": "stream",
     "text": [
      "C:\\Users\\rocio\\AppData\\Local\\Temp\\ipykernel_13812\\1983724394.py:3: UserWarning: Could not infer format, so each element will be parsed individually, falling back to `dateutil`. To ensure parsing is consistent and as-expected, please specify a format.\n",
      "  df['date'] = pd.to_datetime(df['date'], errors='coerce')\n"
     ]
    }
   ],
   "source": [
    "#Limpiamos fechas pasandolas a date time, extraemos month para crear una nueva columna y llenamos los años con el resto de informacion de date.\n",
    "def limpiar_fechas(df):\n",
    "    df['date'] = pd.to_datetime(df['date'], errors='coerce')\n",
    "    df['month'] = df['date'].dt.month\n",
    "    df['year_from_date'] = df['date'].dt.year\n",
    "    df['year'] = df['year'].fillna(df['year_from_date'])\n",
    "    df = df.drop(columns=['date', 'year_from_date'])\n",
    "\n",
    "    return df\n",
    "df=limpiar_fechas(df)"
   ]
  },
  {
   "cell_type": "code",
   "execution_count": 1445,
   "metadata": {},
   "outputs": [
    {
     "name": "stdout",
     "output_type": "stream",
     "text": [
      "['unknown' 'unprovoked' 'provoked' 'watercraft' nan]\n"
     ]
    }
   ],
   "source": [
    "#Sustituimos los datos sucios con sus nombres respectivos.\n",
    "\n",
    "type_r = {\n",
    "    ' Provoked': 'Provoked',\n",
    "    'Questionable': 'Unknown',\n",
    "    '?': 'Unknown',\n",
    "    'Unconfirmed': 'Unknown',\n",
    "    'Unverified': 'Unknown',\n",
    "    'Invalid': 'Unknown',\n",
    "    'Under investigation': 'Unknown',\n",
    "    'Boat': 'Watercraft',\n",
    "    'Sea Disaster': 'Watercraft'  \n",
    "}\n",
    "df['type'] = df['type'].replace(type_r)\n",
    "df['type'] = df['type'].str.lower().str.strip()\n",
    "print(df['type'].unique())"
   ]
  },
  {
   "cell_type": "code",
   "execution_count": 1446,
   "metadata": {},
   "outputs": [
    {
     "data": {
      "text/plain": [
       "array(['Other', 'Bull shark', 'Tiger shark'], dtype=object)"
      ]
     },
     "execution_count": 1446,
     "metadata": {},
     "output_type": "execute_result"
    }
   ],
   "source": [
    "#Limpiamos las especies de tiburón.\n",
    "df['species'] = df['species'].str.lower().str.strip()\n",
    "species_r = {\n",
    "    'tiger shark': 'Tiger shark',\n",
    "    \"1.5m tiger shark\": 'Tiger shark',\n",
    "    \"12' tiger shark\": 'Tiger shark',\n",
    "    'great white shark': 'Great white shark',\n",
    "    'bull shark': 'Bull shark'\n",
    "}\n",
    "df['species'] = df['species'].replace(species_r)\n",
    "new_species = []\n",
    "for value in df['species']:\n",
    "    if value == 'Tiger shark':\n",
    "        new_species.append('Tiger shark')\n",
    "    elif value == 'Great white shark':\n",
    "        new_species.append('Great white shark')\n",
    "    elif value == 'Bull shark':\n",
    "        new_species.append('Bull shark')\n",
    "    else:\n",
    "        new_species.append('Other')\n",
    "df['species'] = new_species\n",
    "df['species'].unique()"
   ]
  },
  {
   "cell_type": "code",
   "execution_count": 1447,
   "metadata": {},
   "outputs": [
    {
     "data": {
      "text/plain": [
       "array(['29', '57', '68', '22', '66', '52', '26', '59', '', '35', '17',\n",
       "       '10', '53', '60', '8', '56', '14', '55', '12', '9', '75', '23',\n",
       "       '32', '54', '13', '42', '11', '82', '33', '25', '48', '40', '24',\n",
       "       '38', '37', '36', '16', '30', '43', '31', '34', '2826', '46', '18',\n",
       "       '49', '15', '39', '21', '7', '19', '51', '28', '47', '69', '41',\n",
       "       '20', '45', '58', '1318', '50', '78', '3623', '27'], dtype=object)"
      ]
     },
     "execution_count": 1447,
     "metadata": {},
     "output_type": "execute_result"
    }
   ],
   "source": [
    "#Cambiamos limpiamos los años.\n",
    "df['age'] = df['age'].astype(str).str.strip()\n",
    "df['age'] = df['age'].str.replace(r'[^\\d]', '', regex=True)\n",
    "df['age'].unique()"
   ]
  },
  {
   "cell_type": "code",
   "execution_count": 1448,
   "metadata": {},
   "outputs": [
    {
     "data": {
      "text/plain": [
       "array(['29', '57', '68', '22', '66', '52', '26', '59', nan, '35', '17',\n",
       "       '10', '53', '60', '8', '56', '14', '55', '12', '9', '75', '23',\n",
       "       '32', '54', '13', '42', '11', '82', '33', '25', '48', '40', '24',\n",
       "       '38', '37', '36', '16', '30', '43', '31', '34', '28', '46', '18',\n",
       "       '49', '15', '39', '21', '7', '19', '51', '47', '69', '41', '20',\n",
       "       '45', '58', '50', '78', '27'], dtype=object)"
      ]
     },
     "execution_count": 1448,
     "metadata": {},
     "output_type": "execute_result"
    }
   ],
   "source": [
    "#Como solo queremos dos digitos como mucho le aplicamos una funcion.\n",
    "#Esta se queda solo con los dos primeros digitos.\n",
    "def clean_age(age):\n",
    "    if isinstance(age, str) and len(age) > 2 and age.isdigit():\n",
    "        return age[:2]\n",
    "    else:\n",
    "        return age\n",
    "df['age'] = df['age'].apply(clean_age)\n",
    "df['age'] = df['age'].replace(r'^\\s*$', np.nan, regex=True)\n",
    "df['age'].unique()"
   ]
  },
  {
   "cell_type": "code",
   "execution_count": 1449,
   "metadata": {},
   "outputs": [],
   "source": [
    "#Ya las tenemos todas limpias, falta ordenarlas.\n",
    "columnas_ordenadas = ['year','month','hour','country','type','activity','name','sex','age','injury','fatal','species']\n",
    "df = df[columnas_ordenadas]"
   ]
  },
  {
   "cell_type": "code",
   "execution_count": 1450,
   "metadata": {},
   "outputs": [],
   "source": [
    "#Porfin cambiamos los tipos de dato.\n",
    "df['year'] = df['year'].astype('Int64')\n",
    "df['month'] = df['month'].astype('Int64')\n",
    "df['age'] = pd.to_numeric(df['age'], errors='coerce')\n",
    "df['age'] = df['age'].astype('Int64')"
   ]
  },
  {
   "cell_type": "markdown",
   "metadata": {},
   "source": [
    "### Duplicados"
   ]
  },
  {
   "cell_type": "code",
   "execution_count": 1451,
   "metadata": {},
   "outputs": [
    {
     "data": {
      "text/plain": [
       "0"
      ]
     },
     "execution_count": 1451,
     "metadata": {},
     "output_type": "execute_result"
    }
   ],
   "source": [
    "#No hay duplicados.\n",
    "df.duplicated().sum()"
   ]
  },
  {
   "cell_type": "code",
   "execution_count": 1452,
   "metadata": {},
   "outputs": [],
   "source": [
    "#Podemos ya eliminar name.\n",
    "df = df.drop(['name'], axis=1)"
   ]
  },
  {
   "cell_type": "markdown",
   "metadata": {},
   "source": [
    "### Valores nulos"
   ]
  },
  {
   "cell_type": "code",
   "execution_count": 1453,
   "metadata": {},
   "outputs": [
    {
     "data": {
      "text/plain": [
       "(419, 11)"
      ]
     },
     "execution_count": 1453,
     "metadata": {},
     "output_type": "execute_result"
    }
   ],
   "source": [
    "df.shape"
   ]
  },
  {
   "cell_type": "code",
   "execution_count": 1454,
   "metadata": {},
   "outputs": [
    {
     "data": {
      "text/plain": [
       "year          0\n",
       "month        96\n",
       "hour          0\n",
       "country       0\n",
       "type          2\n",
       "activity      0\n",
       "sex          62\n",
       "age         250\n",
       "injury        0\n",
       "fatal        57\n",
       "species       0\n",
       "dtype: int64"
      ]
     },
     "execution_count": 1454,
     "metadata": {},
     "output_type": "execute_result"
    }
   ],
   "source": [
    "#Parece que hay unos cuantos vamos a ver como solucionarlos.\n",
    "df.isna().sum()"
   ]
  },
  {
   "cell_type": "code",
   "execution_count": 1455,
   "metadata": {},
   "outputs": [],
   "source": [
    "#Eliminamos columnas completamente vacías por si acaso.\n",
    "df.dropna(axis=1, how='all', inplace=True)"
   ]
  },
  {
   "cell_type": "code",
   "execution_count": 1456,
   "metadata": {},
   "outputs": [],
   "source": [
    "#Eliminamos filas completamente vacías por si acaso.\n",
    "df.dropna(axis=0, how='all', inplace=True)"
   ]
  },
  {
   "cell_type": "code",
   "execution_count": 1457,
   "metadata": {},
   "outputs": [],
   "source": [
    "#El mes hemos decidido llenarlo con la moda.\n",
    "df['month'] = df['month'].fillna(df['month'].mode()[0])\n",
    "#El resto con unknown ya que no nos gustaria que nos diera información que no es.\n",
    "df['country'] = df['country'].fillna('unknown')\n",
    "df['type'] = df['type'].fillna('unknown')\n",
    "df['sex'] = df['sex'].fillna('unknown')\n",
    "df['age'] = df['age'].fillna(999)\n",
    "df['fatal'] = df['fatal'].fillna('unknown')"
   ]
  },
  {
   "cell_type": "markdown",
   "metadata": {},
   "source": [
    "### Comenzamos a sacar insights"
   ]
  },
  {
   "cell_type": "markdown",
   "metadata": {},
   "source": [
    "Nuestra intencion es hacer que las actividades de nuestra empresa sean más seguras, por lo tanto vamos a intentar sacar información para saber donde se necesita reforzar o hacer cosas distintas para disminuir los ataques de tiburones."
   ]
  },
  {
   "cell_type": "code",
   "execution_count": 1458,
   "metadata": {},
   "outputs": [
    {
     "name": "stdout",
     "output_type": "stream",
     "text": [
      "Año más antiguo: 1500\n",
      "Año más reciente: 2025\n"
     ]
    }
   ],
   "source": [
    "# Vamos a descubrir primero en que años se colocan nuestros datos de ataques.\n",
    "años_validos = df[df['year'] > 1000]\n",
    "\n",
    "año_menor = años_validos['year'].min()\n",
    "año_mayor = años_validos['year'].max()\n",
    "\n",
    "print(\"Año más antiguo:\", año_menor)\n",
    "print(\"Año más reciente:\", año_mayor)"
   ]
  },
  {
   "cell_type": "code",
   "execution_count": 1459,
   "metadata": {},
   "outputs": [
    {
     "name": "stdout",
     "output_type": "stream",
     "text": [
      "year      country  year_mas_ataques\n",
      "0         croatia              1907\n",
      "1            cuba              1957\n",
      "2          greece              1951\n",
      "3       indonesia              1906\n",
      "4           japan              1992\n",
      "5          mexico              2023\n",
      "6            peru              1849\n",
      "7     philippines              1944\n",
      "8        portugal              1872\n",
      "9           spain              1862\n",
      "10       thailand              2018\n"
     ]
    }
   ],
   "source": [
    "#Parece un rango muy extenso, voy a ver cual fue el año con mas ataques de cada pais.\n",
    "pivot = df[df['year'] > 1000].pivot_table(\n",
    "    index='country',\n",
    "    columns='year',\n",
    "    values='activity',  \n",
    "    aggfunc='count',\n",
    "    fill_value=0\n",
    ")\n",
    "pivot['year_mas_ataques'] = pivot.idxmax(axis=1)\n",
    "resultado = pivot[['year_mas_ataques']].reset_index()\n",
    "print(resultado)"
   ]
  },
  {
   "cell_type": "markdown",
   "metadata": {},
   "source": [
    "· Ciertos países (como México 2023 o Tailandia 2018) muestran picos recientes en ataques:\n",
    "\n",
    "→ Reforzar protocolos de seguridad en esas ubicaciones en temporadas similares."
   ]
  },
  {
   "cell_type": "code",
   "execution_count": 1460,
   "metadata": {},
   "outputs": [
    {
     "name": "stderr",
     "output_type": "stream",
     "text": [
      "C:\\Users\\rocio\\AppData\\Local\\Temp\\ipykernel_13812\\3385326374.py:4: SettingWithCopyWarning: \n",
      "A value is trying to be set on a copy of a slice from a DataFrame.\n",
      "Try using .loc[row_indexer,col_indexer] = value instead\n",
      "\n",
      "See the caveats in the documentation: https://pandas.pydata.org/pandas-docs/stable/user_guide/indexing.html#returning-a-view-versus-a-copy\n",
      "  df_clean['age_group'] = pd.cut(df_clean['age'], bins=[0, 20, 35, 50, 65, 100], labels=[\"0-20\", \"21-35\", \"36-50\", \"51-65\", \"66+\"])\n",
      "C:\\Users\\rocio\\AppData\\Local\\Temp\\ipykernel_13812\\3385326374.py:6: FutureWarning: The default of observed=False is deprecated and will be changed to True in a future version of pandas. Pass observed=False to retain current behavior or observed=True to adopt the future default and silence this warning.\n",
      "  df_clean.groupby('age_group').size().sort_values(ascending=False)\n"
     ]
    },
    {
     "data": {
      "text/plain": [
       "age_group\n",
       "21-35    60\n",
       "0-20     54\n",
       "36-50    32\n",
       "51-65    16\n",
       "66+       7\n",
       "dtype: int64"
      ]
     },
     "execution_count": 1460,
     "metadata": {},
     "output_type": "execute_result"
    }
   ],
   "source": [
    "#¿que rangos de edad sufren más ataques?\n",
    "df_clean = df[df['age'].between(5, 100)] \n",
    "#Vamos a crear primero rangos de edad para averiguarlo.\n",
    "df_clean['age_group'] = pd.cut(df_clean['age'], bins=[0, 20, 35, 50, 65, 100], labels=[\"0-20\", \"21-35\", \"36-50\", \"51-65\", \"66+\"])\n",
    "df['age'] = df_clean['age_group']\n",
    "df_clean.groupby('age_group').size().sort_values(ascending=False)"
   ]
  },
  {
   "cell_type": "markdown",
   "metadata": {},
   "source": [
    "· El grupo 21-35 años es el más afectado por ataques de tiburón (60 casos), seguido por 0-20 años (54 casos).\n",
    "Estos dos grupos representan más del 70% de los ataques.\n",
    "\n",
    "→ Priorizar formación preventiva y protocolos de seguridad para jóvenes y adultos jóvenes.\n",
    "\n",
    "→ Tal vez limitar rangos de edad a ciertas actividades"
   ]
  },
  {
   "cell_type": "code",
   "execution_count": 1461,
   "metadata": {},
   "outputs": [
    {
     "name": "stderr",
     "output_type": "stream",
     "text": [
      "C:\\Users\\rocio\\AppData\\Local\\Temp\\ipykernel_13812\\3364594292.py:1: FutureWarning: The default of observed=False is deprecated and will be changed to True in a future version of pandas. Pass observed=False to retain current behavior or observed=True to adopt the future default and silence this warning.\n",
      "  comparativa = df.groupby(['age', 'fatal']).size().reset_index(name='count')\n"
     ]
    },
    {
     "data": {
      "text/html": [
       "<div>\n",
       "<style scoped>\n",
       "    .dataframe tbody tr th:only-of-type {\n",
       "        vertical-align: middle;\n",
       "    }\n",
       "\n",
       "    .dataframe tbody tr th {\n",
       "        vertical-align: top;\n",
       "    }\n",
       "\n",
       "    .dataframe thead th {\n",
       "        text-align: right;\n",
       "    }\n",
       "</style>\n",
       "<table border=\"1\" class=\"dataframe\">\n",
       "  <thead>\n",
       "    <tr style=\"text-align: right;\">\n",
       "      <th>fatal</th>\n",
       "      <th>No</th>\n",
       "      <th>Yes</th>\n",
       "      <th>unknown</th>\n",
       "      <th>fatality_rate_%</th>\n",
       "    </tr>\n",
       "    <tr>\n",
       "      <th>age</th>\n",
       "      <th></th>\n",
       "      <th></th>\n",
       "      <th></th>\n",
       "      <th></th>\n",
       "    </tr>\n",
       "  </thead>\n",
       "  <tbody>\n",
       "    <tr>\n",
       "      <th>0-20</th>\n",
       "      <td>24</td>\n",
       "      <td>22</td>\n",
       "      <td>8</td>\n",
       "      <td>40.7</td>\n",
       "    </tr>\n",
       "    <tr>\n",
       "      <th>21-35</th>\n",
       "      <td>26</td>\n",
       "      <td>30</td>\n",
       "      <td>4</td>\n",
       "      <td>50.0</td>\n",
       "    </tr>\n",
       "    <tr>\n",
       "      <th>36-50</th>\n",
       "      <td>19</td>\n",
       "      <td>9</td>\n",
       "      <td>4</td>\n",
       "      <td>28.1</td>\n",
       "    </tr>\n",
       "    <tr>\n",
       "      <th>51-65</th>\n",
       "      <td>8</td>\n",
       "      <td>7</td>\n",
       "      <td>1</td>\n",
       "      <td>43.8</td>\n",
       "    </tr>\n",
       "    <tr>\n",
       "      <th>66+</th>\n",
       "      <td>3</td>\n",
       "      <td>3</td>\n",
       "      <td>1</td>\n",
       "      <td>42.9</td>\n",
       "    </tr>\n",
       "  </tbody>\n",
       "</table>\n",
       "</div>"
      ],
      "text/plain": [
       "fatal  No  Yes  unknown  fatality_rate_%\n",
       "age                                     \n",
       "0-20   24   22        8             40.7\n",
       "21-35  26   30        4             50.0\n",
       "36-50  19    9        4             28.1\n",
       "51-65   8    7        1             43.8\n",
       "66+     3    3        1             42.9"
      ]
     },
     "execution_count": 1461,
     "metadata": {},
     "output_type": "execute_result"
    }
   ],
   "source": [
    "comparativa = df.groupby(['age', 'fatal']).size().reset_index(name='count')\n",
    "pivot_edad_fatal = comparativa.pivot(index='age', columns='fatal', values='count').fillna(0)\n",
    "pivot_edad_fatal['fatality_rate_%'] = (pivot_edad_fatal['Yes'] / pivot_edad_fatal.sum(axis=1)) * 100\n",
    "pivot_edad_fatal = pivot_edad_fatal.round(1)\n",
    "pivot_edad_fatal"
   ]
  },
  {
   "cell_type": "markdown",
   "metadata": {},
   "source": [
    "21-35 años tienen la mayor tasa de mortalidad (50%). Aunque el número de ataques es alto, el riesgo de muerte es notable,\n",
    "los grupos 51-65 años (43.8%) y 66+ años (42.9%) tienen tasas de fatalidad elevadas a pesar de tener menos ataques. Son altas excepto en 36-50.\n",
    "\n",
    "→ Refuerza la idea de limitar los rangos de edad de ciertas actividades, icluso incluyendo in limite de edad.\n",
    "\n",
    "→ Si fuera asumir muchas perdidas se tendrian que priorizar medidas de seguridad en jovenes y en adultos mayores, se podrian añadir guias adicionales y monitoreo mas constante."
   ]
  },
  {
   "cell_type": "code",
   "execution_count": 1462,
   "metadata": {},
   "outputs": [
    {
     "data": {
      "text/plain": [
       "activity\n",
       "swimming    144\n",
       "other        98\n",
       "fishing      86\n",
       "diving       40\n",
       "surf         38\n",
       "wreck        13\n",
       "dtype: int64"
      ]
     },
     "execution_count": 1462,
     "metadata": {},
     "output_type": "execute_result"
    }
   ],
   "source": [
    "#Actividades más peligrosas:\n",
    "df.groupby('activity').size().sort_values(ascending=False)"
   ]
  },
  {
   "cell_type": "markdown",
   "metadata": {},
   "source": [
    "Swimming (144 incidentes) es la actividad con más ataques, lo que indica que el riesgo es elevado en actividades acuáticas sin protección. \n",
    "\n",
    "→ Evaluar crear protocolos de seguridad al nadar."
   ]
  },
  {
   "cell_type": "code",
   "execution_count": 1463,
   "metadata": {},
   "outputs": [
    {
     "name": "stderr",
     "output_type": "stream",
     "text": [
      "C:\\Users\\rocio\\AppData\\Local\\Temp\\ipykernel_13812\\1628908118.py:2: FutureWarning: The default of observed=False is deprecated and will be changed to True in a future version of pandas. Pass observed=False to retain current behavior or observed=True to adopt the future default and silence this warning.\n",
      "  df.groupby(['activity','age']).size().sort_values(ascending=False).head()\n"
     ]
    },
    {
     "data": {
      "text/plain": [
       "activity  age  \n",
       "swimming  0-20     33\n",
       "          21-35    26\n",
       "diving    21-35    10\n",
       "swimming  36-50    10\n",
       "fishing   36-50     9\n",
       "dtype: int64"
      ]
     },
     "execution_count": 1463,
     "metadata": {},
     "output_type": "execute_result"
    }
   ],
   "source": [
    "#En que rango de edad existe mas riesgo en cada actividad.\n",
    "df.groupby(['activity','age']).size().sort_values(ascending=False).head()"
   ]
  },
  {
   "cell_type": "code",
   "execution_count": 1464,
   "metadata": {},
   "outputs": [
    {
     "name": "stdout",
     "output_type": "stream",
     "text": [
      "        country  activity  incident_count\n",
      "0       croatia  swimming              15\n",
      "1          cuba   fishing              16\n",
      "2        greece  swimming              11\n",
      "3     indonesia      surf               8\n",
      "4         japan     other              16\n",
      "5        mexico  swimming              44\n",
      "6          peru     other               1\n",
      "7   philippines     other              21\n",
      "8      portugal   fishing               7\n",
      "9         spain  swimming              25\n",
      "10     thailand  swimming               7\n"
     ]
    }
   ],
   "source": [
    "#Filtrando los paises en los que tenemos nuestras actividades, ¿en que actividades tenemos que incidir mas en la seguridad segun el pais?\n",
    "resumen = df.groupby(['country', 'activity']).size().reset_index(name='incident_count')\n",
    "resumen_ordenado = resumen.sort_values(by=['country', 'incident_count'], ascending=[True, False])\n",
    "mas_peligrosa_por_pais = resumen_ordenado.groupby('country').first().reset_index()\n",
    "print(mas_peligrosa_por_pais)"
   ]
  },
  {
   "cell_type": "markdown",
   "metadata": {},
   "source": [
    "5 de 11 paises en los que tenemos nuestras actividades también tienen un número considerable de incidentes en swimming, lo que sugiere que esta actividad es una de las más peligrosas en diversas ubicaciones."
   ]
  },
  {
   "cell_type": "code",
   "execution_count": 1465,
   "metadata": {},
   "outputs": [
    {
     "data": {
      "text/plain": [
       "country\n",
       "mexico         106\n",
       "philippines     65\n",
       "cuba            49\n",
       "spain           46\n",
       "japan           42\n",
       "croatia         35\n",
       "greece          26\n",
       "indonesia       26\n",
       "thailand        13\n",
       "portugal         9\n",
       "dtype: int64"
      ]
     },
     "execution_count": 1465,
     "metadata": {},
     "output_type": "execute_result"
    }
   ],
   "source": [
    "#Vamos a ver en general que pais de nuestras sedes es más peligroso.\n",
    "df.groupby('country').size().sort_values(ascending=False).head(10)"
   ]
  },
  {
   "cell_type": "code",
   "execution_count": 1466,
   "metadata": {},
   "outputs": [
    {
     "data": {
      "text/plain": [
       "hour\n",
       "nan:00    332\n",
       "10:00      11\n",
       "15:00       9\n",
       "14:00       9\n",
       "11:00       8\n",
       "17:00       7\n",
       "13:00       6\n",
       "12:00       6\n",
       "07:00       6\n",
       "16:00       5\n",
       "dtype: int64"
      ]
     },
     "execution_count": 1466,
     "metadata": {},
     "output_type": "execute_result"
    }
   ],
   "source": [
    "#¿Existe algun riesgo dependiendo de la hora?\n",
    "df.groupby('hour').size().sort_values(ascending=False).head(10)"
   ]
  },
  {
   "cell_type": "markdown",
   "metadata": {},
   "source": [
    "Parece que no tenemos los datos suficientes para asegurarnos ya que hay muchos que no conocemos\n",
    "pero podemos empezar a aplicar mas actividades en la tarde, a partir de las 6."
   ]
  },
  {
   "cell_type": "code",
   "execution_count": 1467,
   "metadata": {},
   "outputs": [
    {
     "data": {
      "text/plain": [
       "sex\n",
       "M          312\n",
       "unknown     62\n",
       "F           45\n",
       "dtype: int64"
      ]
     },
     "execution_count": 1467,
     "metadata": {},
     "output_type": "execute_result"
    }
   ],
   "source": [
    "#¿Hay diferencias de genero?\n",
    "df.groupby('sex').size().sort_values(ascending=False)"
   ]
  },
  {
   "cell_type": "markdown",
   "metadata": {},
   "source": [
    "Parece que estos datos nos llaman la atencion, vamos a investigar un poco mas."
   ]
  },
  {
   "cell_type": "code",
   "execution_count": 1468,
   "metadata": {},
   "outputs": [
    {
     "data": {
      "text/html": [
       "<div>\n",
       "<style scoped>\n",
       "    .dataframe tbody tr th:only-of-type {\n",
       "        vertical-align: middle;\n",
       "    }\n",
       "\n",
       "    .dataframe tbody tr th {\n",
       "        vertical-align: top;\n",
       "    }\n",
       "\n",
       "    .dataframe thead th {\n",
       "        text-align: right;\n",
       "    }\n",
       "</style>\n",
       "<table border=\"1\" class=\"dataframe\">\n",
       "  <thead>\n",
       "    <tr style=\"text-align: right;\">\n",
       "      <th>sex</th>\n",
       "      <th>F</th>\n",
       "      <th>M</th>\n",
       "      <th>unknown</th>\n",
       "    </tr>\n",
       "    <tr>\n",
       "      <th>activity</th>\n",
       "      <th></th>\n",
       "      <th></th>\n",
       "      <th></th>\n",
       "    </tr>\n",
       "  </thead>\n",
       "  <tbody>\n",
       "    <tr>\n",
       "      <th>diving</th>\n",
       "      <td>2</td>\n",
       "      <td>36</td>\n",
       "      <td>2</td>\n",
       "    </tr>\n",
       "    <tr>\n",
       "      <th>fishing</th>\n",
       "      <td>2</td>\n",
       "      <td>65</td>\n",
       "      <td>19</td>\n",
       "    </tr>\n",
       "    <tr>\n",
       "      <th>other</th>\n",
       "      <td>6</td>\n",
       "      <td>63</td>\n",
       "      <td>29</td>\n",
       "    </tr>\n",
       "    <tr>\n",
       "      <th>surf</th>\n",
       "      <td>3</td>\n",
       "      <td>34</td>\n",
       "      <td>1</td>\n",
       "    </tr>\n",
       "    <tr>\n",
       "      <th>swimming</th>\n",
       "      <td>32</td>\n",
       "      <td>106</td>\n",
       "      <td>6</td>\n",
       "    </tr>\n",
       "    <tr>\n",
       "      <th>wreck</th>\n",
       "      <td>0</td>\n",
       "      <td>8</td>\n",
       "      <td>5</td>\n",
       "    </tr>\n",
       "  </tbody>\n",
       "</table>\n",
       "</div>"
      ],
      "text/plain": [
       "sex        F    M  unknown\n",
       "activity                  \n",
       "diving     2   36        2\n",
       "fishing    2   65       19\n",
       "other      6   63       29\n",
       "surf       3   34        1\n",
       "swimming  32  106        6\n",
       "wreck      0    8        5"
      ]
     },
     "execution_count": 1468,
     "metadata": {},
     "output_type": "execute_result"
    }
   ],
   "source": [
    "pivot_fatalidad_1 = df.pivot_table(index='activity', columns='sex', aggfunc='size', fill_value=0)\n",
    "pivot_fatalidad_1"
   ]
  },
  {
   "cell_type": "markdown",
   "metadata": {},
   "source": [
    "Podriamos enfocar medidas de seguridad en hombres, ya que son el grupo más afectado en actividades como swimming y fishing.\n",
    "Potenciar más control y supervisión en actividades con alta participación masculina, especialmente en swimming."
   ]
  },
  {
   "cell_type": "code",
   "execution_count": 1469,
   "metadata": {},
   "outputs": [
    {
     "data": {
      "text/html": [
       "<div>\n",
       "<style scoped>\n",
       "    .dataframe tbody tr th:only-of-type {\n",
       "        vertical-align: middle;\n",
       "    }\n",
       "\n",
       "    .dataframe tbody tr th {\n",
       "        vertical-align: top;\n",
       "    }\n",
       "\n",
       "    .dataframe thead tr th {\n",
       "        text-align: left;\n",
       "    }\n",
       "\n",
       "    .dataframe thead tr:last-of-type th {\n",
       "        text-align: right;\n",
       "    }\n",
       "</style>\n",
       "<table border=\"1\" class=\"dataframe\">\n",
       "  <thead>\n",
       "    <tr>\n",
       "      <th>sex</th>\n",
       "      <th colspan=\"3\" halign=\"left\">F</th>\n",
       "      <th colspan=\"3\" halign=\"left\">M</th>\n",
       "      <th colspan=\"3\" halign=\"left\">unknown</th>\n",
       "    </tr>\n",
       "    <tr>\n",
       "      <th>fatal</th>\n",
       "      <th>No</th>\n",
       "      <th>Yes</th>\n",
       "      <th>unknown</th>\n",
       "      <th>No</th>\n",
       "      <th>Yes</th>\n",
       "      <th>unknown</th>\n",
       "      <th>No</th>\n",
       "      <th>Yes</th>\n",
       "      <th>unknown</th>\n",
       "    </tr>\n",
       "    <tr>\n",
       "      <th>activity</th>\n",
       "      <th></th>\n",
       "      <th></th>\n",
       "      <th></th>\n",
       "      <th></th>\n",
       "      <th></th>\n",
       "      <th></th>\n",
       "      <th></th>\n",
       "      <th></th>\n",
       "      <th></th>\n",
       "    </tr>\n",
       "  </thead>\n",
       "  <tbody>\n",
       "    <tr>\n",
       "      <th>diving</th>\n",
       "      <td>0</td>\n",
       "      <td>2</td>\n",
       "      <td>0</td>\n",
       "      <td>13</td>\n",
       "      <td>17</td>\n",
       "      <td>6</td>\n",
       "      <td>1</td>\n",
       "      <td>0</td>\n",
       "      <td>1</td>\n",
       "    </tr>\n",
       "    <tr>\n",
       "      <th>fishing</th>\n",
       "      <td>0</td>\n",
       "      <td>2</td>\n",
       "      <td>0</td>\n",
       "      <td>38</td>\n",
       "      <td>23</td>\n",
       "      <td>4</td>\n",
       "      <td>11</td>\n",
       "      <td>6</td>\n",
       "      <td>2</td>\n",
       "    </tr>\n",
       "    <tr>\n",
       "      <th>other</th>\n",
       "      <td>2</td>\n",
       "      <td>4</td>\n",
       "      <td>0</td>\n",
       "      <td>17</td>\n",
       "      <td>33</td>\n",
       "      <td>13</td>\n",
       "      <td>6</td>\n",
       "      <td>8</td>\n",
       "      <td>15</td>\n",
       "    </tr>\n",
       "    <tr>\n",
       "      <th>surf</th>\n",
       "      <td>2</td>\n",
       "      <td>1</td>\n",
       "      <td>0</td>\n",
       "      <td>17</td>\n",
       "      <td>14</td>\n",
       "      <td>3</td>\n",
       "      <td>0</td>\n",
       "      <td>1</td>\n",
       "      <td>0</td>\n",
       "    </tr>\n",
       "    <tr>\n",
       "      <th>swimming</th>\n",
       "      <td>14</td>\n",
       "      <td>15</td>\n",
       "      <td>3</td>\n",
       "      <td>45</td>\n",
       "      <td>53</td>\n",
       "      <td>8</td>\n",
       "      <td>1</td>\n",
       "      <td>4</td>\n",
       "      <td>1</td>\n",
       "    </tr>\n",
       "    <tr>\n",
       "      <th>wreck</th>\n",
       "      <td>0</td>\n",
       "      <td>0</td>\n",
       "      <td>0</td>\n",
       "      <td>3</td>\n",
       "      <td>4</td>\n",
       "      <td>1</td>\n",
       "      <td>0</td>\n",
       "      <td>5</td>\n",
       "      <td>0</td>\n",
       "    </tr>\n",
       "  </tbody>\n",
       "</table>\n",
       "</div>"
      ],
      "text/plain": [
       "sex        F               M             unknown            \n",
       "fatal     No Yes unknown  No Yes unknown      No Yes unknown\n",
       "activity                                                    \n",
       "diving     0   2       0  13  17       6       1   0       1\n",
       "fishing    0   2       0  38  23       4      11   6       2\n",
       "other      2   4       0  17  33      13       6   8      15\n",
       "surf       2   1       0  17  14       3       0   1       0\n",
       "swimming  14  15       3  45  53       8       1   4       1\n",
       "wreck      0   0       0   3   4       1       0   5       0"
      ]
     },
     "execution_count": 1469,
     "metadata": {},
     "output_type": "execute_result"
    }
   ],
   "source": [
    "#¿Que grupo muere más cuando se trata de cada actividad?¿Hay algun grupo con mas tendencia?\n",
    "pivot_fatalidad = df.pivot_table(index='activity', columns=['sex', 'fatal'], aggfunc='size', fill_value=0)\n",
    "pivot_fatalidad"
   ]
  },
  {
   "cell_type": "markdown",
   "metadata": {},
   "source": [
    "En la mayoría de las actividades, hombres tienen más muertes, destacando:\n",
    "\n",
    "Fishing (23 muertes en hombres).\n",
    "\n",
    "Swimming (53 muertes en hombres).\n",
    "\n",
    "Other (33 muertes en hombres).\n",
    "\n",
    "→Podriamos generar formación preventiva más centrada en hombres para dar una mayor concienciación sobre estos datos."
   ]
  },
  {
   "cell_type": "code",
   "execution_count": 1470,
   "metadata": {},
   "outputs": [
    {
     "data": {
      "text/plain": [
       "species\n",
       "Other          409\n",
       "Bull shark       5\n",
       "Tiger shark      5\n",
       "dtype: int64"
      ]
     },
     "execution_count": 1470,
     "metadata": {},
     "output_type": "execute_result"
    }
   ],
   "source": [
    "#¿Hay alguna especie más involucrada?\n",
    "df.groupby('species').size().sort_values(ascending=False)"
   ]
  },
  {
   "cell_type": "markdown",
   "metadata": {},
   "source": [
    "No tenemos los datos suficientes"
   ]
  },
  {
   "cell_type": "code",
   "execution_count": 1471,
   "metadata": {},
   "outputs": [
    {
     "data": {
      "text/plain": [
       "month\n",
       "7     147\n",
       "1      44\n",
       "8      43\n",
       "9      31\n",
       "5      25\n",
       "11     25\n",
       "10     22\n",
       "6      21\n",
       "4      20\n",
       "3      17\n",
       "12     16\n",
       "2       8\n",
       "dtype: int64"
      ]
     },
     "execution_count": 1471,
     "metadata": {},
     "output_type": "execute_result"
    }
   ],
   "source": [
    "#¿Hay risgo en la estacionalidad?\n",
    "df.groupby('month').size().sort_values(ascending=False)"
   ]
  },
  {
   "cell_type": "markdown",
   "metadata": {},
   "source": [
    "Parece haber un pico alto de ataques en el verano, con Julio, Agosto y Septiembre siendo los meses más peligrosos.\n",
    "\n",
    "Los meses de invierno (Diciembre, Febrero y Marzo) tienden a tener menos ataques."
   ]
  },
  {
   "cell_type": "code",
   "execution_count": 1472,
   "metadata": {},
   "outputs": [
    {
     "name": "stdout",
     "output_type": "stream",
     "text": [
      "month                 most_dangerous_month  incident_count_in_that_month\n",
      "country     activity                                                    \n",
      "mexico      swimming                     7                            16\n",
      "spain       swimming                     7                            14\n",
      "peru        swimming                    10                            10\n",
      "japan       surf                         9                             9\n",
      "cuba        wreck                        9                             9\n",
      "thailand    fishing                      8                             8\n",
      "croatia     fishing                      7                             7\n",
      "spain       diving                       7                             7\n",
      "japan       fishing                      7                             7\n",
      "            other                        7                             7\n",
      "            swimming                     7                             7\n",
      "croatia     other                        7                             7\n",
      "portugal    fishing                      7                             7\n",
      "mexico      fishing                      7                             7\n",
      "            other                        7                             7\n",
      "spain       fishing                      7                             7\n",
      "philippines wreck                        7                             7\n",
      "peru        other                        7                             7\n",
      "philippines swimming                     7                             7\n",
      "japan       diving                       7                             7\n",
      "indonesia   surf                         7                             7\n",
      "            swimming                     7                             7\n",
      "philippines other                        7                             7\n",
      "indonesia   other                        7                             7\n",
      "spain       other                        7                             7\n",
      "indonesia   diving                       7                             7\n",
      "greece      wreck                        7                             7\n",
      "            swimming                     7                             7\n",
      "            surf                         7                             7\n",
      "            other                        7                             7\n",
      "            fishing                      7                             7\n",
      "            diving                       7                             7\n",
      "cuba        surf                         7                             7\n",
      "            other                        7                             7\n",
      "thailand    other                        7                             7\n",
      "croatia     swimming                     7                             7\n",
      "philippines surf                         6                             6\n",
      "thailand    swimming                     5                             5\n",
      "mexico      diving                       5                             5\n",
      "indonesia   fishing                      5                             5\n",
      "cuba        swimming                     1                             5\n",
      "            fishing                      1                             5\n",
      "            diving                       5                             5\n",
      "philippines fishing                      3                             4\n",
      "mexico      surf                         4                             4\n",
      "spain       surf                         3                             3\n",
      "mexico      wreck                        2                             2\n",
      "philippines diving                       1                             1\n",
      "portugal    other                        1                             1\n",
      "indonesia   wreck                        1                             1\n",
      "thailand    diving                       1                             1\n",
      "japan       wreck                        1                             1\n"
     ]
    }
   ],
   "source": [
    "tabla = pivot_table_country_activity_month = df.pivot_table(\n",
    "    index=['country', 'activity'],\n",
    "    columns='month',\n",
    "    values='year',\n",
    "    aggfunc='count',\n",
    "    fill_value=0\n",
    ")\n",
    "tabla['most_dangerous_month'] = tabla.idxmax(axis=1)\n",
    "tabla['incident_count_in_that_month'] = tabla.max(axis=1)\n",
    "resultado = tabla[['most_dangerous_month', 'incident_count_in_that_month']]\n",
    "resultado = resultado.sort_values(by='incident_count_in_that_month', ascending=False)\n",
    "print(resultado)"
   ]
  },
  {
   "cell_type": "markdown",
   "metadata": {},
   "source": [
    "Nos queda claro que julio es de los más peligrosos en casi todos los paises en los que trabajamos.\n",
    "\n",
    "→Reforzar medidas de seguridad en el mes de Julio, ya que es cuando se registran más incidentes, especialmente en actividades como Swimming y Fishing.\n",
    "\n"
   ]
  },
  {
   "cell_type": "code",
   "execution_count": 1473,
   "metadata": {},
   "outputs": [],
   "source": [
    "df.to_excel('AquaVentura.xlsx', index=False)"
   ]
  }
 ],
 "metadata": {
  "kernelspec": {
   "display_name": "Python 3",
   "language": "python",
   "name": "python3"
  },
  "language_info": {
   "codemirror_mode": {
    "name": "ipython",
    "version": 3
   },
   "file_extension": ".py",
   "mimetype": "text/x-python",
   "name": "python",
   "nbconvert_exporter": "python",
   "pygments_lexer": "ipython3",
   "version": "3.12.1"
  }
 },
 "nbformat": 4,
 "nbformat_minor": 2
}
