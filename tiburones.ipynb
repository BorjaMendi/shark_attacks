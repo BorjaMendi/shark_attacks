{
 "cells": [
  {
   "cell_type": "markdown",
   "metadata": {},
   "source": [
    "## Primero instalamos el xlrd para que VSC lea el excel antiguo"
   ]
  },
  {
   "cell_type": "code",
   "execution_count": 184,
   "metadata": {},
   "outputs": [
    {
     "name": "stdout",
     "output_type": "stream",
     "text": [
      "Requirement already satisfied: xlrd in c:\\users\\rocio\\anaconda3\\lib\\site-packages (2.0.1)\n",
      "Note: you may need to restart the kernel to use updated packages.\n"
     ]
    }
   ],
   "source": [
    "pip install xlrd"
   ]
  },
  {
   "cell_type": "code",
   "execution_count": null,
   "metadata": {},
   "outputs": [],
   "source": []
  },
  {
   "cell_type": "code",
   "execution_count": null,
   "metadata": {},
   "outputs": [],
   "source": [
    "\n"
   ]
  },
  {
   "cell_type": "code",
   "execution_count": 185,
   "metadata": {},
   "outputs": [],
   "source": [
    "import numpy as np"
   ]
  },
  {
   "cell_type": "code",
   "execution_count": 186,
   "metadata": {},
   "outputs": [],
   "source": [
    "#cargamos pandas y el excel\n",
    "import pandas as pd\n",
    "df = pd.read_excel(\"GSAF5.xls\", engine=\"xlrd\")"
   ]
  },
  {
   "cell_type": "code",
   "execution_count": 187,
   "metadata": {},
   "outputs": [],
   "source": [
    "pd.set_option('display.max_columns', None)"
   ]
  },
  {
   "cell_type": "code",
   "execution_count": 188,
   "metadata": {},
   "outputs": [
    {
     "data": {
      "text/plain": [
       "(7012, 23)"
      ]
     },
     "execution_count": 188,
     "metadata": {},
     "output_type": "execute_result"
    }
   ],
   "source": [
    "#tamaño\n",
    "df.shape"
   ]
  },
  {
   "cell_type": "markdown",
   "metadata": {},
   "source": [
    "Es un excel con 7012 filas y 23 columnas"
   ]
  },
  {
   "cell_type": "code",
   "execution_count": 189,
   "metadata": {},
   "outputs": [
    {
     "data": {
      "text/plain": [
       "Index(['Date', 'Year', 'Type', 'Country', 'State', 'Location', 'Activity',\n",
       "       'Name', 'Sex', 'Age', 'Injury', 'Fatal Y/N', 'Time', 'Species ',\n",
       "       'Source', 'pdf', 'href formula', 'href', 'Case Number', 'Case Number.1',\n",
       "       'original order', 'Unnamed: 21', 'Unnamed: 22'],\n",
       "      dtype='object')"
      ]
     },
     "execution_count": 189,
     "metadata": {},
     "output_type": "execute_result"
    }
   ],
   "source": [
    "#nombres de columnas\n",
    "df.columns"
   ]
  },
  {
   "cell_type": "markdown",
   "metadata": {},
   "source": [
    "Tendremos que limpiar y mejorar los nombres de las columnas"
   ]
  },
  {
   "cell_type": "code",
   "execution_count": 190,
   "metadata": {},
   "outputs": [
    {
     "data": {
      "text/plain": [
       "Date               object\n",
       "Year              float64\n",
       "Type               object\n",
       "Country            object\n",
       "State              object\n",
       "Location           object\n",
       "Activity           object\n",
       "Name               object\n",
       "Sex                object\n",
       "Age                object\n",
       "Injury             object\n",
       "Fatal Y/N          object\n",
       "Time               object\n",
       "Species            object\n",
       "Source             object\n",
       "pdf                object\n",
       "href formula       object\n",
       "href               object\n",
       "Case Number        object\n",
       "Case Number.1      object\n",
       "original order    float64\n",
       "Unnamed: 21        object\n",
       "Unnamed: 22        object\n",
       "dtype: object"
      ]
     },
     "execution_count": 190,
     "metadata": {},
     "output_type": "execute_result"
    }
   ],
   "source": [
    "#ver tipos de datos\n",
    "df.dtypes"
   ]
  },
  {
   "cell_type": "code",
   "execution_count": 191,
   "metadata": {},
   "outputs": [
    {
     "data": {
      "text/html": [
       "<div>\n",
       "<style scoped>\n",
       "    .dataframe tbody tr th:only-of-type {\n",
       "        vertical-align: middle;\n",
       "    }\n",
       "\n",
       "    .dataframe tbody tr th {\n",
       "        vertical-align: top;\n",
       "    }\n",
       "\n",
       "    .dataframe thead th {\n",
       "        text-align: right;\n",
       "    }\n",
       "</style>\n",
       "<table border=\"1\" class=\"dataframe\">\n",
       "  <thead>\n",
       "    <tr style=\"text-align: right;\">\n",
       "      <th></th>\n",
       "      <th>count</th>\n",
       "      <th>mean</th>\n",
       "      <th>std</th>\n",
       "      <th>min</th>\n",
       "      <th>25%</th>\n",
       "      <th>50%</th>\n",
       "      <th>75%</th>\n",
       "      <th>max</th>\n",
       "    </tr>\n",
       "  </thead>\n",
       "  <tbody>\n",
       "    <tr>\n",
       "      <th>Year</th>\n",
       "      <td>7010.0</td>\n",
       "      <td>1935.271327</td>\n",
       "      <td>271.735460</td>\n",
       "      <td>0.0</td>\n",
       "      <td>1947.0</td>\n",
       "      <td>1986.0</td>\n",
       "      <td>2009.0</td>\n",
       "      <td>2026.0</td>\n",
       "    </tr>\n",
       "    <tr>\n",
       "      <th>original order</th>\n",
       "      <td>6799.0</td>\n",
       "      <td>3401.152081</td>\n",
       "      <td>1963.076319</td>\n",
       "      <td>2.0</td>\n",
       "      <td>1701.5</td>\n",
       "      <td>3401.0</td>\n",
       "      <td>5100.5</td>\n",
       "      <td>6802.0</td>\n",
       "    </tr>\n",
       "  </tbody>\n",
       "</table>\n",
       "</div>"
      ],
      "text/plain": [
       "                 count         mean          std  min     25%     50%     75%  \\\n",
       "Year            7010.0  1935.271327   271.735460  0.0  1947.0  1986.0  2009.0   \n",
       "original order  6799.0  3401.152081  1963.076319  2.0  1701.5  3401.0  5100.5   \n",
       "\n",
       "                   max  \n",
       "Year            2026.0  \n",
       "original order  6802.0  "
      ]
     },
     "execution_count": 191,
     "metadata": {},
     "output_type": "execute_result"
    }
   ],
   "source": [
    "df.describe().T"
   ]
  },
  {
   "cell_type": "code",
   "execution_count": 192,
   "metadata": {},
   "outputs": [
    {
     "data": {
      "text/html": [
       "<div>\n",
       "<style scoped>\n",
       "    .dataframe tbody tr th:only-of-type {\n",
       "        vertical-align: middle;\n",
       "    }\n",
       "\n",
       "    .dataframe tbody tr th {\n",
       "        vertical-align: top;\n",
       "    }\n",
       "\n",
       "    .dataframe thead th {\n",
       "        text-align: right;\n",
       "    }\n",
       "</style>\n",
       "<table border=\"1\" class=\"dataframe\">\n",
       "  <thead>\n",
       "    <tr style=\"text-align: right;\">\n",
       "      <th></th>\n",
       "      <th>Date</th>\n",
       "      <th>Type</th>\n",
       "      <th>Country</th>\n",
       "      <th>State</th>\n",
       "      <th>Location</th>\n",
       "      <th>Activity</th>\n",
       "      <th>Name</th>\n",
       "      <th>Sex</th>\n",
       "      <th>Age</th>\n",
       "      <th>Injury</th>\n",
       "      <th>Fatal Y/N</th>\n",
       "      <th>Time</th>\n",
       "      <th>Species</th>\n",
       "      <th>Source</th>\n",
       "      <th>pdf</th>\n",
       "      <th>href formula</th>\n",
       "      <th>href</th>\n",
       "      <th>Case Number</th>\n",
       "      <th>Case Number.1</th>\n",
       "      <th>Unnamed: 21</th>\n",
       "      <th>Unnamed: 22</th>\n",
       "    </tr>\n",
       "  </thead>\n",
       "  <tbody>\n",
       "    <tr>\n",
       "      <th>count</th>\n",
       "      <td>7012</td>\n",
       "      <td>6994</td>\n",
       "      <td>6962</td>\n",
       "      <td>6527</td>\n",
       "      <td>6446</td>\n",
       "      <td>6427</td>\n",
       "      <td>6793</td>\n",
       "      <td>6433</td>\n",
       "      <td>4018</td>\n",
       "      <td>6977</td>\n",
       "      <td>6451</td>\n",
       "      <td>3486</td>\n",
       "      <td>3881</td>\n",
       "      <td>6993</td>\n",
       "      <td>6799</td>\n",
       "      <td>6794</td>\n",
       "      <td>6796</td>\n",
       "      <td>6798</td>\n",
       "      <td>6797</td>\n",
       "      <td>1</td>\n",
       "      <td>2</td>\n",
       "    </tr>\n",
       "    <tr>\n",
       "      <th>unique</th>\n",
       "      <td>6057</td>\n",
       "      <td>12</td>\n",
       "      <td>242</td>\n",
       "      <td>926</td>\n",
       "      <td>4570</td>\n",
       "      <td>1604</td>\n",
       "      <td>5742</td>\n",
       "      <td>10</td>\n",
       "      <td>249</td>\n",
       "      <td>4139</td>\n",
       "      <td>12</td>\n",
       "      <td>444</td>\n",
       "      <td>1712</td>\n",
       "      <td>5356</td>\n",
       "      <td>6789</td>\n",
       "      <td>6784</td>\n",
       "      <td>6776</td>\n",
       "      <td>6777</td>\n",
       "      <td>6775</td>\n",
       "      <td>1</td>\n",
       "      <td>2</td>\n",
       "    </tr>\n",
       "    <tr>\n",
       "      <th>top</th>\n",
       "      <td>1957</td>\n",
       "      <td>Unprovoked</td>\n",
       "      <td>USA</td>\n",
       "      <td>Florida</td>\n",
       "      <td>New Smyrna Beach, Volusia County</td>\n",
       "      <td>Surfing</td>\n",
       "      <td>male</td>\n",
       "      <td>M</td>\n",
       "      <td>16</td>\n",
       "      <td>FATAL</td>\n",
       "      <td>N</td>\n",
       "      <td>Afternoon</td>\n",
       "      <td>White shark</td>\n",
       "      <td>K. McMurray, TrackingSharks.com</td>\n",
       "      <td>1907.10.16.R-HongKong.pdf</td>\n",
       "      <td>http://sharkattackfile.net/spreadsheets/pdf_di...</td>\n",
       "      <td>http://sharkattackfile.net/spreadsheets/pdf_di...</td>\n",
       "      <td>2021.07.23</td>\n",
       "      <td>2012.09.02.b</td>\n",
       "      <td>stopped here</td>\n",
       "      <td>Teramo</td>\n",
       "    </tr>\n",
       "    <tr>\n",
       "      <th>freq</th>\n",
       "      <td>9</td>\n",
       "      <td>5170</td>\n",
       "      <td>2558</td>\n",
       "      <td>1186</td>\n",
       "      <td>191</td>\n",
       "      <td>1133</td>\n",
       "      <td>679</td>\n",
       "      <td>5624</td>\n",
       "      <td>92</td>\n",
       "      <td>863</td>\n",
       "      <td>4883</td>\n",
       "      <td>215</td>\n",
       "      <td>194</td>\n",
       "      <td>131</td>\n",
       "      <td>2</td>\n",
       "      <td>2</td>\n",
       "      <td>4</td>\n",
       "      <td>2</td>\n",
       "      <td>2</td>\n",
       "      <td>1</td>\n",
       "      <td>1</td>\n",
       "    </tr>\n",
       "  </tbody>\n",
       "</table>\n",
       "</div>"
      ],
      "text/plain": [
       "        Date        Type Country    State                          Location  \\\n",
       "count   7012        6994    6962     6527                              6446   \n",
       "unique  6057          12     242      926                              4570   \n",
       "top     1957  Unprovoked     USA  Florida  New Smyrna Beach, Volusia County   \n",
       "freq       9        5170    2558     1186                               191   \n",
       "\n",
       "       Activity  Name   Sex   Age Injury Fatal Y/N       Time     Species   \\\n",
       "count      6427  6793  6433  4018   6977      6451       3486         3881   \n",
       "unique     1604  5742    10   249   4139        12        444         1712   \n",
       "top     Surfing  male     M    16  FATAL         N  Afternoon  White shark   \n",
       "freq       1133   679  5624    92    863      4883        215          194   \n",
       "\n",
       "                                 Source                        pdf  \\\n",
       "count                              6993                       6799   \n",
       "unique                             5356                       6789   \n",
       "top     K. McMurray, TrackingSharks.com  1907.10.16.R-HongKong.pdf   \n",
       "freq                                131                          2   \n",
       "\n",
       "                                             href formula  \\\n",
       "count                                                6794   \n",
       "unique                                               6784   \n",
       "top     http://sharkattackfile.net/spreadsheets/pdf_di...   \n",
       "freq                                                    2   \n",
       "\n",
       "                                                     href Case Number  \\\n",
       "count                                                6796        6798   \n",
       "unique                                               6776        6777   \n",
       "top     http://sharkattackfile.net/spreadsheets/pdf_di...  2021.07.23   \n",
       "freq                                                    4           2   \n",
       "\n",
       "       Case Number.1   Unnamed: 21 Unnamed: 22  \n",
       "count           6797             1           2  \n",
       "unique          6775             1           2  \n",
       "top     2012.09.02.b  stopped here      Teramo  \n",
       "freq               2             1           1  "
      ]
     },
     "execution_count": 192,
     "metadata": {},
     "output_type": "execute_result"
    }
   ],
   "source": [
    "df.describe(include= \"object\")"
   ]
  },
  {
   "cell_type": "code",
   "execution_count": 193,
   "metadata": {},
   "outputs": [
    {
     "data": {
      "text/html": [
       "<div>\n",
       "<style scoped>\n",
       "    .dataframe tbody tr th:only-of-type {\n",
       "        vertical-align: middle;\n",
       "    }\n",
       "\n",
       "    .dataframe tbody tr th {\n",
       "        vertical-align: top;\n",
       "    }\n",
       "\n",
       "    .dataframe thead th {\n",
       "        text-align: right;\n",
       "    }\n",
       "</style>\n",
       "<table border=\"1\" class=\"dataframe\">\n",
       "  <thead>\n",
       "    <tr style=\"text-align: right;\">\n",
       "      <th></th>\n",
       "      <th>Date</th>\n",
       "      <th>Year</th>\n",
       "      <th>Type</th>\n",
       "      <th>Country</th>\n",
       "      <th>State</th>\n",
       "      <th>Location</th>\n",
       "      <th>Activity</th>\n",
       "      <th>Name</th>\n",
       "      <th>Sex</th>\n",
       "      <th>Age</th>\n",
       "      <th>Injury</th>\n",
       "      <th>Fatal Y/N</th>\n",
       "      <th>Time</th>\n",
       "      <th>Species</th>\n",
       "      <th>Source</th>\n",
       "      <th>pdf</th>\n",
       "      <th>href formula</th>\n",
       "      <th>href</th>\n",
       "      <th>Case Number</th>\n",
       "      <th>Case Number.1</th>\n",
       "      <th>original order</th>\n",
       "      <th>Unnamed: 21</th>\n",
       "      <th>Unnamed: 22</th>\n",
       "    </tr>\n",
       "  </thead>\n",
       "  <tbody>\n",
       "    <tr>\n",
       "      <th>0</th>\n",
       "      <td>2025-04-19 00:00:00</td>\n",
       "      <td>2025.0</td>\n",
       "      <td>Unprovoked</td>\n",
       "      <td>Maldives</td>\n",
       "      <td>Kulhudhuffushi City</td>\n",
       "      <td>Haa Dhaalu atoll</td>\n",
       "      <td>snorkeling</td>\n",
       "      <td>Unknown Male</td>\n",
       "      <td>M</td>\n",
       "      <td>30</td>\n",
       "      <td>Injuries to right shoulder</td>\n",
       "      <td>N</td>\n",
       "      <td>Not stated</td>\n",
       "      <td>Not stated</td>\n",
       "      <td>Todd Smith: The edition: https://en.sun.mv/96031</td>\n",
       "      <td>NaN</td>\n",
       "      <td>NaN</td>\n",
       "      <td>NaN</td>\n",
       "      <td>NaN</td>\n",
       "      <td>NaN</td>\n",
       "      <td>NaN</td>\n",
       "      <td>NaN</td>\n",
       "      <td>NaN</td>\n",
       "    </tr>\n",
       "    <tr>\n",
       "      <th>1</th>\n",
       "      <td>2025-04-12 00:00:00</td>\n",
       "      <td>2025.0</td>\n",
       "      <td>Unprovoked</td>\n",
       "      <td>USA</td>\n",
       "      <td>Florida</td>\n",
       "      <td>Everglades National Park Flamingo Lodge Highwa...</td>\n",
       "      <td>Undisclosed</td>\n",
       "      <td>Unknown Male</td>\n",
       "      <td>M</td>\n",
       "      <td>?</td>\n",
       "      <td>Injuries to right hand and arm</td>\n",
       "      <td>N</td>\n",
       "      <td>1500hrs</td>\n",
       "      <td>Not stated</td>\n",
       "      <td>Kevin McMurray Trackingsharks.com: Florida New...</td>\n",
       "      <td>NaN</td>\n",
       "      <td>NaN</td>\n",
       "      <td>NaN</td>\n",
       "      <td>NaN</td>\n",
       "      <td>NaN</td>\n",
       "      <td>NaN</td>\n",
       "      <td>NaN</td>\n",
       "      <td>NaN</td>\n",
       "    </tr>\n",
       "    <tr>\n",
       "      <th>2</th>\n",
       "      <td>2025-03-26 00:00:00</td>\n",
       "      <td>2025.0</td>\n",
       "      <td>Unprovoked</td>\n",
       "      <td>Australia</td>\n",
       "      <td>WA</td>\n",
       "      <td>Sandtrax Port Beach North Fremantle Perth</td>\n",
       "      <td>Swimming</td>\n",
       "      <td>Unknown Male</td>\n",
       "      <td>M</td>\n",
       "      <td>30+</td>\n",
       "      <td>Bumping to the body</td>\n",
       "      <td>N</td>\n",
       "      <td>1430hrs</td>\n",
       "      <td>1.5m Tiger shark</td>\n",
       "      <td>Kevin McMurray Trackingsharks.com: www.surfer....</td>\n",
       "      <td>NaN</td>\n",
       "      <td>NaN</td>\n",
       "      <td>NaN</td>\n",
       "      <td>NaN</td>\n",
       "      <td>NaN</td>\n",
       "      <td>NaN</td>\n",
       "      <td>NaN</td>\n",
       "      <td>NaN</td>\n",
       "    </tr>\n",
       "  </tbody>\n",
       "</table>\n",
       "</div>"
      ],
      "text/plain": [
       "                  Date    Year        Type    Country                State  \\\n",
       "0  2025-04-19 00:00:00  2025.0  Unprovoked   Maldives  Kulhudhuffushi City   \n",
       "1  2025-04-12 00:00:00  2025.0  Unprovoked        USA              Florida   \n",
       "2  2025-03-26 00:00:00  2025.0  Unprovoked  Australia                   WA   \n",
       "\n",
       "                                            Location     Activity  \\\n",
       "0                                   Haa Dhaalu atoll   snorkeling   \n",
       "1  Everglades National Park Flamingo Lodge Highwa...  Undisclosed   \n",
       "2          Sandtrax Port Beach North Fremantle Perth     Swimming   \n",
       "\n",
       "           Name Sex  Age                          Injury Fatal Y/N  \\\n",
       "0  Unknown Male   M   30      Injuries to right shoulder         N   \n",
       "1  Unknown Male   M    ?  Injuries to right hand and arm         N   \n",
       "2  Unknown Male   M  30+             Bumping to the body         N   \n",
       "\n",
       "         Time          Species   \\\n",
       "0  Not stated        Not stated   \n",
       "1     1500hrs        Not stated   \n",
       "2     1430hrs  1.5m Tiger shark   \n",
       "\n",
       "                                              Source  pdf href formula href  \\\n",
       "0   Todd Smith: The edition: https://en.sun.mv/96031  NaN          NaN  NaN   \n",
       "1  Kevin McMurray Trackingsharks.com: Florida New...  NaN          NaN  NaN   \n",
       "2  Kevin McMurray Trackingsharks.com: www.surfer....  NaN          NaN  NaN   \n",
       "\n",
       "  Case Number Case Number.1  original order Unnamed: 21 Unnamed: 22  \n",
       "0         NaN           NaN             NaN         NaN         NaN  \n",
       "1         NaN           NaN             NaN         NaN         NaN  \n",
       "2         NaN           NaN             NaN         NaN         NaN  "
      ]
     },
     "execution_count": 193,
     "metadata": {},
     "output_type": "execute_result"
    }
   ],
   "source": [
    "df.head(3)"
   ]
  },
  {
   "cell_type": "code",
   "execution_count": 194,
   "metadata": {},
   "outputs": [
    {
     "data": {
      "text/plain": [
       "Date                 0\n",
       "Year                 2\n",
       "Type                18\n",
       "Country             50\n",
       "State              485\n",
       "Location           566\n",
       "Activity           585\n",
       "Name               219\n",
       "Sex                579\n",
       "Age               2994\n",
       "Injury              35\n",
       "Fatal Y/N          561\n",
       "Time              3526\n",
       "Species           3131\n",
       "Source              19\n",
       "pdf                213\n",
       "href formula       218\n",
       "href               216\n",
       "Case Number        214\n",
       "Case Number.1      215\n",
       "original order     213\n",
       "Unnamed: 21       7011\n",
       "Unnamed: 22       7010\n",
       "dtype: int64"
      ]
     },
     "execution_count": 194,
     "metadata": {},
     "output_type": "execute_result"
    }
   ],
   "source": [
    "#ver por columnas la cantidad valores nulos\n",
    "df.isna().sum()"
   ]
  },
  {
   "cell_type": "markdown",
   "metadata": {},
   "source": [
    "no hay ninguna columna completamente vacia, unnamed: 21 tiene 2 y unnamed: 22 tene 3"
   ]
  },
  {
   "cell_type": "code",
   "execution_count": 195,
   "metadata": {},
   "outputs": [],
   "source": [
    "#eliminar columnas completamente vacías\n",
    "df.dropna(axis=1, how='all', inplace=True)"
   ]
  },
  {
   "cell_type": "code",
   "execution_count": 196,
   "metadata": {},
   "outputs": [],
   "source": [
    "#eliminar filas completamente vacías\n",
    "df.dropna(axis=0, how='all', inplace=True)"
   ]
  },
  {
   "cell_type": "code",
   "execution_count": 197,
   "metadata": {},
   "outputs": [],
   "source": [
    "#empiezo con columnas, en str, minusculas y reemplazando espacio por _\n",
    "df.columns = (df.columns.str.strip().str.lower().str.replace(\" \", \"_\"))"
   ]
  },
  {
   "cell_type": "code",
   "execution_count": 198,
   "metadata": {},
   "outputs": [
    {
     "data": {
      "text/plain": [
       "Index(['date', 'year', 'type', 'country', 'state', 'location', 'activity',\n",
       "       'name', 'sex', 'age', 'injury', 'fatal_y/n', 'time', 'species',\n",
       "       'source', 'pdf', 'href_formula', 'href', 'case_number', 'case_number.1',\n",
       "       'original_order', 'unnamed:_21', 'unnamed:_22'],\n",
       "      dtype='object')"
      ]
     },
     "execution_count": 198,
     "metadata": {},
     "output_type": "execute_result"
    }
   ],
   "source": [
    "df.columns"
   ]
  },
  {
   "cell_type": "code",
   "execution_count": 199,
   "metadata": {},
   "outputs": [
    {
     "data": {
      "text/plain": [
       "date              6057\n",
       "year               261\n",
       "type                12\n",
       "country            242\n",
       "state              926\n",
       "location          4570\n",
       "activity          1604\n",
       "name              5742\n",
       "sex                 10\n",
       "age                249\n",
       "injury            4139\n",
       "fatal_y/n           12\n",
       "time               444\n",
       "species           1712\n",
       "source            5356\n",
       "pdf               6789\n",
       "href_formula      6784\n",
       "href              6776\n",
       "case_number       6777\n",
       "case_number.1     6775\n",
       "original_order    6797\n",
       "unnamed:_21          1\n",
       "unnamed:_22          2\n",
       "dtype: int64"
      ]
     },
     "execution_count": 199,
     "metadata": {},
     "output_type": "execute_result"
    }
   ],
   "source": [
    "df.nunique()"
   ]
  },
  {
   "cell_type": "code",
   "execution_count": 200,
   "metadata": {},
   "outputs": [
    {
     "data": {
      "text/plain": [
       "0"
      ]
     },
     "execution_count": 200,
     "metadata": {},
     "output_type": "execute_result"
    }
   ],
   "source": [
    "df.duplicated().sum()"
   ]
  },
  {
   "cell_type": "code",
   "execution_count": 201,
   "metadata": {},
   "outputs": [
    {
     "data": {
      "text/plain": [
       "False"
      ]
     },
     "execution_count": 201,
     "metadata": {},
     "output_type": "execute_result"
    }
   ],
   "source": [
    "df.duplicated().any()"
   ]
  },
  {
   "cell_type": "code",
   "execution_count": 202,
   "metadata": {},
   "outputs": [],
   "source": [
    "df = df.drop(['location','state','source', 'pdf', 'href_formula', 'href', 'case_number', 'case_number.1', 'original_order', 'unnamed:_21', 'unnamed:_22'], axis=1)"
   ]
  },
  {
   "cell_type": "code",
   "execution_count": 203,
   "metadata": {},
   "outputs": [
    {
     "data": {
      "text/plain": [
       "Index(['date', 'year', 'type', 'country', 'activity', 'name', 'sex', 'age',\n",
       "       'injury', 'fatal_y/n', 'time', 'species'],\n",
       "      dtype='object')"
      ]
     },
     "execution_count": 203,
     "metadata": {},
     "output_type": "execute_result"
    }
   ],
   "source": [
    "df.columns"
   ]
  },
  {
   "cell_type": "code",
   "execution_count": 204,
   "metadata": {},
   "outputs": [],
   "source": [
    "df.columns = df.columns.str.replace(\"fatal_y/n\", \"fatal\")"
   ]
  },
  {
   "cell_type": "code",
   "execution_count": 205,
   "metadata": {},
   "outputs": [
    {
     "data": {
      "text/plain": [
       "Index(['date', 'year', 'type', 'country', 'activity', 'name', 'sex', 'age',\n",
       "       'injury', 'fatal', 'time', 'species'],\n",
       "      dtype='object')"
      ]
     },
     "execution_count": 205,
     "metadata": {},
     "output_type": "execute_result"
    }
   ],
   "source": [
    "df.columns"
   ]
  },
  {
   "cell_type": "code",
   "execution_count": 206,
   "metadata": {},
   "outputs": [
    {
     "data": {
      "text/plain": [
       "array(['M', 'F ', 'F', 'M ', nan, ' M', 'm', 'lli', 'M x 2', 'N', '.'],\n",
       "      dtype=object)"
      ]
     },
     "execution_count": 206,
     "metadata": {},
     "output_type": "execute_result"
    }
   ],
   "source": [
    "df['sex'].unique()"
   ]
  },
  {
   "cell_type": "code",
   "execution_count": 207,
   "metadata": {},
   "outputs": [
    {
     "data": {
      "text/plain": [
       "array(['M', 'F', nan], dtype=object)"
      ]
     },
     "execution_count": 207,
     "metadata": {},
     "output_type": "execute_result"
    }
   ],
   "source": [
    "#limpiando sex\n",
    "df['sex'] = df['sex'].map({'F ': 'F','F': 'F', '.': \"F\", 'M': 'M', 'M ': 'M', ' M': 'M', 'm': 'M', 'lli': 'M', 'M x 2': 'M', 'N': 'M'})\n",
    "df['sex'].unique()"
   ]
  },
  {
   "cell_type": "markdown",
   "metadata": {},
   "source": [
    "## Borja"
   ]
  },
  {
   "cell_type": "code",
   "execution_count": 208,
   "metadata": {},
   "outputs": [],
   "source": [
    "\n",
    "df['country'] = df['country'].astype(str).str.strip().str.lower()\n",
    "\n",
    "# 3. Mapeo específico para los países que aparecen en tu dataset\n",
    "mapeo_paises = {\n",
    "    # --- UNITED STATES ---\n",
    "    'usa': 'united states',\n",
    "    'hawaii': 'united states',\n",
    "    'johnston island': 'united states',\n",
    "    'guam': 'united states',\n",
    "    'puerto rico': 'united states',\n",
    "    'northern mariana islands': 'united states',\n",
    "    'johnston atoll': 'united states',\n",
    "    'american samoa': 'united states',\n",
    "\n",
    "    # --- UNITED KINGDOM ---\n",
    "    'england': 'united kingdom',\n",
    "    'scotland': 'united kingdom',\n",
    "    'british isles': 'united kingdom',\n",
    "    'saint helena': 'united kingdom',\n",
    "    'cayman islands': 'united kingdom',\n",
    "    'turks and caicos islands': 'united kingdom',\n",
    "    'british indian ocean territory': 'united kingdom',\n",
    "    'british virgin islands': 'united kingdom',\n",
    "    'bermuda': 'united kingdom',\n",
    "    'british overseas territory': 'united kingdom',\n",
    "    'falkland islands': 'united kingdom',\n",
    "\n",
    "    # --- FRANCE ---\n",
    "    'reunion': 'france',\n",
    "    'reunion island': 'france',\n",
    "    'new caledonia': 'france',\n",
    "    'french polynesia': 'france',\n",
    "    'mayotte': 'france',\n",
    "    'martinique': 'france',\n",
    "    'saint martin': 'france',\n",
    "\n",
    "    # --- NETHERLANDS ---\n",
    "    'aruba': 'netherlands',\n",
    "    'curacao': 'netherlands',\n",
    "    'netherlands antilles': 'netherlands',\n",
    "\n",
    "    # --- PORTUGAL ---\n",
    "    'azores': 'portugal',\n",
    "\n",
    "    # --- SPAIN ---\n",
    "    # (nada a mapear en este caso específico)\n",
    "\n",
    "    # --- INDIA ---\n",
    "    'andaman islands': 'india',\n",
    "    'andaman / nicobar islandas': 'india',\n",
    "    'indian ocean?': 'india',\n",
    "    'west indies': None,  # También lo usaban para el Caribe\n",
    "\n",
    "    # --- SRI LANKA ---\n",
    "    'ceylon': 'sri lanka',\n",
    "    'ceylon (sri lanka)': 'sri lanka',\n",
    "\n",
    "    # --- SAMOA ---\n",
    "    'western samoa': 'samoa',\n",
    "\n",
    "    # --- JAPAN ---\n",
    "    'okinawa': 'japan',\n",
    "\n",
    "    # --- SOUTH KOREA ---\n",
    "    'korea': 'south korea',\n",
    "\n",
    "    # --- PALESTINE ---\n",
    "    'palestinian territories': 'palestine',\n",
    "    'palestine': 'palestine',\n",
    "\n",
    "    # --- BRAZIL ---\n",
    "    # (nada a mapear)\n",
    "\n",
    "    # --- COLOMBIA ---\n",
    "    'columbia': 'colombia',\n",
    "\n",
    "    # --- TRINIDAD & TOBAGO ---\n",
    "    'trinidad': 'trinidad and tobago',\n",
    "    'tobago': 'trinidad and tobago',\n",
    "    'trinidad & tobago': 'trinidad and tobago',\n",
    "\n",
    "    # --- HONDURAS ---\n",
    "    'roatan': 'honduras',\n",
    "\n",
    "    # --- CABO VERDE ---\n",
    "    'cape verde': 'cabo verde',\n",
    "\n",
    "    # --- MYANMAR ---\n",
    "    'burma': 'myanmar',\n",
    "\n",
    "    # --- BAHRAIN ---\n",
    "    'bahrein': 'bahrain',\n",
    "\n",
    "    # --- MICRONESIA ---\n",
    "    'federated states of micronesia': 'micronesia',\n",
    "\n",
    "    # --- PAPUA NEW GUINEA ---\n",
    "    'new britain': 'papua new guinea',\n",
    "    'admiralty islands': 'papua new guinea',\n",
    "    'british new guinea': 'papua new guinea',\n",
    "    'new guinea': 'papua new guinea',\n",
    "\n",
    "    # --- GREECE ---\n",
    "    'crete': 'greece',\n",
    "\n",
    "    # --- DENMARK ---\n",
    "    'greenland': 'denmark',\n",
    "\n",
    "    # --- CHINA ---\n",
    "    'hong kong': 'china',\n",
    "\n",
    "    # --- OCEAN / REGIONES MARÍTIMAS AMBIGUAS --- (todo esto se convierte en None)\n",
    "    'pacific ocean': None,\n",
    "    'atlantic ocean': None,\n",
    "    'caribbean sea': None,\n",
    "    'coral sea': None,\n",
    "    'tasman sea': None,\n",
    "    'north atlantic ocean': None,\n",
    "    'north sea': None,\n",
    "    'south china sea': None,\n",
    "    'mid-pacifc ocean': None,\n",
    "    'mid atlantic ocean': None,\n",
    "    'mediterranean sea': None,\n",
    "    'gulf of aden': None,\n",
    "    'bay of bengal': None,\n",
    "    'persian gulf': None,\n",
    "    'red sea': None,\n",
    "    'red sea?': None,\n",
    "    'indian ocean': None,\n",
    "    'indian ocean?': None,\n",
    "    'south atlantic ocean': None,\n",
    "    'south pacific ocean': None,\n",
    "    'north pacific ocean': None,\n",
    "    'central pacific': None,\n",
    "    'southwest pacific ocean': None,\n",
    "\n",
    "    # --- REGIONES GEOGRÁFICAS INDEFINIDAS ---\n",
    "    'coast of africa': None,\n",
    "    'africa': None,\n",
    "    'the balkans': None,\n",
    "    'ocean': None,\n",
    "    'between portugal & india': None,\n",
    "    'british west indies': None,\n",
    "    'asia?': None,\n",
    "    'equatorial guinea / cameroon': None,\n",
    "    'egypt / israel': None,\n",
    "    'iran / iraq': None,\n",
    "    'italy / croatia': None,\n",
    "    'solomon islands / vanuatu': None,\n",
    "\n",
    "    # --- ISLAS O TERRITORIOS MENORES (claros) ---\n",
    "    'cook islands': 'new zealand',\n",
    "    'cook island': None,  # Dato suelto o error tipográfico\n",
    "\n",
    "    # --- NULOS / INDETERMINADOS ---\n",
    "    'nan': None,\n",
    "    None: None,\n",
    "    'maldive islands': 'maldives',\n",
    "    'turks and caicos': 'turks and caicos islands',\n",
    "    'turks & caicos': 'turks and caicos islands',\n",
    "    'united arab emirates (uae)': 'united arab emirates',\n",
    "    'st martin': 'saint martin',\n",
    "    'st. martin': 'saint martin',\n",
    "    'st. maartin': 'saint martin',\n",
    "    'grand cayman': 'cayman islands',\n",
    "    'nevis': 'saint kitts and nevis',\n",
    "    'st kitts / nevis': 'saint kitts and nevis',\n",
    "    'diego garcia': 'british indian ocean territory',\n",
    "    'java': 'indonesia',\n",
    "    'san domingo': 'dominican republic',\n",
    "\n",
    "    # Marinos o ambiguos que deben descartarse\n",
    "    'northern arabian sea': None,\n",
    "    'red sea / indian ocean': None,\n",
    "    'sudan?': 'sudan' \n",
    "}\n",
    "\n",
    "# 4. Aplicar el mapeo\n",
    "df['country'] = df['country'].replace(mapeo_paises)"
   ]
  },
  {
   "cell_type": "code",
   "execution_count": 209,
   "metadata": {},
   "outputs": [
    {
     "data": {
      "text/plain": [
       "array(['maldives', 'united states', 'australia', 'philippines', 'bahamas',\n",
       "       'turks and caicos islands', 'mozambique', 'france', 'egypt',\n",
       "       'thailand', 'new zealand', 'honduras', 'indonesia', 'morocco',\n",
       "       'jamaica', 'belize', 'trinidad and tobago', 'india',\n",
       "       'south africa', 'mexico', None, 'spain', 'portugal', 'samoa',\n",
       "       'colombia', 'ecuador', 'cuba', 'brazil', 'seychelles', 'argentina',\n",
       "       'fiji', 'united kingdom', 'japan', 'costa rica', 'canada',\n",
       "       'jordan', 'saint kitts and nevis', 'saint martin',\n",
       "       'papua new guinea', 'israel', 'china', 'ireland', 'italy',\n",
       "       'malaysia', 'libya', 'mauritius', 'solomon islands',\n",
       "       'st helena, british overseas territory', 'comoros',\n",
       "       'united arab emirates', 'cabo verde', 'dominican republic',\n",
       "       'netherlands', 'greece', 'kiribati',\n",
       "       'british indian ocean territory', 'taiwan', 'palestine', 'nigeria',\n",
       "       'tonga', 'croatia', 'saudi arabia', 'chile', 'antigua', 'kenya',\n",
       "       'russia', 'south korea', 'malta', 'vietnam', 'madagascar',\n",
       "       'panama', 'somalia', 'norway', 'senegal', 'yemen', 'sierra leone',\n",
       "       'cayman islands', 'liberia', 'vanuatu', 'venezuela', 'sri lanka',\n",
       "       'uruguay', 'micronesia', 'tanzania', 'marshall islands',\n",
       "       'el salvador', 'angola', 'montenegro', 'iran', 'tunisia',\n",
       "       'namibia', 'bangladesh', 'palau', 'grenada', 'iraq', 'turkey',\n",
       "       'singapore', 'sudan', 'nicaragua', 'gabon', 'guatemala',\n",
       "       'slovenia', 'iceland', 'barbados', 'monaco', 'guyana', 'haiti',\n",
       "       'kuwait', 'cyprus', 'myanmar', 'lebanon', 'paraguay', 'georgia',\n",
       "       'syria', 'tuvalu', 'guinea', 'peru', 'algeria', 'ghana', 'denmark',\n",
       "       'sweden', 'djibouti', 'bahrain'], dtype=object)"
      ]
     },
     "execution_count": 209,
     "metadata": {},
     "output_type": "execute_result"
    }
   ],
   "source": [
    "df['country'].unique()"
   ]
  },
  {
   "cell_type": "code",
   "execution_count": 210,
   "metadata": {},
   "outputs": [
    {
     "data": {
      "text/plain": [
       "1544"
      ]
     },
     "execution_count": 210,
     "metadata": {},
     "output_type": "execute_result"
    }
   ],
   "source": [
    "#limpiando activity, todas sean str, sin espacios y en minusculas\n",
    "df['activity'] = df['activity'].astype(str).str.strip().str.lower()\n",
    "df['activity'].nunique()"
   ]
  },
  {
   "cell_type": "code",
   "execution_count": 211,
   "metadata": {},
   "outputs": [
    {
     "data": {
      "text/plain": [
       "4048"
      ]
     },
     "execution_count": 211,
     "metadata": {},
     "output_type": "execute_result"
    }
   ],
   "source": [
    "#limpiando injury, todas sean str, sin espacios y en minusculas\n",
    "df['injury'] = df['injury'].astype(str).str.strip().str.lower()\n",
    "df['injury'].nunique()"
   ]
  },
  {
   "cell_type": "code",
   "execution_count": 213,
   "metadata": {},
   "outputs": [],
   "source": [
    "def categorize_injury(injury):\n",
    "    if pd.isna(injury):\n",
    "        return 'Unknown'\n",
    "\n",
    "    injury = injury.lower()\n",
    "\n",
    "    if 'fatal' in injury or 'died' in injury or 'death' in injury:\n",
    "        return 'Fatal'\n",
    "    elif 'serious' in injury or 'severed' in injury or 'critical' in injury:\n",
    "        return 'Serious injury'\n",
    "    elif 'no injury' in injury or 'uninjured' in injury or 'not injured' in injury or 'no' in injury:\n",
    "        return 'No injury'\n",
    "    elif 'minor' in injury or 'superficial' in injury or 'lower' in injury:\n",
    "        return 'Minor injury'\n",
    "    elif 'leg' in injury or 'foot' in injury or 'thigh' in injury or 'ankle' in injury or 'calf' in injury:\n",
    "        return 'Injury to the lower trunk'\n",
    "    elif 'arm' in injury or 'hand' in injury:\n",
    "        return 'Injury to the upper trunk'\n",
    "    elif 'lacerations' in injury or 'lacerated' in injury or 'laceration' in injury:\n",
    "        return 'Laceration'\n",
    "    elif 'injury' in injury or 'bitten' in injury:\n",
    "        return 'Unknown type of injury'\n",
    "    elif 'unknown' in injury or 'n/a' in injury:\n",
    "        return 'Unknown'\n",
    "    else:\n",
    "        return 'Other'\n",
    "\n",
    "df['injury'] = df['injury'].apply(categorize_injury)"
   ]
  },
  {
   "cell_type": "code",
   "execution_count": null,
   "metadata": {},
   "outputs": [
    {
     "data": {
      "text/plain": [
       "array(['No', 'Yes', nan], dtype=object)"
      ]
     },
     "execution_count": 166,
     "metadata": {},
     "output_type": "execute_result"
    }
   ],
   "source": [
    "#limpiando fatal, todas sean str, sin espacios y en mayusculas\n",
    "df['fatal'] = df['fatal'].astype(str).str.strip().str.upper()\n",
    "#tambien uso map para cambiar las Y a YES y N a NO\n",
    "df['fatal'] = df['fatal'].map({'Y': 'Yes', 'N': 'No',})\n",
    "df['fatal'].unique()"
   ]
  },
  {
   "cell_type": "code",
   "execution_count": null,
   "metadata": {},
   "outputs": [
    {
     "data": {
      "text/plain": [
       "hour\n",
       "00      1\n",
       "01      8\n",
       "02      9\n",
       "03     11\n",
       "04      6\n",
       "05     12\n",
       "06     50\n",
       "07    106\n",
       "08    121\n",
       "09    146\n",
       "10    225\n",
       "11    306\n",
       "12    233\n",
       "13    244\n",
       "14    274\n",
       "15    278\n",
       "16    296\n",
       "17    232\n",
       "18    144\n",
       "19     62\n",
       "2       2\n",
       "20     39\n",
       "21      6\n",
       "22      6\n",
       "23      9\n",
       "30      1\n",
       "8       1\n",
       "9       3\n",
       "Name: count, dtype: int64"
      ]
     },
     "execution_count": 167,
     "metadata": {},
     "output_type": "execute_result"
    }
   ],
   "source": [
    "#asegurarse de que todos los valores sean strings limpios\n",
    "df['time'] = df['time'].astype(str).str.strip().str.upper()\n",
    "\n",
    "#extraer solo la hora (antes de los dos puntos) o primeros 2 dígitos si es un número tipo \"1530\"\n",
    "df['hour'] = df['time'].str.extract(r'(\\d{1,2})')  # extrae 1 o 2 dígitos iniciales\n",
    "\n",
    "#ver distribución de horas\n",
    "df['hour'].value_counts().sort_index() "
   ]
  },
  {
   "cell_type": "code",
   "execution_count": null,
   "metadata": {},
   "outputs": [],
   "source": [
    "# Primero aseguramos que hour es string (en caso de haberlo convertido antes a int)\n",
    "df['hour'] = df['hour'].astype(str).str.zfill(2)  # asegura dos dígitos (por ejemplo, 3 → '03')\n",
    "\n",
    "# Luego creamos una nueva columna en formato HH:00\n",
    "df['hour_formatted'] = df['hour'] + ':00'"
   ]
  },
  {
   "cell_type": "code",
   "execution_count": null,
   "metadata": {},
   "outputs": [
    {
     "data": {
      "text/plain": [
       "hour_formatted\n",
       "00:00        1\n",
       "01:00        8\n",
       "02:00       11\n",
       "03:00       11\n",
       "04:00        6\n",
       "05:00       12\n",
       "06:00       50\n",
       "07:00      106\n",
       "08:00      122\n",
       "09:00      149\n",
       "10:00      225\n",
       "11:00      306\n",
       "12:00      233\n",
       "13:00      244\n",
       "14:00      274\n",
       "15:00      278\n",
       "16:00      296\n",
       "17:00      232\n",
       "18:00      144\n",
       "19:00       62\n",
       "20:00       39\n",
       "21:00        6\n",
       "22:00        6\n",
       "23:00        9\n",
       "30:00        1\n",
       "nan:00    4181\n",
       "Name: count, dtype: int64"
      ]
     },
     "execution_count": 169,
     "metadata": {},
     "output_type": "execute_result"
    }
   ],
   "source": [
    "df['hour_formatted'].value_counts().sort_index()"
   ]
  },
  {
   "cell_type": "code",
   "execution_count": null,
   "metadata": {},
   "outputs": [],
   "source": [
    "df['hour'] = df['hour_formatted']"
   ]
  },
  {
   "cell_type": "code",
   "execution_count": null,
   "metadata": {},
   "outputs": [],
   "source": [
    "df = df.drop(['hour_formatted','time'], axis=1)"
   ]
  },
  {
   "cell_type": "markdown",
   "metadata": {},
   "source": [
    "## Rocio"
   ]
  },
  {
   "cell_type": "code",
   "execution_count": null,
   "metadata": {},
   "outputs": [],
   "source": [
    "def limpiar_fechas(df):\n",
    "    df['date'] = pd.to_datetime(df['date'], errors='coerce')\n",
    "    df['month'] = df['date'].dt.month\n",
    "    df['year_from_date'] = df['date'].dt.year\n",
    "    df['year'] = df['year'].fillna(df['year_from_date'])\n",
    "    df = df.drop(columns=['date', 'year_from_date'])\n",
    "\n",
    "    return df\n",
    "df=limpiar_fechas(df)"
   ]
  },
  {
   "cell_type": "code",
   "execution_count": null,
   "metadata": {},
   "outputs": [
    {
     "data": {
      "text/plain": [
       "Index(['year', 'type', 'country', 'activity', 'name', 'sex', 'age', 'injury',\n",
       "       'fatal', 'species', 'injury_category', 'hour', 'month'],\n",
       "      dtype='object')"
      ]
     },
     "execution_count": 173,
     "metadata": {},
     "output_type": "execute_result"
    }
   ],
   "source": [
    "df.columns"
   ]
  },
  {
   "cell_type": "code",
   "execution_count": null,
   "metadata": {},
   "outputs": [
    {
     "name": "stdout",
     "output_type": "stream",
     "text": [
      "['Unprovoked' 'Unknown' 'Provoked' 'Watercraft' nan]\n"
     ]
    }
   ],
   "source": [
    "type_r = {\n",
    "    ' Provoked': 'Provoked',\n",
    "    'Questionable': 'Unknown',\n",
    "    '?': 'Unknown',\n",
    "    'Unconfirmed': 'Unknown',\n",
    "    'Unverified': 'Unknown',\n",
    "    'Invalid': 'Unknown',\n",
    "    'Under investigation': 'Unknown',\n",
    "    'Boat': 'Watercraft',\n",
    "    'Sea Disaster': 'Watercraft'  \n",
    "}\n",
    "\n",
    "df['type'] = df['type'].replace(type_r)\n",
    "print(df['type'].unique())"
   ]
  },
  {
   "cell_type": "code",
   "execution_count": null,
   "metadata": {},
   "outputs": [
    {
     "data": {
      "text/plain": [
       "array(['Other', 'Tiger shark', 'Great white shark', 'Bull shark'],\n",
       "      dtype=object)"
      ]
     },
     "execution_count": 175,
     "metadata": {},
     "output_type": "execute_result"
    }
   ],
   "source": [
    "df['species'] = df['species'].str.lower().str.strip()\n",
    "\n",
    "\n",
    "species_r = {\n",
    "    'tiger shark': 'Tiger shark',\n",
    "    \"1.5m tiger shark\": 'Tiger shark',\n",
    "    \"12' tiger shark\": 'Tiger shark',\n",
    "    'great white shark': 'Great white shark',\n",
    "    'bull shark': 'Bull shark'\n",
    "}\n",
    "\n",
    "df['species'] = df['species'].replace(species_r)\n",
    "\n",
    "\n",
    "new_species = []\n",
    "\n",
    "for value in df['species']:\n",
    "    if value == 'Tiger shark':\n",
    "        new_species.append('Tiger shark')\n",
    "    elif value == 'Great white shark':\n",
    "        new_species.append('Great white shark')\n",
    "    elif value == 'Bull shark':\n",
    "        new_species.append('Bull shark')\n",
    "    else:\n",
    "        new_species.append('Other')\n",
    "\n",
    "\n",
    "df['species'] = new_species\n",
    "\n",
    "\n",
    "df['species'].unique()"
   ]
  },
  {
   "cell_type": "code",
   "execution_count": null,
   "metadata": {},
   "outputs": [
    {
     "data": {
      "text/plain": [
       "array(['30', '', '37', '56', '40', '29', '35', '58', '24', '20', '55',\n",
       "       '17', '12', '36', '23', '28', '69', '48', '60', '57', '45', '61',\n",
       "       '27', '38', '16', '68', '33', '15', '41', '14', '26', '18', '21',\n",
       "       '49', '25', '46', '19', '65', '64', '13', '11', '32', '10', '62',\n",
       "       '39', '22', '66', '52', '44', '47', '59', '8', '50', '34', '9',\n",
       "       '2030', '77', '42', '2', '73', '67', '6', '53', '43', '51', '31',\n",
       "       '7', '71', '54', '75', '4515', '70', '4', '63', '2822', '225731',\n",
       "       '74', '960', '3', '82', '72', '2826', '5', '86', '1820', '1213',\n",
       "       '4634', '282330', '3626', '810', '84', '3036', '3337', '2320',\n",
       "       '731', '3230', '1618', '87', '2126', '1822', '912', '2535', '2326',\n",
       "       '1', '2528', '3767352727', '21342435', '3032', '5030', '1735',\n",
       "       '1318', '3419', '3326', '81', '78', '1716', '910', '3623', '1012',\n",
       "       '3133', '1314'], dtype=object)"
      ]
     },
     "execution_count": 176,
     "metadata": {},
     "output_type": "execute_result"
    }
   ],
   "source": [
    "df['age'] = df['age'].astype(str).str.strip()\n",
    "df['age'] = df['age'].str.replace(r'[^\\d]', '', regex=True)\n",
    "df['age'].unique()"
   ]
  },
  {
   "cell_type": "code",
   "execution_count": null,
   "metadata": {},
   "outputs": [
    {
     "data": {
      "text/plain": [
       "array(['30', nan, '37', '56', '40', '29', '35', '58', '24', '20', '55',\n",
       "       '17', '12', '36', '23', '28', '69', '48', '60', '57', '45', '61',\n",
       "       '27', '38', '16', '68', '33', '15', '41', '14', '26', '18', '21',\n",
       "       '49', '25', '46', '19', '65', '64', '13', '11', '32', '10', '62',\n",
       "       '39', '22', '66', '52', '44', '47', '59', '8', '50', '34', '9',\n",
       "       '77', '42', '2', '73', '67', '6', '53', '43', '51', '31', '7',\n",
       "       '71', '54', '75', '70', '4', '63', '74', '96', '3', '82', '72',\n",
       "       '5', '86', '81', '84', '87', '91', '1', '78'], dtype=object)"
      ]
     },
     "execution_count": 177,
     "metadata": {},
     "output_type": "execute_result"
    }
   ],
   "source": [
    "def clean_age(age):\n",
    "    if isinstance(age, str) and len(age) > 2 and age.isdigit():\n",
    "        return age[:2]\n",
    "    else:\n",
    "        return age\n",
    "df['age'] = df['age'].apply(clean_age)\n",
    "df['age'] = df['age'].replace(r'^\\s*$', np.nan, regex=True)\n",
    "df['age'].unique()"
   ]
  },
  {
   "cell_type": "code",
   "execution_count": null,
   "metadata": {},
   "outputs": [
    {
     "data": {
      "text/html": [
       "<div>\n",
       "<style scoped>\n",
       "    .dataframe tbody tr th:only-of-type {\n",
       "        vertical-align: middle;\n",
       "    }\n",
       "\n",
       "    .dataframe tbody tr th {\n",
       "        vertical-align: top;\n",
       "    }\n",
       "\n",
       "    .dataframe thead th {\n",
       "        text-align: right;\n",
       "    }\n",
       "</style>\n",
       "<table border=\"1\" class=\"dataframe\">\n",
       "  <thead>\n",
       "    <tr style=\"text-align: right;\">\n",
       "      <th></th>\n",
       "      <th>year</th>\n",
       "      <th>type</th>\n",
       "      <th>country</th>\n",
       "      <th>activity</th>\n",
       "      <th>name</th>\n",
       "      <th>sex</th>\n",
       "      <th>age</th>\n",
       "      <th>injury</th>\n",
       "      <th>fatal</th>\n",
       "      <th>species</th>\n",
       "      <th>injury_category</th>\n",
       "      <th>hour</th>\n",
       "      <th>month</th>\n",
       "    </tr>\n",
       "  </thead>\n",
       "  <tbody>\n",
       "    <tr>\n",
       "      <th>0</th>\n",
       "      <td>2025.0</td>\n",
       "      <td>Unprovoked</td>\n",
       "      <td>maldives</td>\n",
       "      <td>snorkeling</td>\n",
       "      <td>Unknown Male</td>\n",
       "      <td>M</td>\n",
       "      <td>30</td>\n",
       "      <td>injuries to right shoulder</td>\n",
       "      <td>No</td>\n",
       "      <td>Other</td>\n",
       "      <td>Other</td>\n",
       "      <td>nan:00</td>\n",
       "      <td>4.0</td>\n",
       "    </tr>\n",
       "    <tr>\n",
       "      <th>1</th>\n",
       "      <td>2025.0</td>\n",
       "      <td>Unprovoked</td>\n",
       "      <td>united states</td>\n",
       "      <td>undisclosed</td>\n",
       "      <td>Unknown Male</td>\n",
       "      <td>M</td>\n",
       "      <td>NaN</td>\n",
       "      <td>injuries to right hand and arm</td>\n",
       "      <td>No</td>\n",
       "      <td>Other</td>\n",
       "      <td>Injury to the upper trunk</td>\n",
       "      <td>15:00</td>\n",
       "      <td>4.0</td>\n",
       "    </tr>\n",
       "    <tr>\n",
       "      <th>2</th>\n",
       "      <td>2025.0</td>\n",
       "      <td>Unprovoked</td>\n",
       "      <td>australia</td>\n",
       "      <td>swimming</td>\n",
       "      <td>Unknown Male</td>\n",
       "      <td>M</td>\n",
       "      <td>30</td>\n",
       "      <td>bumping to the body</td>\n",
       "      <td>No</td>\n",
       "      <td>Tiger shark</td>\n",
       "      <td>Other</td>\n",
       "      <td>14:00</td>\n",
       "      <td>3.0</td>\n",
       "    </tr>\n",
       "    <tr>\n",
       "      <th>3</th>\n",
       "      <td>2025.0</td>\n",
       "      <td>Unprovoked</td>\n",
       "      <td>australia</td>\n",
       "      <td>surfing</td>\n",
       "      <td>Steven Jeffrey Payne</td>\n",
       "      <td>M</td>\n",
       "      <td>37</td>\n",
       "      <td>missing body not recovered</td>\n",
       "      <td>Yes</td>\n",
       "      <td>Great white shark</td>\n",
       "      <td>No injury</td>\n",
       "      <td>12:00</td>\n",
       "      <td>3.0</td>\n",
       "    </tr>\n",
       "    <tr>\n",
       "      <th>4</th>\n",
       "      <td>2025.0</td>\n",
       "      <td>Unprovoked</td>\n",
       "      <td>australia</td>\n",
       "      <td>swimming</td>\n",
       "      <td>Mangyong Zhang</td>\n",
       "      <td>F</td>\n",
       "      <td>56</td>\n",
       "      <td>serious lacerations above right knee.</td>\n",
       "      <td>No</td>\n",
       "      <td>Bull shark</td>\n",
       "      <td>Serious injury</td>\n",
       "      <td>13:00</td>\n",
       "      <td>3.0</td>\n",
       "    </tr>\n",
       "  </tbody>\n",
       "</table>\n",
       "</div>"
      ],
      "text/plain": [
       "     year        type        country     activity                  name sex  \\\n",
       "0  2025.0  Unprovoked       maldives   snorkeling          Unknown Male   M   \n",
       "1  2025.0  Unprovoked  united states  undisclosed          Unknown Male   M   \n",
       "2  2025.0  Unprovoked      australia     swimming          Unknown Male   M   \n",
       "3  2025.0  Unprovoked      australia      surfing  Steven Jeffrey Payne   M   \n",
       "4  2025.0  Unprovoked      australia     swimming        Mangyong Zhang   F   \n",
       "\n",
       "   age                                 injury fatal            species  \\\n",
       "0   30             injuries to right shoulder    No              Other   \n",
       "1  NaN         injuries to right hand and arm    No              Other   \n",
       "2   30                    bumping to the body    No        Tiger shark   \n",
       "3   37             missing body not recovered   Yes  Great white shark   \n",
       "4   56  serious lacerations above right knee.    No         Bull shark   \n",
       "\n",
       "             injury_category    hour  month  \n",
       "0                      Other  nan:00    4.0  \n",
       "1  Injury to the upper trunk   15:00    4.0  \n",
       "2                      Other   14:00    3.0  \n",
       "3                  No injury   12:00    3.0  \n",
       "4             Serious injury   13:00    3.0  "
      ]
     },
     "execution_count": 178,
     "metadata": {},
     "output_type": "execute_result"
    }
   ],
   "source": [
    "df.head()"
   ]
  },
  {
   "cell_type": "code",
   "execution_count": null,
   "metadata": {},
   "outputs": [],
   "source": [
    "columnas_ordenadas = ['year','month','hour','country','type','activity','name','sex','age','injury','fatal','species']\n",
    "df = df[columnas_ordenadas]"
   ]
  },
  {
   "cell_type": "code",
   "execution_count": null,
   "metadata": {},
   "outputs": [
    {
     "data": {
      "text/html": [
       "<div>\n",
       "<style scoped>\n",
       "    .dataframe tbody tr th:only-of-type {\n",
       "        vertical-align: middle;\n",
       "    }\n",
       "\n",
       "    .dataframe tbody tr th {\n",
       "        vertical-align: top;\n",
       "    }\n",
       "\n",
       "    .dataframe thead th {\n",
       "        text-align: right;\n",
       "    }\n",
       "</style>\n",
       "<table border=\"1\" class=\"dataframe\">\n",
       "  <thead>\n",
       "    <tr style=\"text-align: right;\">\n",
       "      <th></th>\n",
       "      <th>year</th>\n",
       "      <th>month</th>\n",
       "      <th>hour</th>\n",
       "      <th>country</th>\n",
       "      <th>type</th>\n",
       "      <th>activity</th>\n",
       "      <th>name</th>\n",
       "      <th>sex</th>\n",
       "      <th>age</th>\n",
       "      <th>injury</th>\n",
       "      <th>fatal</th>\n",
       "      <th>species</th>\n",
       "    </tr>\n",
       "  </thead>\n",
       "  <tbody>\n",
       "    <tr>\n",
       "      <th>0</th>\n",
       "      <td>2025.0</td>\n",
       "      <td>4.0</td>\n",
       "      <td>nan:00</td>\n",
       "      <td>maldives</td>\n",
       "      <td>Unprovoked</td>\n",
       "      <td>snorkeling</td>\n",
       "      <td>Unknown Male</td>\n",
       "      <td>M</td>\n",
       "      <td>30</td>\n",
       "      <td>injuries to right shoulder</td>\n",
       "      <td>No</td>\n",
       "      <td>Other</td>\n",
       "    </tr>\n",
       "    <tr>\n",
       "      <th>1</th>\n",
       "      <td>2025.0</td>\n",
       "      <td>4.0</td>\n",
       "      <td>15:00</td>\n",
       "      <td>united states</td>\n",
       "      <td>Unprovoked</td>\n",
       "      <td>undisclosed</td>\n",
       "      <td>Unknown Male</td>\n",
       "      <td>M</td>\n",
       "      <td>NaN</td>\n",
       "      <td>injuries to right hand and arm</td>\n",
       "      <td>No</td>\n",
       "      <td>Other</td>\n",
       "    </tr>\n",
       "    <tr>\n",
       "      <th>2</th>\n",
       "      <td>2025.0</td>\n",
       "      <td>3.0</td>\n",
       "      <td>14:00</td>\n",
       "      <td>australia</td>\n",
       "      <td>Unprovoked</td>\n",
       "      <td>swimming</td>\n",
       "      <td>Unknown Male</td>\n",
       "      <td>M</td>\n",
       "      <td>30</td>\n",
       "      <td>bumping to the body</td>\n",
       "      <td>No</td>\n",
       "      <td>Tiger shark</td>\n",
       "    </tr>\n",
       "    <tr>\n",
       "      <th>3</th>\n",
       "      <td>2025.0</td>\n",
       "      <td>3.0</td>\n",
       "      <td>12:00</td>\n",
       "      <td>australia</td>\n",
       "      <td>Unprovoked</td>\n",
       "      <td>surfing</td>\n",
       "      <td>Steven Jeffrey Payne</td>\n",
       "      <td>M</td>\n",
       "      <td>37</td>\n",
       "      <td>missing body not recovered</td>\n",
       "      <td>Yes</td>\n",
       "      <td>Great white shark</td>\n",
       "    </tr>\n",
       "    <tr>\n",
       "      <th>4</th>\n",
       "      <td>2025.0</td>\n",
       "      <td>3.0</td>\n",
       "      <td>13:00</td>\n",
       "      <td>australia</td>\n",
       "      <td>Unprovoked</td>\n",
       "      <td>swimming</td>\n",
       "      <td>Mangyong Zhang</td>\n",
       "      <td>F</td>\n",
       "      <td>56</td>\n",
       "      <td>serious lacerations above right knee.</td>\n",
       "      <td>No</td>\n",
       "      <td>Bull shark</td>\n",
       "    </tr>\n",
       "  </tbody>\n",
       "</table>\n",
       "</div>"
      ],
      "text/plain": [
       "     year  month    hour        country        type     activity  \\\n",
       "0  2025.0    4.0  nan:00       maldives  Unprovoked   snorkeling   \n",
       "1  2025.0    4.0   15:00  united states  Unprovoked  undisclosed   \n",
       "2  2025.0    3.0   14:00      australia  Unprovoked     swimming   \n",
       "3  2025.0    3.0   12:00      australia  Unprovoked      surfing   \n",
       "4  2025.0    3.0   13:00      australia  Unprovoked     swimming   \n",
       "\n",
       "                   name sex  age                                 injury fatal  \\\n",
       "0          Unknown Male   M   30             injuries to right shoulder    No   \n",
       "1          Unknown Male   M  NaN         injuries to right hand and arm    No   \n",
       "2          Unknown Male   M   30                    bumping to the body    No   \n",
       "3  Steven Jeffrey Payne   M   37             missing body not recovered   Yes   \n",
       "4        Mangyong Zhang   F   56  serious lacerations above right knee.    No   \n",
       "\n",
       "             species  \n",
       "0              Other  \n",
       "1              Other  \n",
       "2        Tiger shark  \n",
       "3  Great white shark  \n",
       "4         Bull shark  "
      ]
     },
     "execution_count": 180,
     "metadata": {},
     "output_type": "execute_result"
    }
   ],
   "source": [
    "df.head()"
   ]
  },
  {
   "cell_type": "code",
   "execution_count": null,
   "metadata": {},
   "outputs": [
    {
     "data": {
      "text/plain": [
       "(7012, 12)"
      ]
     },
     "execution_count": 181,
     "metadata": {},
     "output_type": "execute_result"
    }
   ],
   "source": [
    "df.shape"
   ]
  },
  {
   "cell_type": "code",
   "execution_count": null,
   "metadata": {},
   "outputs": [],
   "source": []
  }
 ],
 "metadata": {
  "kernelspec": {
   "display_name": "base",
   "language": "python",
   "name": "python3"
  },
  "language_info": {
   "codemirror_mode": {
    "name": "ipython",
    "version": 3
   },
   "file_extension": ".py",
   "mimetype": "text/x-python",
   "name": "python",
   "nbconvert_exporter": "python",
   "pygments_lexer": "ipython3",
   "version": "3.12.7"
  }
 },
 "nbformat": 4,
 "nbformat_minor": 2
}
